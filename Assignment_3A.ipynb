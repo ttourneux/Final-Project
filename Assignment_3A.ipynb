{
  "nbformat": 4,
  "nbformat_minor": 0,
  "metadata": {
    "colab": {
      "provenance": [],
      "collapsed_sections": [],
      "include_colab_link": true
    },
    "kernelspec": {
      "name": "python3",
      "display_name": "Python 3"
    },
    "language_info": {
      "name": "python"
    },
    "accelerator": "GPU",
    "gpuClass": "standard"
  },
  "cells": [
    {
      "cell_type": "markdown",
      "metadata": {
        "id": "view-in-github",
        "colab_type": "text"
      },
      "source": [
        "<a href=\"https://colab.research.google.com/github/ttourneux/Final-Project/blob/main/Assignment_3A.ipynb\" target=\"_parent\"><img src=\"https://colab.research.google.com/assets/colab-badge.svg\" alt=\"Open In Colab\"/></a>"
      ]
    },
    {
      "cell_type": "markdown",
      "source": [
        "## questions \n",
        "1. should we call transform on our data or only in get_item? \n",
        "  - we should transform our whole dataset which will be (nsamples, 28,28)\n",
        "\n",
        "2. should our linear classifier be one layer? \n",
        "  - loss is svm loss? Hinge loss\n",
        "  - what part makes it svm or softmax? \n",
        "  - what should the loss function be? should it decrease? \n",
        "\n",
        "3. for data aumentation for part 3, how much do we need for full credit\n",
        "\n",
        "4. should I make a new training loop for the transfer learning? \n"
      ],
      "metadata": {
        "id": "fljyUUmV5FXi"
      }
    },
    {
      "cell_type": "markdown",
      "source": [
        "## still to do :     \n",
        "1. figure out how to fix SVM and Softmax NN\n",
        "2. write up for part 1 \n",
        "3. use test data ie compare test performance of Linear Classifers and CNN.\n",
        "\n",
        "4. part B\n",
        "  1. add extra data augementations\n"
      ],
      "metadata": {
        "id": "WKMrFduQilv2"
      }
    },
    {
      "cell_type": "markdown",
      "source": [
        "### Author Information\n",
        "Name: Theodore Tourneux\n",
        "\n",
        "B-Number: NA\n",
        "\n",
        "Email: ttourne1@binghamton.edu"
      ],
      "metadata": {
        "id": "81T2mLygbYCe"
      }
    },
    {
      "cell_type": "markdown",
      "source": [
        "## General Instructions \n",
        "### Due November 11th, 11:59 PM.\n",
        "\n",
        "In the following assignment, you will be using the deep learning framework, PyTorch, to perform computer vision tasks such as image classification and object detection. This will be a report-style assignment, where you will try multiple different models, optimization algorithms, and hyperparameters, and present your findings in a short report with visualizations inside the notebook.  \n",
        "\n",
        "\n",
        "Functions and cells that need to be implemented are marked with a bold **implement** keyword or clearly marked in the experiments section. \n",
        "\n",
        "The experiments section for each classifier also need to be implemented. You should follow the instructions above the cell. You may also add additional cells. \n",
        "\n",
        "Cells marked **run** need to be run to set up the appropriate infrastructure, but do not need to be modified. Make sure you have run the previous cells before running the current cell, or you may get an error.\n",
        "\n",
        "It is standard practice in ML to share notebooks to discuss the workflow and results in a professional setting. So, the code quality also matters. You should make sure your code is readable and conforms to standard practices. Your figures should be intelligable and include proper axis labels, titles, and legends. Unreadable and poorly written code may result in a points deduction.  \n",
        "\n",
        "Submission will be via GitHub Classroom. **You are required to have at least 10 commits for this assignment.**"
      ],
      "metadata": {
        "id": "FANk9dekbYM0"
      }
    },
    {
      "cell_type": "markdown",
      "source": [
        "## Uploading and Downloading Data from Colab\n",
        "\n",
        "Unlike the previous assignments, you will downloading and uploading additional data from and into the Colab environment. \n",
        "\n",
        "You can mount directories from your Google Drive and use the session storage for your work. \n",
        "\n",
        "[Take a look here for an example notebook on handling data download and upload on Colab. ](https://colab.research.google.com/notebooks/io.ipynb#scrollTo=hauvGV4hV-Mh)"
      ],
      "metadata": {
        "id": "WAzKOfYiS5JK"
      }
    },
    {
      "cell_type": "markdown",
      "source": [
        "## Import statements\n",
        "\n",
        "**Run** the cell to import the packages needed for the code below. You may other packages but ask first. "
      ],
      "metadata": {
        "id": "u6edQRQycJJv"
      }
    },
    {
      "cell_type": "code",
      "execution_count": 1,
      "metadata": {
        "id": "cny_JSAkGykH"
      },
      "outputs": [],
      "source": [
        "import torch\n",
        "import csv\n",
        "import matplotlib.pyplot as plt\n",
        "import cv2 as cv\n",
        "import numpy as np\n",
        "import torch.nn as nn\n",
        "import torch.nn.functional as F\n",
        "from torch.utils.data import Dataset, DataLoader\n",
        "from torchvision import transforms, utils\n",
        "\n",
        "\n",
        "\n",
        "from tqdm import tqdm\n",
        "import pandas as pd \n",
        "import seaborn as sns\n",
        "from PIL import Image"
      ]
    },
    {
      "cell_type": "code",
      "source": [
        "torch.manual_seed(42)  # Set the seed for the random number generator "
      ],
      "metadata": {
        "id": "SBvLHg2PeHa6",
        "colab": {
          "base_uri": "https://localhost:8080/"
        },
        "outputId": "87e397ce-4272-4995-9a01-8da1c9a53877"
      },
      "execution_count": 2,
      "outputs": [
        {
          "output_type": "execute_result",
          "data": {
            "text/plain": [
              "<torch._C.Generator at 0x7f7c6ccf7c90>"
            ]
          },
          "metadata": {},
          "execution_count": 2
        }
      ]
    },
    {
      "cell_type": "markdown",
      "source": [
        "## CUDA Runtime\n",
        "\n",
        "You will want to make use of the GPU runtimes on Colab to speed up your training. You can change your runtime by going to:\n",
        "\n",
        "`Runtime > Change runtime type` and selecting GPU. \n",
        "\n",
        "You will have to explicitly use the send Torch tensors to GPUs, by calling `.cuda()`  on the tensors and modules to utilize them on the GPU.\n",
        "\n",
        "[Take a look at the quickstart for PyTorch](https://pytorch.org/tutorials/beginner/basics/quickstart_tutorial.html)"
      ],
      "metadata": {
        "id": "tVBtO8uWVqua"
      }
    },
    {
      "cell_type": "code",
      "source": [
        "device = \"cuda\" if torch.cuda.is_available() else \"cpu\"\n",
        "print(f\"Using {device} device\")"
      ],
      "metadata": {
        "id": "AHalgZKOVrMJ",
        "colab": {
          "base_uri": "https://localhost:8080/"
        },
        "outputId": "17bf4bc1-d599-4774-912f-727dab935e92"
      },
      "execution_count": 3,
      "outputs": [
        {
          "output_type": "stream",
          "name": "stdout",
          "text": [
            "Using cuda device\n"
          ]
        }
      ]
    },
    {
      "cell_type": "code",
      "source": [],
      "metadata": {
        "id": "urPcr0TQvqCG"
      },
      "execution_count": 3,
      "outputs": []
    },
    {
      "cell_type": "markdown",
      "source": [
        "## Part 1: Data Handling in PyTorch (20 pts)"
      ],
      "metadata": {
        "id": "31UCwNBSercl"
      }
    },
    {
      "cell_type": "markdown",
      "source": [
        "### Dataset class\n",
        "\n",
        "A large part of any machine learning workflow is the proper and efficient handling of data. Datasets are often large, scattered across filesystems, and require transformations and augmentation. Deep learning libraries such as `PyTorch` provide utilities to help in this process. In the next section, you will write a custom MNIST dataset and add data augmentation to your data pipeline for your traininig. "
      ],
      "metadata": {
        "id": "i_2o6fS-e8ze"
      }
    },
    {
      "cell_type": "markdown",
      "source": [
        "**Run** the following cell to define some helper functions to load the MNIST data."
      ],
      "metadata": {
        "id": "M0gworgQibYL"
      }
    },
    {
      "cell_type": "code",
      "source": [
        "def _data_parser_helper(csv_file_name):\n",
        "  '''\n",
        "  Reads CSV file and converts it into numpy arrays.\n",
        "\n",
        "  Args:\n",
        "    csv_file_name (string): String of the path of csv file. \n",
        "\n",
        "  Returns:\n",
        "    (np.array(float), np.array(int)): Returns a tuple of numpy arrays. \n",
        "  '''\n",
        "  X = []\n",
        "  Y = []\n",
        "  with open(csv_file_name,'r') as _file:\n",
        "      csv_reader = csv.reader(_file, delimiter=\",\")\n",
        "      for row in csv_reader:\n",
        "          Y.append(int(row[0]))\n",
        "          X.append([float(i)/255.0 for i in row[1:]])\n",
        "  return (np.array(X), np.array(Y))\n",
        "\n",
        "def get_mnist_train_data():\n",
        "  X_train, Y_train = _data_parser_helper(\"sample_data/mnist_train_small.csv\")\n",
        "  return X_train, Y_train\n",
        "\n",
        "def get_mnist_test_data():\n",
        "  X_test, Y_test = _data_parser_helper(\"sample_data/mnist_test.csv\")\n",
        "  return X_test, Y_test"
      ],
      "metadata": {
        "id": "12py4n6GiYOB"
      },
      "execution_count": 4,
      "outputs": []
    },
    {
      "cell_type": "markdown",
      "source": [
        "***Implement*** the `MNIST` class to serve as a container for our PyTorch MNIST data. [Take a look at this tutorial on PyTorch datasets, dataloading, and transforms.](https://pytorch.org/tutorials/beginner/data_loading_tutorial.html#dataset-class)\n",
        "[This second, more important tutorial specifically covers custom datasets and dataloaders.](https://pytorch.org/tutorials/beginner/basics/data_tutorial.html#creating-a-custom-dataset-for-your-files)\n",
        "\n",
        "The MNIST data on Colab is pre-installed on all notebooks as a CSV.\n",
        "Your class must read the data and store it as PyTorch float tensors. \n",
        "Use the helper functions above (already written) to read the data,\n",
        "which will return the data as NumPy arrays.\n",
        "\n",
        "You should implement:\n",
        "\n",
        "- `__init__()` to read the appropriate CSV file, and store it in the class as a `torch.Tensor` with float dtype. \n",
        "- `__len__()` to return the number of samples in the dataset. \n",
        "- `__getitem__(i)` to return the i-th sample and label from the data you have stored. "
      ],
      "metadata": {
        "id": "3-Gm0Tyeigj-"
      }
    },
    {
      "cell_type": "code",
      "source": [
        "%time\n",
        "\n",
        "X_train, Y_train = get_mnist_train_data()\n"
      ],
      "metadata": {
        "colab": {
          "base_uri": "https://localhost:8080/"
        },
        "id": "mmDKXr6N0uqg",
        "outputId": "8e51260d-3165-446b-961a-ad5a61d8ec57"
      },
      "execution_count": 5,
      "outputs": [
        {
          "output_type": "stream",
          "name": "stdout",
          "text": [
            "CPU times: user 3 µs, sys: 1 µs, total: 4 µs\n",
            "Wall time: 7.63 µs\n"
          ]
        }
      ]
    },
    {
      "cell_type": "code",
      "source": [
        "type(X_train)"
      ],
      "metadata": {
        "colab": {
          "base_uri": "https://localhost:8080/"
        },
        "id": "NFxruXvx0uKZ",
        "outputId": "ee4c8a59-8953-405c-c5a7-e7d4272d1f2b"
      },
      "execution_count": 6,
      "outputs": [
        {
          "output_type": "execute_result",
          "data": {
            "text/plain": [
              "numpy.ndarray"
            ]
          },
          "metadata": {},
          "execution_count": 6
        }
      ]
    },
    {
      "cell_type": "code",
      "source": [
        "X_train.shape"
      ],
      "metadata": {
        "colab": {
          "base_uri": "https://localhost:8080/"
        },
        "id": "-zal-0_FIOqc",
        "outputId": "66224420-982a-4e30-9c20-30810fdc0e48"
      },
      "execution_count": 7,
      "outputs": [
        {
          "output_type": "execute_result",
          "data": {
            "text/plain": [
              "(20000, 784)"
            ]
          },
          "metadata": {},
          "execution_count": 7
        }
      ]
    },
    {
      "cell_type": "code",
      "source": [
        "len(torch.from_numpy(Y_train,))"
      ],
      "metadata": {
        "colab": {
          "base_uri": "https://localhost:8080/"
        },
        "id": "qkQoN_LG3m8B",
        "outputId": "c2cdd4d2-d98d-4e21-d509-83771da01b65"
      },
      "execution_count": 8,
      "outputs": [
        {
          "output_type": "execute_result",
          "data": {
            "text/plain": [
              "20000"
            ]
          },
          "metadata": {},
          "execution_count": 8
        }
      ]
    },
    {
      "cell_type": "code",
      "source": [
        "class MNIST(Dataset):\n",
        "  \"\"\"MNIST custom dataset that reads the CSV file and transforms them into PyTorch Tensors\"\"\"\n",
        "\n",
        "\n",
        "  def __init__(self, is_training=True, transform=None):\n",
        "\n",
        "    \"\"\"\n",
        "    Args:\n",
        "      is_training (bool): If true loads \n",
        "        the training dataset. If false, loads the test dataset. \n",
        "        Use the functions above.\n",
        "      transform (callable): Transform to be applied on a sample.\n",
        "        These will be used for data augmentations.\n",
        "    \"\"\"\n",
        "    if(is_training):\n",
        "      D = get_mnist_train_data() \n",
        "    else: \n",
        "      D = get_mnist_test_data()\n",
        "    \n",
        "    #self.data\n",
        "    self.X,self.Y = torch.from_numpy(D[0]), torch.from_numpy(D[1])\n",
        "\n",
        "    #trans_data = transform(self.data)\n",
        "    self.transform = transform\n",
        "\n",
        "    #self.XT,self.Y, = \n",
        "\n",
        "  def __len__(self):\n",
        "    Y = self.Y## should be the y\n",
        "    return(len(Y))\n",
        "    \n",
        "    \"\"\"Returns the size (the number of samples) of the dataset.\n",
        "    \"\"\"\n",
        "\n",
        "    \n",
        "\n",
        "  def __getitem__(self, i):\n",
        "    \"\"\"Returns the i-th sample and label and applies any transforms defined.\n",
        "\n",
        "      Args:\n",
        "        i (int): The index of sample in the data array to retrieve. \n",
        "    \"\"\"\n",
        "    if self.transform == None:\n",
        "      return self.X[i,:].reshape((28,28)) , self.Y[i] ## for X we want the specific row and all the columns. \n",
        "    else: \n",
        "      return self.transform(self.X[i,:].reshape((1,28,28))).reshape(28,28) , self.Y[i]\n",
        "    "
      ],
      "metadata": {
        "id": "FF0eE-oge8F1"
      },
      "execution_count": 9,
      "outputs": []
    },
    {
      "cell_type": "markdown",
      "source": [
        "***Implement*** the following cell to visualize the data in the dataset. Use `Matplotlib` or your favorite visualization package to plot 5 images of each class in a single figure. \n",
        "\n",
        "You should initialize a MNIST dataset object for the training class. Visualize this dataset. This will not be used in the future.  \n",
        "\n"
      ],
      "metadata": {
        "id": "fy6B1261lufJ"
      }
    },
    {
      "cell_type": "code",
      "source": [],
      "metadata": {
        "id": "xVd1ODta7IHG"
      },
      "execution_count": 9,
      "outputs": []
    },
    {
      "cell_type": "code",
      "source": [
        "training_mnist = MNIST()\n",
        "\n",
        "figure = plt.figure(figsize=(8, 8))\n",
        "cols, rows = 3, 4\n",
        "\n",
        "\n",
        "\n",
        "\n",
        "num = 0 \n",
        "\n",
        "for i in range(len(training_mnist)):\n",
        "  x,y = training_mnist[i]\n",
        "  if y == num: \n",
        "    \n",
        "    figure.add_subplot(rows, cols, num+1)\n",
        "    plt.imshow(x.reshape((28,28)))\n",
        "    num+=1\n",
        "  if num >9:\n",
        "    break\n",
        "\n",
        "plt.show()"
      ],
      "metadata": {
        "id": "fGhUhWsLervV",
        "colab": {
          "base_uri": "https://localhost:8080/",
          "height": 485
        },
        "outputId": "d960aa4f-9788-4ea7-e26f-4718ee5ce81d"
      },
      "execution_count": 10,
      "outputs": [
        {
          "output_type": "display_data",
          "data": {
            "text/plain": [
              "<Figure size 576x576 with 10 Axes>"
            ],
            "image/png": "[encoded data removed]"
          },
          "metadata": {
            "needs_background": "light"
          }
        }
      ]
    },
    {
      "cell_type": "markdown",
      "source": [
        "***Implement***\n",
        "the following cell to create a PyTorch transform object and\n",
        "assign it to a variable.\n",
        "You may name the variable whatever you wish;\n",
        "you will use the object to construct train and test MNIST datasets.\n",
        "\n",
        "You will use the transformations defined in `torchvision`,\n",
        "which can be found [here](https://pytorch.org/vision/stable/transforms.html#transforms-on-pil-image-and-torch-tensor).\n",
        "\n",
        "Add the `RandomRotation` and `Normalize` transformations to the dataset. You will need to [compose the two transforms](https://pytorch.org/vision/0.9/transforms.html#torchvision.transforms.Compose). Restrict the rotations to +/- 15 degrees. \n",
        "\n",
        "The mean and standard deviation of the training set is 0.13 and 0.31 respectively.\n",
        "\n",
        "At the end of the cell, construct a training and test dataset.\n",
        "Name these carefully, these datasets will be used in the next sections."
      ],
      "metadata": {
        "id": "Y14bBS2fmbEv"
      }
    },
    {
      "cell_type": "code",
      "source": [
        "trans = transforms.Compose([\n",
        "     #transforms.RandomRotation(degrees = 15),\n",
        "     transforms.Normalize(.13, .31, inplace=False),\n",
        " ])"
      ],
      "metadata": {
        "id": "oubD-YBVtqCR"
      },
      "execution_count": 11,
      "outputs": []
    },
    {
      "cell_type": "code",
      "source": [
        "'''img = torch.reshape(training_mnist[15][0], (28,28))\n",
        "vflipper = transforms.RandomVerticalFlip(p=0.5)\n",
        "transformed_imgs = vflipper(img) \n",
        "plt.imshow(transformed_imgs)'''"
      ],
      "metadata": {
        "colab": {
          "base_uri": "https://localhost:8080/",
          "height": 53
        },
        "id": "Wy-JjfvKDQBi",
        "outputId": "20fd185e-a03c-46ac-ad36-b4332ae78090"
      },
      "execution_count": 12,
      "outputs": [
        {
          "output_type": "execute_result",
          "data": {
            "text/plain": [
              "'img = torch.reshape(training_mnist[15][0], (28,28))\\nvflipper = transforms.RandomVerticalFlip(p=0.5)\\ntransformed_imgs = vflipper(img) \\nplt.imshow(transformed_imgs)'"
            ],
            "application/vnd.google.colaboratory.intrinsic+json": {
              "type": "string"
            }
          },
          "metadata": {},
          "execution_count": 12
        }
      ]
    },
    {
      "cell_type": "code",
      "source": [
        "'''rotator = transforms.RandomRotation(degrees = (0,180))\n",
        "img = torch.reshape(training_mnist[10][0], (28,28))\n",
        "rotated_img = rotator(img)## 10th entry and taking the x values '''"
      ],
      "metadata": {
        "colab": {
          "base_uri": "https://localhost:8080/",
          "height": 53
        },
        "id": "ZoteAvpkAUgP",
        "outputId": "8eade575-18ef-4182-c83a-47ebddbcf045"
      },
      "execution_count": 13,
      "outputs": [
        {
          "output_type": "execute_result",
          "data": {
            "text/plain": [
              "'rotator = transforms.RandomRotation(degrees = (0,180))\\nimg = torch.reshape(training_mnist[10][0], (28,28))\\nrotated_img = rotator(img)## 10th entry and taking the x values '"
            ],
            "application/vnd.google.colaboratory.intrinsic+json": {
              "type": "string"
            }
          },
          "metadata": {},
          "execution_count": 13
        }
      ]
    },
    {
      "cell_type": "code",
      "source": [],
      "metadata": {
        "id": "XuaxMCDvA47I"
      },
      "execution_count": 13,
      "outputs": []
    },
    {
      "cell_type": "code",
      "source": [
        "testing_mnist = MNIST(is_training = False, transform = trans)"
      ],
      "metadata": {
        "id": "jtKGgyI3mbPA"
      },
      "execution_count": 16,
      "outputs": []
    },
    {
      "cell_type": "markdown",
      "source": [
        "***Implement*** the following cell to visualize the data in the dataset with the transformations similar to the previous visualization. "
      ],
      "metadata": {
        "id": "ANOuWwmSnPkF"
      }
    },
    {
      "cell_type": "code",
      "source": [
        "training_mnist = MNIST(is_training = True, transform = trans)\n",
        "\n",
        "figure = plt.figure(figsize=(8, 8))\n",
        "cols, rows = 3, 4\n",
        "\n",
        "\n",
        "\n",
        "\n",
        "num = 0 \n",
        "\n",
        "for i in range(len(training_mnist)):\n",
        "  x,y = training_mnist[i]\n",
        "  if y == num: \n",
        "    \n",
        "    figure.add_subplot(rows, cols, num+1)\n",
        "    plt.imshow(x)\n",
        "    num+=1\n",
        "  if num >9:\n",
        "    break\n",
        "\n",
        "plt.show()"
      ],
      "metadata": {
        "id": "G9D3b2wpnUTV",
        "outputId": "db0dd5b3-33dc-48b8-84aa-1f6e87c133b0",
        "colab": {
          "base_uri": "https://localhost:8080/",
          "height": 485
        }
      },
      "execution_count": 18,
      "outputs": [
        {
          "output_type": "display_data",
          "data": {
            "text/plain": [
              "<Figure size 576x576 with 10 Axes>"
            ],
            "image/png": "[encoded data removed]"
          },
          "metadata": {
            "needs_background": "light"
          }
        }
      ]
    },
    {
      "cell_type": "markdown",
      "source": [
        "***Implement*** the following cell to randomly split the training dataset previously defined, and make a training and validation set. Do an 80-20 split for the training and validation set. Name these sets carefully, they will be used in the next section to train your models. \n",
        "\n",
        "You can use the utilities in `torch.utils.data`."
      ],
      "metadata": {
        "id": "FqND0a-DngYL"
      }
    },
    {
      "cell_type": "code",
      "source": [
        "len(training_mnist)"
      ],
      "metadata": {
        "id": "ky9uf94N2MrA",
        "outputId": "f18741a3-d0de-49b9-a130-5004c610aef0",
        "colab": {
          "base_uri": "https://localhost:8080/"
        }
      },
      "execution_count": 19,
      "outputs": [
        {
          "output_type": "execute_result",
          "data": {
            "text/plain": [
              "20000"
            ]
          },
          "metadata": {},
          "execution_count": 19
        }
      ]
    },
    {
      "cell_type": "code",
      "source": [
        "mnist_train, mnist_val = torch.utils.data.random_split(training_mnist, lengths =[int(len(training_mnist)*.80),int(len(training_mnist)*.2)])"
      ],
      "metadata": {
        "id": "QIT0omqUngq8"
      },
      "execution_count": 20,
      "outputs": []
    },
    {
      "cell_type": "markdown",
      "source": [
        "## Part 2: MNIST Classification (40 pts)"
      ],
      "metadata": {
        "id": "naiZzb4OcipT"
      }
    },
    {
      "cell_type": "markdown",
      "source": [
        "### Linear Classifiers\n",
        "\n",
        "The linear classifiers you implemented in the last assignment will serve as our baseline for more powerful convolutional neural networks. You will ***implement*** the multi-class SVM and  Softmax classifiers in the following cells.  "
      ],
      "metadata": {
        "id": "VHaGaWsQcuWa"
      }
    },
    {
      "cell_type": "markdown",
      "source": [
        "**Implement** a LinearSVM classifier in the following cell. Your implementation should be a python class that inherits from `torch.nn.Module`. \n",
        "\n",
        "You should use classes and functions defined in `torch.nn` and `torch.nn.Functional`.   "
      ],
      "metadata": {
        "id": "Rrg6BMCWdaTi"
      }
    },
    {
      "cell_type": "code",
      "source": [
        "class LinearSVM(nn.Module):\n",
        "  ''' Implements the linear SVM using Torch.\n",
        "  '''\n",
        "  def __init__(self, num_classes, *args, **kwargs):\n",
        "    '''\n",
        "      num_classes (int): The number of output classes\n",
        "    '''\n",
        "    #super(LinearSVM, self).__init__()\n",
        "    super().__init__()\n",
        "    self.num_classes = num_classes\n",
        "\n",
        "    self.layer1 = nn.Linear(28*28, num_classes)\n",
        "\n",
        "    #self.layer1 = nn.Linear(28*28, 512)\n",
        "    #self.layer2 = nn.Linear(512, 128)\n",
        "    #self.layer3 = nn.Linear(128,64 )\n",
        "    #self.layer_out = nn.functional.softmax(64,self.num_classes)\n",
        "    #self.layer_out = nn.\n",
        "\n",
        "    #raise NotImplementedError(\"LinearSVM forward not implemented\")\n",
        "\n",
        "  def forward(self, x):\n",
        "    '''\n",
        "      x (torch.Tensor): Input image as a torch tensor. \n",
        "    '''\n",
        "    #x = x.reshape(28*28,10)\n",
        "    x = self.layer1(x)\n",
        "    #x = self.layer2(x)\n",
        "    #x = self.layer3(x)\n",
        "    #x = self.layer_out(x)\n",
        "\n",
        "    return x \n",
        "    #raise NotImplementedError(\"LinearSVM forward not implemented\")"
      ],
      "metadata": {
        "id": "VdQU1itSctyR"
      },
      "execution_count": 21,
      "outputs": []
    },
    {
      "cell_type": "markdown",
      "source": [
        "***Implement*** using any PyTorch defined optimizer, code to train your LinearSVM classifier on the training dataset. You will want to try different optimizers, learning rates, and batch sizes. \n",
        "\n",
        "PyTorch provides implementations of various optimization algorithms in the `torch.optim` package. You can use any of the first order methods such as:\n",
        "\n",
        "- SGD (with or without momentum)\n",
        "- AdaDelta\n",
        "- ADAM\n",
        "- RProp\n",
        "- RMSProp\n",
        "\n",
        "***Note:*** You should keep track of the performance of the optimizers, batch sizes, and learning rates. You should justify the choice of your hyperparameters in the report at the end of this section. You will be asked to quantify and visualize the differences between these hyperparameters. \n",
        "\n",
        "You should use `Torch.utils.data.DataLoader` to do the data loading. Make sure to use the correct loss function. You may use the predefined loss functions available in `Torch.nn`.\n",
        "\n",
        "***Note:*** As the optimization procedure for training different models is often the same, you should write helper functions that are reusable. This will make your code more readable and reduce the possibility of unexpected bugs.  \n",
        "\n",
        "To train a single model, you will need to:\n",
        "\n",
        "- Iterate through the data in batches using your training or validation dataloader\n",
        "- Perform the forward pass\n",
        "- Compute the loss\n",
        "- Perform the backward pass\n",
        "- Take an optimizer step\n",
        "- Repeat the process till network converges or some other criterion\n",
        "- Every n iterations, go through the validation set and calculate the loss and accuracy of the validation set to check your training performance"
      ],
      "metadata": {
        "id": "9zwabAUlda_i"
      }
    },
    {
      "cell_type": "code",
      "source": [
        "model = LinearSVM(10)## we are just working with MNIST data for now \n",
        "model.to(device)\n",
        "\n",
        "#criterion = nn.CrossEntropyLoss()## this is the loss.\n",
        "criterion = nn.MultiMarginLoss()\n",
        "#criterion =torch.nn.Softmax(dim = -1)\n",
        "#criterion = nn.BCEWithLogitsLoss()\n",
        "optimizer = torch.optim.Adam(model.parameters(), lr = .001)##torch.nn.CrossEntropyLoss()\n",
        "\n",
        "print(model)"
      ],
      "metadata": {
        "id": "tg9aAl_JchSr",
        "colab": {
          "base_uri": "https://localhost:8080/"
        },
        "outputId": "3088ac3a-28a6-4e79-82b1-225c74540576"
      },
      "execution_count": 22,
      "outputs": [
        {
          "output_type": "stream",
          "name": "stdout",
          "text": [
            "LinearSVM(\n",
            "  (layer1): Linear(in_features=784, out_features=10, bias=True)\n",
            ")\n"
          ]
        }
      ]
    },
    {
      "cell_type": "code",
      "source": [
        "#mnist_train, mnist_val\n",
        "BATCH_SIZE = 16\n",
        "train_loader = DataLoader(dataset = mnist_train, batch_size = BATCH_SIZE)\n",
        "val_loader = DataLoader(dataset = mnist_val, batch_size = BATCH_SIZE)"
      ],
      "metadata": {
        "id": "AdX96ZHKyAMC"
      },
      "execution_count": 23,
      "outputs": []
    },
    {
      "cell_type": "code",
      "source": [
        "def multi_acc(y_pred, y_test):\n",
        "    y_pred_softmax = torch.log_softmax(y_pred, dim = 1)\n",
        "    _, y_pred_tags = torch.max(y_pred_softmax, dim = 1)    \n",
        "    \n",
        "    correct_pred = (y_pred_tags == y_test).float()\n",
        "    acc = correct_pred.sum() / len(correct_pred)\n",
        "    \n",
        "    acc = torch.round(acc * 100)\n",
        "    \n",
        "    return acc"
      ],
      "metadata": {
        "id": "KD7GFJ0sgct-"
      },
      "execution_count": 24,
      "outputs": []
    },
    {
      "cell_type": "code",
      "source": [
        "accuracy_stats = {\n",
        "    'train': [],\n",
        "    \"val\": []\n",
        "}\n",
        "loss_stats = {\n",
        "    'train': [],\n",
        "    \"val\": []\n",
        "}"
      ],
      "metadata": {
        "id": "XkjZKEkTcdLK"
      },
      "execution_count": 25,
      "outputs": []
    },
    {
      "cell_type": "code",
      "source": [
        "\n",
        "def train_loop(model, train_loader, val_loader, criterion, optimizer, EPOCHS = 10):\n",
        "  for epoch in tqdm(range(1,EPOCHS+1)):\n",
        "    train_epoch_loss = 0 \n",
        "    train_epoch_acc = 0\n",
        "    model.train()## this tells the model that we are training not testing.\n",
        "    for X_train_batch, y_train_batch in train_loader: \n",
        "      #print('kel;;o')\n",
        "      #print('shape',X_train_batch.shape)\n",
        "\n",
        "      X_train_batch = X_train_batch.reshape(BATCH_SIZE,28*28)\n",
        "      ##print()\n",
        "      #print('shape1',X_train_batch.shape)\n",
        "\n",
        "      X_train_batch, y_train_batch = X_train_batch.to(device), y_train_batch.to(device)\n",
        "      optimizer.zero_grad()### rests the gradient to 0? \n",
        "      #print('X_train_batch.shape',X_train_batch.shape)\n",
        "\n",
        "\n",
        "      y_train_pred = model(X_train_batch.float())## forward pass \n",
        "      #print('predicted')\n",
        "      m = nn.Softmax(dim =1)\n",
        "      y_train_pred = m(y_train_pred)\n",
        "      #print('y_train_pred',y_train_pred.shape)\n",
        "\n",
        "      train_loss = criterion(y_train_pred, y_train_batch)#loss(y_train_pred, y_train_batch)\n",
        "      train_acc = multi_acc(y_train_pred, y_train_batch)\n",
        "      ## so we need this criterion! instead of loss.\n",
        "\n",
        "      train_loss.backward()\n",
        "      optimizer.step()\n",
        "\n",
        "      train_epoch_loss += train_loss.item()\n",
        "      train_epoch_acc += train_acc.item()\n",
        "\n",
        "    with torch.no_grad(): \n",
        "      val_epoch_loss = 0 \n",
        "      val_epoch_acc = 0 \n",
        "      model.eval()\n",
        "      for X_val_batch,y_val_batch in val_loader: \n",
        "        X_val_batch,y_val_batch = X_val_batch.to(device),y_val_batch.to(device)\n",
        "\n",
        "        X_val_batch = X_val_batch.reshape(BATCH_SIZE,28*28)\n",
        "\n",
        "        y_val_pred = model(X_val_batch.float())\n",
        "\n",
        "        val_loss = criterion(y_val_pred, y_val_batch)\n",
        "        val_acc = multi_acc(y_val_pred,y_val_batch) \n",
        "\n",
        "        val_epoch_loss += val_loss.item()\n",
        "        val_epoch_acc += val_acc.item()\n",
        "    loss_stats['train'].append(train_epoch_loss/len(train_loader))\n",
        "    loss_stats['val'].append(val_epoch_loss/len(val_loader))\n",
        "    accuracy_stats['train'].append(train_epoch_acc/len(train_loader))\n",
        "    accuracy_stats['val'].append(val_epoch_acc/len(val_loader))\n",
        "\n",
        "#train_loop(model,train_loader, val_loader, criterion, optimizer,EPOCHS = 10)\n",
        "\n",
        "\n"
      ],
      "metadata": {
        "id": "IQjtvCPryUBV"
      },
      "execution_count": 26,
      "outputs": []
    },
    {
      "cell_type": "code",
      "source": [
        "# Create dataframes\n",
        "def plot_scores(accuracy_stats,loss_stats):\n",
        "  train_val_acc_df = pd.DataFrame.from_dict(accuracy_stats).reset_index().melt(id_vars=['index']).rename(columns={\"index\":\"epochs\"})\n",
        "  train_val_loss_df = pd.DataFrame.from_dict(loss_stats).reset_index().melt(id_vars=['index']).rename(columns={\"index\":\"epochs\"})\n",
        "  # Plot the dataframes\n",
        "  fig, axes = plt.subplots(nrows=1, ncols=2, figsize=(20,7))\n",
        "  sns.lineplot(data=train_val_acc_df, x = \"epochs\", y=\"value\", hue=\"variable\",  ax=axes[0]).set_title('Train-Val Accuracy/Epoch')\n",
        "  sns.lineplot(data=train_val_loss_df, x = \"epochs\", y=\"value\", hue=\"variable\", ax=axes[1]).set_title('Train-Val Loss/Epoch')\n",
        "\n",
        "#plot_scores(accuracy_stats, loss_stats)"
      ],
      "metadata": {
        "id": "Hz1YGGR7d7eH"
      },
      "execution_count": 27,
      "outputs": []
    },
    {
      "cell_type": "code",
      "source": [
        "accuracy_stats = {\n",
        "    'train': [],\n",
        "    \"val\": []\n",
        "}\n",
        "loss_stats = {\n",
        "    'train': [],\n",
        "    \"val\": []\n",
        "}\n",
        "\n",
        "model = LinearSVM(10)## we are just working with MNIST data for now \n",
        "model.to(device)\n",
        "\n",
        "criterion = nn.MultiMarginLoss()## svm loss\n",
        "optimizer = torch.optim.Adam(model.parameters(), lr = .001)##torch.nn.CrossEntropyLoss()\n",
        "\n",
        "\n",
        "train_loop(model,train_loader, val_loader, criterion, optimizer,EPOCHS = 10)\n",
        "\n",
        "plot_scores(accuracy_stats,loss_stats)"
      ],
      "metadata": {
        "colab": {
          "base_uri": "https://localhost:8080/",
          "height": 406
        },
        "id": "CXQO1ICCr68J",
        "outputId": "e71a8c6c-03ea-4467-8673-f97cc162908f"
      },
      "execution_count": 28,
      "outputs": [
        {
          "output_type": "stream",
          "name": "stderr",
          "text": [
            "\r  0%|          | 0/10 [00:00<?, ?it/s]/usr/local/lib/python3.7/dist-packages/torch/autograd/__init__.py:175: UserWarning: An output with one or more elements was resized since it had shape [], which does not match the required output shape [16, 10]. This behavior is deprecated, and in a future PyTorch release outputs will not be resized unless they have zero elements. You can explicitly reuse an out tensor t by resizing it, inplace, to zero elements with t.resize_(0). (Triggered internally at  ../aten/src/ATen/native/Resize.cpp:17.)\n",
            "  allow_unreachable=True, accumulate_grad=True)  # Calls into the C++ engine to run the backward pass\n",
            "100%|██████████| 10/10 [00:33<00:00,  3.40s/it]\n"
          ]
        },
        {
          "output_type": "display_data",
          "data": {
            "text/plain": [
              "<Figure size 1440x504 with 2 Axes>"
            ],
            "image/png": "[encoded data removed]"
          },
          "metadata": {
            "needs_background": "light"
          }
        }
      ]
    },
    {
      "cell_type": "markdown",
      "source": [
        "**Implement** a Softmax classifier in the following cell. Your implementation should be a python class that inherits from `torch.nn.Module`. "
      ],
      "metadata": {
        "id": "VeL39QqOnako"
      }
    },
    {
      "cell_type": "code",
      "source": [
        "'''model = LinearSVM(10)## we are just working with MNIST data for now \n",
        "model.to(device)\n",
        "\n",
        "#criterion = nn.CrossEntropyLoss()## this is the loss.\n",
        "criterion = nn.MultiMarginLoss()\n",
        "#criterion =torch.nn.Softmax(dim = -1)\n",
        "#criterion = nn.BCEWithLogitsLoss()\n",
        "optimizer = torch.optim.Adam(model.parameters(), lr = .001)##torch.nn.CrossEntropyLoss()\n",
        "\n",
        "'''\n",
        "accuracy_stats = {\n",
        "    'train': [],\n",
        "    \"val\": []\n",
        "}\n",
        "loss_stats = {\n",
        "    'train': [],\n",
        "    \"val\": []\n",
        "}\n",
        "\n",
        "model = LinearSVM(10)## we are just working with MNIST data for now \n",
        "model.to(device)\n",
        "\n",
        "criterion = nn.CrossEntropyLoss()\n",
        "optimizer = torch.optim.Adam(model.parameters(), lr = .001)##torch.nn.CrossEntropyLoss()\n",
        "\n",
        "\n",
        "train_loop(model,train_loader, val_loader, criterion, optimizer,EPOCHS = 10)\n",
        "\n",
        "plot_scores(accuracy_stats,loss_stats)\n"
      ],
      "metadata": {
        "id": "u5p2C_1QHSb1",
        "colab": {
          "base_uri": "https://localhost:8080/",
          "height": 351
        },
        "outputId": "750bdc8e-a249-4132-ff0f-b183243268e6"
      },
      "execution_count": 29,
      "outputs": [
        {
          "output_type": "stream",
          "name": "stderr",
          "text": [
            "100%|██████████| 10/10 [00:28<00:00,  2.83s/it]\n"
          ]
        },
        {
          "output_type": "display_data",
          "data": {
            "text/plain": [
              "<Figure size 1440x504 with 2 Axes>"
            ],
            "image/png": "[encoded data removed]"
          },
          "metadata": {
            "needs_background": "light"
          }
        }
      ]
    },
    {
      "cell_type": "markdown",
      "source": [
        "***Implement*** using any PyTorch defined optimizer, train your Softmax classifier on the training dataset and validate on the validation dataset, as you did before. \n",
        "\n",
        "***Note:*** You should keep track of the performance of the optimizers, batch sizes, and learning rates. You should justify the choice of your hyperparameters in the report at the end of this section. You will be asked to quantify and visualize the differences between these hyperparameters.\n",
        "\n",
        "You will want to try different optimizers, learning rates, and batch sizes. You should use `Torch.DataLoader` to simplify the data loading. Make sure to use the correct loss function. You may use predefined loss functions available in `Torch.nn`.\n",
        "\n",
        "Same as before, to train a single model, you will need to:\n",
        "\n",
        "- Iterate through the data in batches using your training or validation dataloader\n",
        "- Perform the forward pass\n",
        "- Compute the loss\n",
        "- Perform the backward pass\n",
        "- Take an optimizer step\n",
        "- Repeat the process till network converges or some other criterion\n",
        "- Every n iterations, go through the validation set and calculate the loss and accuracy of the validation set to check your training performance"
      ],
      "metadata": {
        "id": "LgLiSrkvov7_"
      }
    },
    {
      "cell_type": "code",
      "source": [],
      "metadata": {
        "id": "LFAf4i-cowF_"
      },
      "execution_count": 29,
      "outputs": []
    },
    {
      "cell_type": "markdown",
      "source": [
        "***Implement*** visualizations in the following cell to show performance differences of the different hyperparameters. \n",
        "\n",
        "***Include*** visualizations for the effect of different batch sizes, learning rates, and optimizers. You are free to choose any method of visualization as long as it is able to succintly convey your justifications."
      ],
      "metadata": {
        "id": "AjBRu6jJp4Jx"
      }
    },
    {
      "cell_type": "code",
      "source": [],
      "metadata": {
        "id": "XbKSedbmp3lB"
      },
      "execution_count": 29,
      "outputs": []
    },
    {
      "cell_type": "markdown",
      "source": [
        "### Convolutional Neural Networks"
      ],
      "metadata": {
        "id": "WWSOkLP69Tv3"
      }
    },
    {
      "cell_type": "markdown",
      "source": [
        "***Implement*** the following cell to implement a convolutional neural network. Similar to before, your implementation should be a Python class that inherits from `torch.nn.Module`. \n",
        "\n",
        "Your model can use any of the building blocks defined in `torch.nn` including but not limited to:\n",
        "\n",
        "- Conv2D\n",
        "- Linear\n",
        "- Activation layers:\n",
        "  - ReLU\n",
        "  - Tanh\n",
        "  - Sigmoid\n",
        "  - Softmax\n",
        "- Normalization layers:\n",
        "  - BatchNorm\n",
        "  - LayerNorm\n",
        "  - GroupNorm\n",
        "- Pooling layers:\n",
        "  - MaxPool\n",
        "  - AvgPool\n",
        "- Dropout\n",
        "\n",
        "Make sure to chose the correct dimensional versions of the layers, i.e for images use MaxPool2d and vectors use MaxPool1d\n"
      ],
      "metadata": {
        "id": "tFAJcXU-owUO"
      }
    },
    {
      "cell_type": "markdown",
      "source": [
        "Example LeNet implementation: \n",
        "\n",
        "```python\n",
        "class LeNet(nn.Module):\n",
        "\n",
        "    def __init__(self, num_classes=10):\n",
        "        super(LeNet, self).__init__()\n",
        "        \n",
        "        # num_classes number of output classes\n",
        "        self.num_classes = num_classes\n",
        "        # 1 input image channel, \n",
        "        # 6 output channels\n",
        "        # 5x5 square convolution kernel\n",
        "        self.conv1 = nn.Conv2d(1, 6, 5)\n",
        "        # ReLU activation function\n",
        "        self.act1 = nn.ReLU()\n",
        "        # Max pooling with 2x2 square kernel\n",
        "        self.pool1 = nn.MaxPool2d(2)\n",
        "        \n",
        "        # Second convolution with 6 input image channels\n",
        "        self.conv2 = nn.Conv2d(6, 16, 5)\n",
        "        self.act2 = nn.ReLU()\n",
        "        self.pool2 = nn.MaxPool2d(2)\n",
        "\n",
        "        # 3 Layer fully connected layer\n",
        "        self.fc1 = nn.Linear(16 * 4 * 4, 120)\n",
        "        self.act3 = nn.ReLU()\n",
        "        self.fc2 = nn.Linear(120, 84)\n",
        "        self.act4 = nn.ReLU()\n",
        "        self.fc3 = nn.Linear(84, num_classes)\n",
        "\n",
        "    def forward(self, x):\n",
        "        \n",
        "        # First Convolution -> Activation -> Max Pooling\n",
        "        x = self.conv1(x)\n",
        "        x = self.act1(x)\n",
        "        x = self.pool1(x)\n",
        "\n",
        "        # Second Convolution -> Activation -> Max Pooling\n",
        "        x = self.conv2(x)\n",
        "        x = self.act2(x)\n",
        "        x = self.pool2(x)\n",
        "\n",
        "        # flatten all dimensions except the batch dimension\n",
        "        x = torch.flatten(x, 1) \n",
        "\n",
        "        # Three layer MLP with ReLU activations \n",
        "        x = self.act3(self.fc1(x))\n",
        "        x = self.act4(self.fc2(x))\n",
        "        x = self.fc3(x)\n",
        "\n",
        "        return x\n",
        "\n",
        "```"
      ],
      "metadata": {
        "id": "AU2zciw2y9tZ"
      }
    },
    {
      "cell_type": "code",
      "source": [
        "# for understanding's sake\n",
        "\n",
        "class LeNet(nn.Module):\n",
        "\n",
        "    def __init__(self, num_classes=10):\n",
        "        super(LeNet, self).__init__()\n",
        "\n",
        "        # num_classes number of output classes\n",
        "        self.num_classes = num_classes\n",
        "        # 1 input image channel, \n",
        "        # 6 output channels\n",
        "        # 5x5 square convolution kernel\n",
        "        self.conv1 = nn.Conv2d(1, 6, 5)\n",
        "        # ReLU activation function\n",
        "        self.act1 = nn.ReLU()\n",
        "        # Max pooling with 2x2 square kernel\n",
        "        self.pool1 = nn.MaxPool2d(2)\n",
        "\n",
        "        # Second convolution with 6 input image channels\n",
        "        self.conv2 = nn.Conv2d(6, 16, 5)\n",
        "        self.act2 = nn.ReLU()\n",
        "        self.pool2 = nn.MaxPool2d(2)\n",
        "\n",
        "        # 3 Layer fully connected layer\n",
        "        self.fc1 = nn.Linear(16 * 4 * 4, 120)\n",
        "        self.act3 = nn.ReLU()\n",
        "        self.fc2 = nn.Linear(120, 84)\n",
        "        self.act4 = nn.ReLU()\n",
        "        self.fc3 = nn.Linear(84, num_classes)\n",
        "\n",
        "    def forward(self, x):\n",
        "\n",
        "        # First Convolution -> Activation -> Max Pooling\n",
        "        x = x.reshape(BATCH_SIZE,1,28,28)\n",
        "        #print(\"before cov1\", x.shape)\n",
        "        x = self.conv1(x)\n",
        "        #print('after cov1', x.shape)\n",
        "        x = self.act1(x)\n",
        "        #print('after act1', x.shape)\n",
        "        x = self.pool1(x)\n",
        "        #print('after pool1', x.shape)\n",
        "\n",
        "        # Second Convolution -> Activation -> Max Pooling\n",
        "        x = self.conv2(x)\n",
        "        #print('after cov2', x.shape)\n",
        "        x = self.act2(x)\n",
        "        #print('after act2', x.shape)\n",
        "        x = self.pool2(x)\n",
        "        #print('after pool2', x.shape)\n",
        "\n",
        "        # flatten all dimensions except the batch dimension\n",
        "        x = torch.flatten(x, 1) \n",
        "        #print('print after flatten',x.shape)\n",
        "\n",
        "        # Three layer MLP with ReLU activations \n",
        "        x = self.act3(self.fc1(x))\n",
        "        x = self.act4(self.fc2(x))\n",
        "        x = self.fc3(x)\n",
        "\n",
        "        return x"
      ],
      "metadata": {
        "id": "xAWuN-Jwtg84"
      },
      "execution_count": 30,
      "outputs": []
    },
    {
      "cell_type": "code",
      "source": [
        "accuracy_stats = {\n",
        "    'train': [],\n",
        "    \"val\": []\n",
        "}\n",
        "loss_stats = {\n",
        "    'train': [],\n",
        "    \"val\": []\n",
        "}\n",
        "\n",
        "model = LeNet()## we are just working with MNIST data for now \n",
        "model.to(device)\n",
        "\n",
        "criterion = nn.CrossEntropyLoss()\n",
        "optimizer = torch.optim.Adam(model.parameters(), lr = .001)##torch.nn.CrossEntropyLoss()\n",
        "\n",
        "\n",
        "train_loop(model,train_loader, val_loader, criterion, optimizer,EPOCHS = 10)\n",
        "\n",
        "plot_scores(accuracy_stats,loss_stats)\n"
      ],
      "metadata": {
        "colab": {
          "base_uri": "https://localhost:8080/",
          "height": 349
        },
        "id": "tUNXurVEvXS3",
        "outputId": "8c5b9332-65b2-4fba-9983-7b4a8192641e"
      },
      "execution_count": 31,
      "outputs": [
        {
          "output_type": "stream",
          "name": "stderr",
          "text": [
            "100%|██████████| 10/10 [00:52<00:00,  5.27s/it]\n"
          ]
        },
        {
          "output_type": "display_data",
          "data": {
            "text/plain": [
              "<Figure size 1440x504 with 2 Axes>"
            ],
            "image/png": "[encoded data removed]"
          },
          "metadata": {
            "needs_background": "light"
          }
        }
      ]
    },
    {
      "cell_type": "markdown",
      "source": [
        "In the following cells, perform experiments using the CNN you defined. You may need to reshape your data in order to 2D convolutions. \n",
        "\n",
        "Your objective is to find the best architecture that minimizes the error but using as few a parameters and FLOPS as possible. \n",
        "\n",
        "***Performance matters!*** The model with the best combination of high accuracy, parameter, and compute efficiency will get extra credit (15 pts)."
      ],
      "metadata": {
        "id": "8TT1pSu2ppPd"
      }
    },
    {
      "cell_type": "code",
      "source": [
        "class TheoNet(nn.Module):\n",
        "\n",
        "    def __init__(self, num_classes=10):\n",
        "        super(TheoNet, self).__init__()\n",
        "\n",
        "        # num_classes number of output classes\n",
        "        self.num_classes = num_classes\n",
        "        # 1 input image channel, \n",
        "        # 6 output channels\n",
        "        # 5x5 square convolution kernel\n",
        "        self.conv1 = nn.Conv2d(1, 6, 3)\n",
        "        # ReLU activation function\n",
        "        self.act1 = nn.ReLU()## this wont change the shape\n",
        "        # Max pooling with 2x2 square kernel\n",
        "        self.pool1 = nn.MaxPool2d(2)## this wil decrease the image dimension by 2\n",
        "        ## image dimension is dim 2nd last and last. \n",
        "\n",
        "        # Second convolution with 6 input image channels\n",
        "        self.conv2 = nn.Conv2d(6, 16, 3)##  6 the number of channels , # 16 is the output channels, 3 is the kernel size\n",
        "        self.act2 = nn.ReLU()\n",
        "        self.pool2 = nn.MaxPool2d(2)\n",
        "\n",
        "        ## it seems like we only care about the dimension when we are feeding into the fc layer\n",
        "        # 3 Layer fully connected layer\n",
        "\n",
        "        self.fc1 = nn.Linear(400, 120)## this is 16*4*4 because there are 16 channels and we have a 4x4 image output\n",
        "        self.act3 = nn.ReLU()\n",
        "        self.fc2 = nn.Linear(120, 84)\n",
        "        self.act4 = nn.ReLU()\n",
        "        self.fc3 = nn.Linear(84, num_classes)\n",
        "\n",
        "    def forward(self, x):\n",
        "        x = x.reshape(BATCH_SIZE,1,28,28)\n",
        "        # First Convolution -> Activation -> Max Pooling\n",
        "        x = self.conv1(x)\n",
        "        x = self.act1(x)\n",
        "        x = self.pool1(x)\n",
        "\n",
        "        # Second Convolution -> Activation -> Max Pooling\n",
        "        x = self.conv2(x)\n",
        "        x = self.act2(x)\n",
        "        x = self.pool2(x)\n",
        "\n",
        "        # flatten all dimensions except the batch dimension\n",
        "        x = torch.flatten(x, 1) \n",
        "        #print()\n",
        "        #print('shape before fc',x.shape)\n",
        "\n",
        "        # Three layer MLP with ReLU activations \n",
        "        x = self.act3(self.fc1(x))\n",
        "        x = self.act4(self.fc2(x))\n",
        "        x = self.fc3(x)\n",
        "\n",
        "        return x"
      ],
      "metadata": {
        "id": "5bzZVDfwppcs"
      },
      "execution_count": 32,
      "outputs": []
    },
    {
      "cell_type": "markdown",
      "source": [
        "**Implement** the following cell to compute and compare the test set performance (accuracy) of the linear classifiers and CNN."
      ],
      "metadata": {
        "id": "tQGx_PUwdLlX"
      }
    },
    {
      "cell_type": "code",
      "source": [
        "accuracy_stats = {\n",
        "    'train': [],\n",
        "    \"val\": []\n",
        "}\n",
        "loss_stats = {\n",
        "    'train': [],\n",
        "    \"val\": []\n",
        "}\n",
        "\n",
        "model_conv = TheoNet()## we are just working with MNIST data for now \n",
        "model_conv.to(device)\n",
        "\n",
        "criterion = nn.CrossEntropyLoss()\n",
        "optimizer = torch.optim.Adam(model.parameters(), lr = .001)##torch.nn.CrossEntropyLoss()\n",
        "\n",
        "\n",
        "train_loop(model_conv,train_loader, val_loader, criterion, optimizer,EPOCHS = 25)\n",
        "\n",
        "plot_scores(accuracy_stats,loss_stats)\n"
      ],
      "metadata": {
        "id": "kzt_M3dqdLzG",
        "colab": {
          "base_uri": "https://localhost:8080/",
          "height": 346
        },
        "outputId": "be8cf089-1fa7-4296-a530-b754275123cb"
      },
      "execution_count": 43,
      "outputs": [
        {
          "output_type": "stream",
          "name": "stderr",
          "text": [
            "100%|██████████| 25/25 [02:03<00:00,  4.95s/it]\n"
          ]
        },
        {
          "output_type": "display_data",
          "data": {
            "text/plain": [
              "<Figure size 1440x504 with 2 Axes>"
            ],
            "image/png": "[encoded data removed]"
          },
          "metadata": {
            "needs_background": "light"
          }
        }
      ]
    },
    {
      "cell_type": "markdown",
      "source": [
        "In the following cells ***write*** a short justification on how you came up with your final model and architecture. You may include details like:\n",
        "\n",
        "- Which optimizer did you use? Why did you use that? \n",
        "- What about the other hyperparameters? \n",
        "- Did you base your model on an existing architecture?\n",
        "- What changes did you make to improve accuracy?\n",
        "- What changes did you make to improvde performance? \n",
        "\n",
        "***Include*** visualizations for the effect of different batch sizes, learning rates, and optimizers. You are free to choose any method of visualization as long as it is able to succintly convey your justifications. "
      ],
      "metadata": {
        "id": "uhb5-NPKr6RQ"
      }
    },
    {
      "cell_type": "markdown",
      "source": [],
      "metadata": {
        "id": "tpaxF_nWr6go"
      }
    },
    {
      "cell_type": "markdown",
      "source": [
        "## Part 3: Real World Data (40 pts)"
      ],
      "metadata": {
        "id": "KzbKJhaarIae"
      }
    },
    {
      "cell_type": "markdown",
      "source": [
        "While test set accuracy is meant to approximate the perfomance in real world data, biases in data collection and processing often result in inaccurate performance estimates. In this section, you will be using the previously defined models to re-train on the data the class has collected. \n",
        "\n",
        "In user systems, noisy inputs are often likely. To make your model robust to faulty input, you will need to add an additional class to your model which corresponds to the label 10. This label is reserved for inputs that are **not** digits. \n"
      ],
      "metadata": {
        "id": "xlqE7pdPtiMG"
      }
    },
    {
      "cell_type": "markdown",
      "source": [
        "***Implement*** the following cells to load and convert the new dataset and combine the new dataset with old dataset.  \n",
        "\n",
        "Make sure you have downloaded the `MNIST580E_training.csv` and `MNIST580E_test.csv` files from the shared drive and uplodaded it to your GDrive. You will be combining our collected data with the MNIST dataset available with Colab.\n",
        "\n",
        "You will need to: \n",
        "\n",
        "\n",
        "- Mount your GDrive\n",
        "- Load the `MNIST580E_training.csv` and `MNIST580E_test.csv` files\n",
        "- Parse the files and create train and test datasets as you did previously \n",
        "  - Make sure to normalize the data and add data augmentation. You are free to use any augmentation you'd like. \n",
        "- Combine the new datasets with the dataset available on Colab.\n",
        "  - You can use the `ConcatDataset` or `ChainDataset`.  \n",
        "- Visualize the newly created data. This should serve as a sanity check for your newly written data pipeline. \n",
        "\n",
        "**Data Augmentation:**\n",
        "\n",
        "The collected data will have more variability compared to the original dataset. \n",
        "So you should make heavy use of data augmentation on the collected dataset. You can use augmentations such as as:\n",
        "\n",
        "- Rotation\n",
        "- Resize\n",
        "- Blur\n",
        "- Perspective shift\n",
        "\n",
        "**Another hint:** Since we are adding an additional class type (not a digit), our dataset will be imbalanced. There will be fewer samples with that label compared to other labels. You may want to \"double count\" (i.e duplicate) the not-a-digit samples in your collected dataset."
      ],
      "metadata": {
        "id": "twnfeBTdwjPJ"
      }
    },
    {
      "cell_type": "code",
      "source": [
        "from google.colab import drive\n",
        "drive.mount('/content/drive')"
      ],
      "metadata": {
        "colab": {
          "base_uri": "https://localhost:8080/"
        },
        "id": "x8jBQhexEiBW",
        "outputId": "9681364b-2eab-4479-9082-353285559c98"
      },
      "execution_count": 34,
      "outputs": [
        {
          "output_type": "stream",
          "name": "stdout",
          "text": [
            "Mounted at /content/drive\n"
          ]
        }
      ]
    },
    {
      "cell_type": "code",
      "source": [
        "! cd drive; ls"
      ],
      "metadata": {
        "colab": {
          "base_uri": "https://localhost:8080/"
        },
        "id": "27P_AROvGRbY",
        "outputId": "f35f6ce8-581b-426d-c48e-d117f303ae35"
      },
      "execution_count": 35,
      "outputs": [
        {
          "output_type": "stream",
          "name": "stdout",
          "text": [
            "MyDrive  Shareddrives\n"
          ]
        }
      ]
    },
    {
      "cell_type": "code",
      "source": [
        "\n",
        "img = Image.open(\"/content/drive/MyDrive/test/0_collected_image_test_0.png\")\n",
        "\n",
        "img_to_tensor = transforms.ToTensor()\n",
        "img = img_to_tensor(img)"
      ],
      "metadata": {
        "id": "Rjy_-mSjErU7"
      },
      "execution_count": 36,
      "outputs": []
    },
    {
      "cell_type": "code",
      "source": [
        "#b = torch.tensor([img,img])"
      ],
      "metadata": {
        "id": "UaxyS65_Kbjt"
      },
      "execution_count": 37,
      "outputs": []
    },
    {
      "cell_type": "code",
      "source": [
        "#torch.Tensor([1,2,3])"
      ],
      "metadata": {
        "id": "03-YRzrNSWyk"
      },
      "execution_count": 38,
      "outputs": []
    },
    {
      "cell_type": "code",
      "source": [
        "num_classes = 11## 10 digits and 1 non-digit.\n",
        "train_max_samples  = 61+1 ## 0 indexed and max number is 61\n",
        "num_train_images = train_max_samples * num_classes\n",
        "\n",
        "images = []\n",
        "train_labels = []\n",
        "\n",
        "#assert(num_train_images == )\n",
        "#for i in range(num_train_images):\n",
        "for sample_number in tqdm(range(train_max_samples)):\n",
        "  for class_label in range(num_classes):\n",
        "    folder_path = \"/content/drive/MyDrive/train/\"\n",
        "    img_path = str(class_label) + \"_collected_image_train_\"+str(sample_number)+\".png\"\n",
        "\n",
        "    img = Image.open(folder_path + img_path)\n",
        "    img = img_to_tensor(img)\n",
        "    images.append(img)\n",
        "    train_labels.append(class_label)\n",
        "\n",
        "train_imgs_tensor = torch.Tensor(num_train_images, 100, 100)\n",
        "torch.cat(images, out=train_imgs_tensor)\n",
        "assert(train_imgs_tensor.shape[0] ==num_train_images)"
      ],
      "metadata": {
        "colab": {
          "base_uri": "https://localhost:8080/"
        },
        "id": "A7v7Y7JdLiEc",
        "outputId": "718a0c83-8f8c-4e09-d41c-d999f9358b4b"
      },
      "execution_count": 39,
      "outputs": [
        {
          "output_type": "stream",
          "name": "stderr",
          "text": [
            "100%|██████████| 62/62 [01:47<00:00,  1.74s/it]\n",
            "/usr/local/lib/python3.7/dist-packages/ipykernel_launcher.py:21: UserWarning: An output with one or more elements was resized since it had shape [682, 100, 100], which does not match the required output shape [682, 28, 28]. This behavior is deprecated, and in a future PyTorch release outputs will not be resized unless they have zero elements. You can explicitly reuse an out tensor t by resizing it, inplace, to zero elements with t.resize_(0). (Triggered internally at  ../aten/src/ATen/native/Resize.cpp:17.)\n"
          ]
        }
      ]
    },
    {
      "cell_type": "code",
      "source": [
        "num_classes = 11## 10 digits and 1 non-digit.\n",
        "test_max_samples  = 30+1 ## 0 indexed and max number is 30\n",
        "num_test_images = test_max_samples * num_classes\n",
        "\n",
        "images = []\n",
        "test_labels = []\n",
        "\n",
        "#assert(num_train_images == )\n",
        "#for i in range(num_train_images):\n",
        "for sample_number in tqdm(range(test_max_samples)):\n",
        "  for class_label in range(num_classes):\n",
        "    folder_path = \"/content/drive/MyDrive/test/\"\n",
        "    img_path = str(class_label) + \"_collected_image_test_\"+str(sample_number)+\".png\"\n",
        "\n",
        "    img = Image.open(folder_path + img_path)\n",
        "    img = img_to_tensor(img)\n",
        "    images.append(img)\n",
        "    test_labels.append(class_label)\n",
        "\n",
        "test_imgs_tensor = torch.Tensor(num_test_images, 100, 100)\n",
        "torch.cat(images, out=test_imgs_tensor)\n",
        "assert(test_imgs_tensor.shape[0] ==num_test_images)"
      ],
      "metadata": {
        "colab": {
          "base_uri": "https://localhost:8080/"
        },
        "id": "O5mQfMIuTfdB",
        "outputId": "6da33568-0fdb-45a7-b927-65ae306eb326"
      },
      "execution_count": 40,
      "outputs": [
        {
          "output_type": "stream",
          "name": "stderr",
          "text": [
            "100%|██████████| 31/31 [00:52<00:00,  1.70s/it]\n",
            "/usr/local/lib/python3.7/dist-packages/ipykernel_launcher.py:21: UserWarning: An output with one or more elements was resized since it had shape [341, 100, 100], which does not match the required output shape [341, 28, 28]. This behavior is deprecated, and in a future PyTorch release outputs will not be resized unless they have zero elements. You can explicitly reuse an out tensor t by resizing it, inplace, to zero elements with t.resize_(0). (Triggered internally at  ../aten/src/ATen/native/Resize.cpp:17.)\n"
          ]
        }
      ]
    },
    {
      "cell_type": "code",
      "source": [
        "class ClassDigits(Dataset):\n",
        "  \"\"\"MNIST custom dataset that reads the CSV file and transforms them into PyTorch Tensors\"\"\"\n",
        "\n",
        "\n",
        "  def __init__(self, is_training=True, transform=None):\n",
        "\n",
        "    \"\"\"\n",
        "    Args:\n",
        "      is_training (bool): If true loads \n",
        "        the training dataset. If false, loads the test dataset. \n",
        "        Use the functions above.\n",
        "      transform (callable): Transform to be applied on a sample.\n",
        "        These will be used for data augmentations.\n",
        "    \"\"\"\n",
        "\n",
        "    if (is_training):\n",
        "    #self.data\n",
        "      self.X,self.Y = train_imgs_tensor, torch.Tensor(train_labels)#torch.from_numpy(D[1])\n",
        "\n",
        "    else: \n",
        "      self.X,self.Y = test_imgs_tensor, torch.Tensor(test_labels)\n",
        "    #trans_data = transform(self.data)\n",
        "    self.transform = transform\n",
        "\n",
        "    #self.XT,self.Y, = \n",
        "\n",
        "  def __len__(self):\n",
        "    Y = self.Y## should be the y\n",
        "    return(len(Y))\n",
        "    \n",
        "    \"\"\"Returns the size (the number of samples) of the dataset.\n",
        "    \"\"\"\n",
        "\n",
        "    \n",
        "\n",
        "  def __getitem__(self, i):\n",
        "    \"\"\"Returns the i-th sample and label and applies any transforms defined.\n",
        "\n",
        "      Args:\n",
        "        i (int): The index of sample in the data array to retrieve. \n",
        "    \"\"\"\n",
        "    if self.transform == None:\n",
        "      return self.X[i,:].reshape((28,28)) , self.Y[i] ## for X we want the specific row and all the columns. \n",
        "    else: \n",
        "      return self.transform(self.X[i,:].reshape((1,28,28))).reshape(28,28) , self.Y[i]\n",
        "    "
      ],
      "metadata": {
        "id": "4CDEZk_jIbKq"
      },
      "execution_count": 41,
      "outputs": []
    },
    {
      "cell_type": "code",
      "source": [
        "train_class_digits = ClassDigits(is_training = True, transform = trans)\n",
        "\n",
        "combined_train = torch.utils.data.ConcatDataset([train_class_digits, mnist_train])"
      ],
      "metadata": {
        "id": "EGZt3ewhqSDE"
      },
      "execution_count": 56,
      "outputs": []
    },
    {
      "cell_type": "code",
      "source": [
        "\n",
        "\n",
        "figure = plt.figure(figsize=(8, 8))\n",
        "cols, rows = 3, 4\n",
        "\n",
        "\n",
        "\n",
        "\n",
        "num = 0 \n",
        "\n",
        "for i in range(len(combined_train)):\n",
        "  x,y = combined_train[i]\n",
        "  if y == num: \n",
        "    \n",
        "    figure.add_subplot(rows, cols, num+1)\n",
        "    plt.imshow(x.reshape((28,28)))\n",
        "    num+=1\n",
        "  if num >9:\n",
        "    break\n",
        "\n",
        "plt.show()"
      ],
      "metadata": {
        "id": "9--R1a9dwjZ5",
        "colab": {
          "base_uri": "https://localhost:8080/",
          "height": 485
        },
        "outputId": "52e26273-19a4-4219-eddf-2ba23c8ce932"
      },
      "execution_count": 57,
      "outputs": [
        {
          "output_type": "display_data",
          "data": {
            "text/plain": [
              "<Figure size 576x576 with 10 Axes>"
            ],
            "image/png": "[encoded data removed]"
          },
          "metadata": {
            "needs_background": "light"
          }
        }
      ]
    },
    {
      "cell_type": "markdown",
      "source": [
        "**Implement** the following cell to use your previously trained CNN as a feature extractor. This is an example of [transfer learning](https://en.wikipedia.org/wiki/Transfer_learning). \n",
        "\n",
        "You will need to:\n",
        "- Freeze the layers of convolutional model you trained\n",
        "- Change the final linear layer have an additional output for the additional class.  \n",
        "\n",
        "Here's an example of taking the previously defined LeNet and updating the final layer to have 11 classes instead of 10. This also freezes the other weights in the LeNet. \n",
        "\n",
        "```python\n",
        "# model_conv is a trained LeNet example from above\n",
        "\n",
        "# Freeze the weights of the model\n",
        "# The gradients will not be calculated and the optimizer will not\n",
        "# update the weights\n",
        "for param in model_conv.parameters():\n",
        "    param.requires_grad = False\n",
        "\n",
        "# Parameters of newly constructed modules have requires_grad=True by default\n",
        "num_ftrs = model_conv.fc3.in_features\n",
        "model_conv.fc3 = nn.Linear(num_ftrs, 11)\n",
        "\n",
        "model_conv = model_conv.to(device)\n",
        "\n",
        "criterion = nn.CrossEntropyLoss()\n",
        "\n",
        "# Only parameters of final layer are being optimized not the other weights\n",
        "optimizer_conv = optim.SGD(model_conv.fc.parameters(), lr=0.001)\n",
        "```\n"
      ],
      "metadata": {
        "id": "mzY-itbyZvtD"
      }
    },
    {
      "cell_type": "code",
      "source": [
        "print(model_conv)"
      ],
      "metadata": {
        "id": "nCCCtNqUnRYL",
        "outputId": "037c5399-ace7-4be2-aada-14f30dc72f4a",
        "colab": {
          "base_uri": "https://localhost:8080/"
        }
      },
      "execution_count": 50,
      "outputs": [
        {
          "output_type": "stream",
          "name": "stdout",
          "text": [
            "TheoNet(\n",
            "  (conv1): Conv2d(1, 6, kernel_size=(3, 3), stride=(1, 1))\n",
            "  (act1): ReLU()\n",
            "  (pool1): MaxPool2d(kernel_size=2, stride=2, padding=0, dilation=1, ceil_mode=False)\n",
            "  (conv2): Conv2d(6, 16, kernel_size=(3, 3), stride=(1, 1))\n",
            "  (act2): ReLU()\n",
            "  (pool2): MaxPool2d(kernel_size=2, stride=2, padding=0, dilation=1, ceil_mode=False)\n",
            "  (fc1): Linear(in_features=400, out_features=120, bias=True)\n",
            "  (act3): ReLU()\n",
            "  (fc2): Linear(in_features=120, out_features=84, bias=True)\n",
            "  (act4): ReLU()\n",
            "  (fc3): Linear(in_features=84, out_features=11, bias=True)\n",
            ")\n"
          ]
        }
      ]
    },
    {
      "cell_type": "code",
      "source": [
        "# model_conv is a trained LeNet example from above\n",
        "\n",
        "# Freeze the weights of the model\n",
        "# The gradients will not be calculated and the optimizer will not\n",
        "# update the weights\n",
        "for param in model_conv.parameters():\n",
        "    param.requires_grad = False\n",
        "\n",
        "# Parameters of newly constructed modules have requires_grad=True by default\n",
        "num_ftrs = model_conv.fc3.in_features\n",
        "model_conv.fc3 = nn.Linear(num_ftrs, 11)\n",
        "\n",
        "model_conv = model_conv.to(device)\n",
        "\n",
        "criterion = nn.CrossEntropyLoss()\n",
        "\n",
        "# Only parameters of final layer are being optimized not the other weights\n",
        "optimizer_conv = torch.optim.Adam(model_conv.parameters(), lr = .001)#SGD(model_conv.fc.parameters(), lr=0.001)"
      ],
      "metadata": {
        "id": "nBZbXC8SZv8a"
      },
      "execution_count": 53,
      "outputs": []
    },
    {
      "cell_type": "markdown",
      "source": [
        "**Implement** the following cell to train the final layer of the convolution. Also calculate the test set performance on this fine-tuned model. "
      ],
      "metadata": {
        "id": "6Sp7sQjub7HY"
      }
    },
    {
      "cell_type": "code",
      "source": [
        "model_conv.train()"
      ],
      "metadata": {
        "id": "Izl74Ydtb8-Y",
        "colab": {
          "base_uri": "https://localhost:8080/"
        },
        "outputId": "e84ecb32-336f-4182-d14b-3a91459c82e1"
      },
      "execution_count": 54,
      "outputs": [
        {
          "output_type": "execute_result",
          "data": {
            "text/plain": [
              "TheoNet(\n",
              "  (conv1): Conv2d(1, 6, kernel_size=(3, 3), stride=(1, 1))\n",
              "  (act1): ReLU()\n",
              "  (pool1): MaxPool2d(kernel_size=2, stride=2, padding=0, dilation=1, ceil_mode=False)\n",
              "  (conv2): Conv2d(6, 16, kernel_size=(3, 3), stride=(1, 1))\n",
              "  (act2): ReLU()\n",
              "  (pool2): MaxPool2d(kernel_size=2, stride=2, padding=0, dilation=1, ceil_mode=False)\n",
              "  (fc1): Linear(in_features=400, out_features=120, bias=True)\n",
              "  (act3): ReLU()\n",
              "  (fc2): Linear(in_features=120, out_features=84, bias=True)\n",
              "  (act4): ReLU()\n",
              "  (fc3): Linear(in_features=84, out_features=11, bias=True)\n",
              ")"
            ]
          },
          "metadata": {},
          "execution_count": 54
        }
      ]
    },
    {
      "cell_type": "markdown",
      "source": [
        "***Implement*** the following cell to retrain the linear classifiers (LinearSVM and Softmax). Note that you have an extra class as your model should also detect \"not a digit\". "
      ],
      "metadata": {
        "id": "cQyYbK6AuqUQ"
      }
    },
    {
      "cell_type": "code",
      "source": [],
      "metadata": {
        "id": "UKvrkj9uupeC"
      },
      "execution_count": null,
      "outputs": []
    },
    {
      "cell_type": "markdown",
      "source": [
        "***Implement*** the following cell to retrain your previously defined CNN model. "
      ],
      "metadata": {
        "id": "dEKnIfUnu0DF"
      }
    },
    {
      "cell_type": "code",
      "source": [],
      "metadata": {
        "id": "_ovyuauM65eA"
      },
      "execution_count": null,
      "outputs": []
    },
    {
      "cell_type": "markdown",
      "source": [
        "**Implement** a visualization of the [confusion matrix](https://en.wikipedia.org/wiki/Confusion_matrix) on the **new** combined test set with the predictions from your LinearSVM, Softmax, and CNN. You should use a single `Matplotlib` figure with multiple subplots on a single row. \n",
        "\n",
        "[See here for examples on using plt.subplots.](https://matplotlib.org/stable/gallery/subplots_axes_and_figures/subplots_demo.html)"
      ],
      "metadata": {
        "id": "dhtx446K5FNI"
      }
    },
    {
      "cell_type": "code",
      "source": [],
      "metadata": {
        "id": "q_rCWjbVupm4"
      },
      "execution_count": null,
      "outputs": []
    },
    {
      "cell_type": "markdown",
      "source": [
        "In the following cells, write a short report about the performance of your models. You should include the effects of new data, data augmentation, and different architectures. You should also include visualizations as you did before. "
      ],
      "metadata": {
        "id": "xxv4Zf51wSpx"
      }
    },
    {
      "cell_type": "markdown",
      "source": [],
      "metadata": {
        "id": "HnMP5lDUwTd4"
      }
    }
  ]
}