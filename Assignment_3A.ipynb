{
  "nbformat": 4,
  "nbformat_minor": 0,
  "metadata": {
    "colab": {
      "provenance": [],
      "collapsed_sections": [],
      "include_colab_link": true
    },
    "kernelspec": {
      "name": "python3",
      "display_name": "Python 3"
    },
    "language_info": {
      "name": "python"
    },
    "accelerator": "GPU",
    "gpuClass": "standard"
  },
  "cells": [
    {
      "cell_type": "markdown",
      "metadata": {
        "id": "view-in-github",
        "colab_type": "text"
      },
      "source": [
        "<a href=\"https://colab.research.google.com/github/ttourneux/Final-Project/blob/main/Assignment_3A.ipynb\" target=\"_parent\"><img src=\"https://colab.research.google.com/assets/colab-badge.svg\" alt=\"Open In Colab\"/></a>"
      ]
    },
    {
      "cell_type": "markdown",
      "source": [
        "## questions \n",
        "1. should we call transform on our data or only in get_item? \n",
        "  - we should transform our whole dataset which will be (nsamples, 28,28)\n",
        "\n",
        "\n",
        "3. for data aumentation for part 3, how much do we need for full credit\n",
        "\n",
        "4. should I make a new training loop for the transfer learning? \n"
      ],
      "metadata": {
        "id": "fljyUUmV5FXi"
      }
    },
    {
      "cell_type": "markdown",
      "source": [
        "## still to do :     \n",
        "1. make visualizations for different hyperparameters\n",
        "2. write up for part 1 \n",
        "3. use test data ie compare test performance of Linear Classifers and CNN.\n",
        "\n",
        "\n",
        "4. part B\n",
        "  1. add extra data augementations\n"
      ],
      "metadata": {
        "id": "WKMrFduQilv2"
      }
    },
    {
      "cell_type": "markdown",
      "source": [
        "### Author Information\n",
        "Name: Theodore Tourneux\n",
        "\n",
        "B-Number: NA\n",
        "\n",
        "Email: ttourne1@binghamton.edu"
      ],
      "metadata": {
        "id": "81T2mLygbYCe"
      }
    },
    {
      "cell_type": "markdown",
      "source": [
        "## General Instructions \n",
        "### Due November 11th, 11:59 PM.\n",
        "\n",
        "In the following assignment, you will be using the deep learning framework, PyTorch, to perform computer vision tasks such as image classification and object detection. This will be a report-style assignment, where you will try multiple different models, optimization algorithms, and hyperparameters, and present your findings in a short report with visualizations inside the notebook.  \n",
        "\n",
        "\n",
        "Functions and cells that need to be implemented are marked with a bold **implement** keyword or clearly marked in the experiments section. \n",
        "\n",
        "The experiments section for each classifier also need to be implemented. You should follow the instructions above the cell. You may also add additional cells. \n",
        "\n",
        "Cells marked **run** need to be run to set up the appropriate infrastructure, but do not need to be modified. Make sure you have run the previous cells before running the current cell, or you may get an error.\n",
        "\n",
        "It is standard practice in ML to share notebooks to discuss the workflow and results in a professional setting. So, the code quality also matters. You should make sure your code is readable and conforms to standard practices. Your figures should be intelligable and include proper axis labels, titles, and legends. Unreadable and poorly written code may result in a points deduction.  \n",
        "\n",
        "Submission will be via GitHub Classroom. **You are required to have at least 10 commits for this assignment.**"
      ],
      "metadata": {
        "id": "FANk9dekbYM0"
      }
    },
    {
      "cell_type": "markdown",
      "source": [
        "## Uploading and Downloading Data from Colab\n",
        "\n",
        "Unlike the previous assignments, you will downloading and uploading additional data from and into the Colab environment. \n",
        "\n",
        "You can mount directories from your Google Drive and use the session storage for your work. \n",
        "\n",
        "[Take a look here for an example notebook on handling data download and upload on Colab. ](https://colab.research.google.com/notebooks/io.ipynb#scrollTo=hauvGV4hV-Mh)"
      ],
      "metadata": {
        "id": "WAzKOfYiS5JK"
      }
    },
    {
      "cell_type": "markdown",
      "source": [
        "## Import statements\n",
        "\n",
        "**Run** the cell to import the packages needed for the code below. You may other packages but ask first. "
      ],
      "metadata": {
        "id": "u6edQRQycJJv"
      }
    },
    {
      "cell_type": "code",
      "execution_count": null,
      "metadata": {
        "id": "cny_JSAkGykH"
      },
      "outputs": [],
      "source": [
        "import torch\n",
        "import csv\n",
        "import matplotlib.pyplot as plt\n",
        "import cv2 as cv\n",
        "import numpy as np\n",
        "import torch.nn as nn\n",
        "import torch.nn.functional as F\n",
        "from torch.utils.data import Dataset, DataLoader\n",
        "from torchvision import transforms, utils\n",
        "\n",
        "\n",
        "\n",
        "from tqdm import tqdm\n",
        "import pandas as pd \n",
        "import seaborn as sns\n",
        "from PIL import Image"
      ]
    },
    {
      "cell_type": "code",
      "source": [
        "torch.manual_seed(42)  # Set the seed for the random number generator "
      ],
      "metadata": {
        "id": "SBvLHg2PeHa6",
        "colab": {
          "base_uri": "https://localhost:8080/"
        },
        "outputId": "11515e0b-a41d-46dc-95d3-96187ba3c77e"
      },
      "execution_count": null,
      "outputs": [
        {
          "output_type": "execute_result",
          "data": {
            "text/plain": [
              "<torch._C.Generator at 0x1e217215110>"
            ]
          },
          "metadata": {},
          "execution_count": 2
        }
      ]
    },
    {
      "cell_type": "markdown",
      "source": [
        "## CUDA Runtime\n",
        "\n",
        "You will want to make use of the GPU runtimes on Colab to speed up your training. You can change your runtime by going to:\n",
        "\n",
        "`Runtime > Change runtime type` and selecting GPU. \n",
        "\n",
        "You will have to explicitly use the send Torch tensors to GPUs, by calling `.cuda()`  on the tensors and modules to utilize them on the GPU.\n",
        "\n",
        "[Take a look at the quickstart for PyTorch](https://pytorch.org/tutorials/beginner/basics/quickstart_tutorial.html)"
      ],
      "metadata": {
        "id": "tVBtO8uWVqua"
      }
    },
    {
      "cell_type": "code",
      "source": [
        "device = \"cuda\" if torch.cuda.is_available() else \"cpu\"\n",
        "print(f\"Using {device} device\")"
      ],
      "metadata": {
        "id": "AHalgZKOVrMJ",
        "colab": {
          "base_uri": "https://localhost:8080/"
        },
        "outputId": "9777f239-1fb5-4752-dcba-2f63b114fbd3"
      },
      "execution_count": null,
      "outputs": [
        {
          "output_type": "stream",
          "name": "stdout",
          "text": [
            "Using cuda device\n"
          ]
        }
      ]
    },
    {
      "cell_type": "code",
      "source": [],
      "metadata": {
        "id": "urPcr0TQvqCG"
      },
      "execution_count": null,
      "outputs": []
    },
    {
      "cell_type": "markdown",
      "source": [
        "## Part 1: Data Handling in PyTorch (20 pts)"
      ],
      "metadata": {
        "id": "31UCwNBSercl"
      }
    },
    {
      "cell_type": "markdown",
      "source": [
        "### Dataset class\n",
        "\n",
        "A large part of any machine learning workflow is the proper and efficient handling of data. Datasets are often large, scattered across filesystems, and require transformations and augmentation. Deep learning libraries such as `PyTorch` provide utilities to help in this process. In the next section, you will write a custom MNIST dataset and add data augmentation to your data pipeline for your traininig. "
      ],
      "metadata": {
        "id": "i_2o6fS-e8ze"
      }
    },
    {
      "cell_type": "markdown",
      "source": [
        "**Run** the following cell to define some helper functions to load the MNIST data."
      ],
      "metadata": {
        "id": "M0gworgQibYL"
      }
    },
    {
      "cell_type": "code",
      "source": [
        "def _data_parser_helper(csv_file_name):\n",
        "  '''\n",
        "  Reads CSV file and converts it into numpy arrays.\n",
        "\n",
        "  Args:\n",
        "    csv_file_name (string): String of the path of csv file. \n",
        "\n",
        "  Returns:\n",
        "    (np.array(float), np.array(int)): Returns a tuple of numpy arrays. \n",
        "  '''\n",
        "  X = []\n",
        "  Y = []\n",
        "  with open(csv_file_name,'r') as _file:\n",
        "      csv_reader = csv.reader(_file, delimiter=\",\")\n",
        "      for row in csv_reader:\n",
        "          Y.append(int(row[0]))\n",
        "          X.append([float(i)/255.0 for i in row[1:]])\n",
        "  return (np.array(X), np.array(Y))\n",
        "\n",
        "def get_mnist_train_data():\n",
        "  X_train, Y_train = _data_parser_helper(\"sample_data/mnist_train_small.csv\")\n",
        "  return X_train, Y_train\n",
        "\n",
        "def get_mnist_test_data():\n",
        "  X_test, Y_test = _data_parser_helper(\"sample_data/mnist_test.csv\")\n",
        "  return X_test, Y_test"
      ],
      "metadata": {
        "id": "12py4n6GiYOB"
      },
      "execution_count": null,
      "outputs": []
    },
    {
      "cell_type": "markdown",
      "source": [
        "***Implement*** the `MNIST` class to serve as a container for our PyTorch MNIST data. [Take a look at this tutorial on PyTorch datasets, dataloading, and transforms.](https://pytorch.org/tutorials/beginner/data_loading_tutorial.html#dataset-class)\n",
        "[This second, more important tutorial specifically covers custom datasets and dataloaders.](https://pytorch.org/tutorials/beginner/basics/data_tutorial.html#creating-a-custom-dataset-for-your-files)\n",
        "\n",
        "The MNIST data on Colab is pre-installed on all notebooks as a CSV.\n",
        "Your class must read the data and store it as PyTorch float tensors. \n",
        "Use the helper functions above (already written) to read the data,\n",
        "which will return the data as NumPy arrays.\n",
        "\n",
        "You should implement:\n",
        "\n",
        "- `__init__()` to read the appropriate CSV file, and store it in the class as a `torch.Tensor` with float dtype. \n",
        "- `__len__()` to return the number of samples in the dataset. \n",
        "- `__getitem__(i)` to return the i-th sample and label from the data you have stored. "
      ],
      "metadata": {
        "id": "3-Gm0Tyeigj-"
      }
    },
    {
      "cell_type": "code",
      "source": [
        "%time\n",
        "\n",
        "X_train, Y_train = get_mnist_train_data()\n"
      ],
      "metadata": {
        "colab": {
          "base_uri": "https://localhost:8080/"
        },
        "id": "mmDKXr6N0uqg",
        "outputId": "f7dae1c7-1400-45ee-952d-b922609cfef8"
      },
      "execution_count": null,
      "outputs": [
        {
          "output_type": "stream",
          "name": "stdout",
          "text": [
            "Wall time: 0 ns\n"
          ]
        }
      ]
    },
    {
      "cell_type": "code",
      "source": [
        "type(X_train)"
      ],
      "metadata": {
        "colab": {
          "base_uri": "https://localhost:8080/"
        },
        "id": "NFxruXvx0uKZ",
        "outputId": "0527a533-0ee4-4bd2-b5dd-ccfdbca3398b"
      },
      "execution_count": null,
      "outputs": [
        {
          "output_type": "execute_result",
          "data": {
            "text/plain": [
              "numpy.ndarray"
            ]
          },
          "metadata": {},
          "execution_count": 6
        }
      ]
    },
    {
      "cell_type": "code",
      "source": [
        "X_train.shape"
      ],
      "metadata": {
        "colab": {
          "base_uri": "https://localhost:8080/"
        },
        "id": "-zal-0_FIOqc",
        "outputId": "90409ad3-463d-41f7-8a58-85a6ec2cdcd6"
      },
      "execution_count": null,
      "outputs": [
        {
          "output_type": "execute_result",
          "data": {
            "text/plain": [
              "(20000, 784)"
            ]
          },
          "metadata": {},
          "execution_count": 7
        }
      ]
    },
    {
      "cell_type": "code",
      "source": [
        "len(torch.from_numpy(Y_train,))"
      ],
      "metadata": {
        "colab": {
          "base_uri": "https://localhost:8080/"
        },
        "id": "qkQoN_LG3m8B",
        "outputId": "991832c4-31bd-4632-cd49-02038004b3bb"
      },
      "execution_count": null,
      "outputs": [
        {
          "output_type": "execute_result",
          "data": {
            "text/plain": [
              "20000"
            ]
          },
          "metadata": {},
          "execution_count": 8
        }
      ]
    },
    {
      "cell_type": "code",
      "source": [
        "class MNIST(Dataset):\n",
        "  \"\"\"MNIST custom dataset that reads the CSV file and transforms them into PyTorch Tensors\"\"\"\n",
        "\n",
        "\n",
        "  def __init__(self, is_training=True, transform=None):\n",
        "\n",
        "    \"\"\"\n",
        "    Args:\n",
        "      is_training (bool): If true loads \n",
        "        the training dataset. If false, loads the test dataset. \n",
        "        Use the functions above.\n",
        "      transform (callable): Transform to be applied on a sample.\n",
        "        These will be used for data augmentations.\n",
        "    \"\"\"\n",
        "    if(is_training):\n",
        "      D = get_mnist_train_data() \n",
        "    else: \n",
        "      D = get_mnist_test_data()\n",
        "    \n",
        "    #self.data\n",
        "    self.X,self.Y = torch.from_numpy(D[0]), torch.from_numpy(D[1])\n",
        "\n",
        "    #trans_data = transform(self.data)\n",
        "    self.transform = transform\n",
        "\n",
        "    #self.XT,self.Y, = \n",
        "\n",
        "  def __len__(self):\n",
        "    Y = self.Y## should be the y\n",
        "    return(len(Y))\n",
        "    \n",
        "    \"\"\"Returns the size (the number of samples) of the dataset.\n",
        "    \"\"\"\n",
        "\n",
        "    \n",
        "\n",
        "  def __getitem__(self, i):\n",
        "    \"\"\"Returns the i-th sample and label and applies any transforms defined.\n",
        "\n",
        "      Args:\n",
        "        i (int): The index of sample in the data array to retrieve. \n",
        "    \"\"\"\n",
        "    if self.transform == None:\n",
        "      return self.X[i,:].reshape((28,28)) , self.Y[i] ## for X we want the specific row and all the columns. \n",
        "    else: \n",
        "      return self.transform(self.X[i,:].reshape((1,28,28))).reshape(28,28) , self.Y[i]\n",
        "    "
      ],
      "metadata": {
        "id": "FF0eE-oge8F1"
      },
      "execution_count": null,
      "outputs": []
    },
    {
      "cell_type": "markdown",
      "source": [
        "***Implement*** the following cell to visualize the data in the dataset. Use `Matplotlib` or your favorite visualization package to plot 5 images of each class in a single figure. \n",
        "\n",
        "You should initialize a MNIST dataset object for the training class. Visualize this dataset. This will not be used in the future.  \n",
        "\n"
      ],
      "metadata": {
        "id": "fy6B1261lufJ"
      }
    },
    {
      "cell_type": "code",
      "source": [
        "#redo\n",
        "\n",
        "training_mnist = MNIST()\n",
        "\n",
        "figure = plt.figure(figsize=(8, 8))\n",
        "cols, rows = 5, 11\n",
        "\n",
        "\n",
        "\n",
        "img_num = 0 \n",
        "num = 0 \n",
        "count =0 \n",
        "for i in range(len(training_mnist)):\n",
        "  x,y = training_mnist[i]\n",
        "  if y == num: \n",
        "    \n",
        "    figure.add_subplot(rows, cols, img_num+1)\n",
        "    plt.imshow(x.reshape((28,28)))\n",
        "    img_num +=1\n",
        "    count+=1\n",
        "    if count ==5: \n",
        "      num+=1\n",
        "      count = 0\n",
        "  if num >9:\n",
        "    break\n",
        "\n",
        "plt.show()"
      ],
      "metadata": {
        "id": "xVd1ODta7IHG",
        "colab": {
          "base_uri": "https://localhost:8080/",
          "height": 446
        },
        "outputId": "0e65f88f-79a4-4b1e-df42-fa2c00eadb36"
      },
      "execution_count": null,
      "outputs": [
        {
          "output_type": "display_data",
          "data": {
            "text/plain": [
              "<Figure size 576x576 with 50 Axes>"
            ],
            "image/png": "[encoded data removed]"
          },
          "metadata": {
            "needs_background": "light"
          }
        }
      ]
    },
    {
      "cell_type": "markdown",
      "source": [
        "***Implement***\n",
        "the following cell to create a PyTorch transform object and\n",
        "assign it to a variable.\n",
        "You may name the variable whatever you wish;\n",
        "you will use the object to construct train and test MNIST datasets.\n",
        "\n",
        "You will use the transformations defined in `torchvision`,\n",
        "which can be found [here](https://pytorch.org/vision/stable/transforms.html#transforms-on-pil-image-and-torch-tensor).\n",
        "\n",
        "Add the `RandomRotation` and `Normalize` transformations to the dataset. You will need to [compose the two transforms](https://pytorch.org/vision/0.9/transforms.html#torchvision.transforms.Compose). Restrict the rotations to +/- 15 degrees. \n",
        "\n",
        "The mean and standard deviation of the training set is 0.13 and 0.31 respectively.\n",
        "\n",
        "At the end of the cell, construct a training and test dataset.\n",
        "Name these carefully, these datasets will be used in the next sections."
      ],
      "metadata": {
        "id": "Y14bBS2fmbEv"
      }
    },
    {
      "cell_type": "code",
      "source": [
        "trans = transforms.Compose([\n",
        "     transforms.RandomRotation(degrees = 15),\n",
        "     transforms.Normalize(.13, .31, inplace=False),\n",
        " ])"
      ],
      "metadata": {
        "id": "oubD-YBVtqCR"
      },
      "execution_count": null,
      "outputs": []
    },
    {
      "cell_type": "code",
      "source": [
        "'''img = torch.reshape(training_mnist[15][0], (28,28))\n",
        "vflipper = transforms.RandomVerticalFlip(p=0.5)\n",
        "transformed_imgs = vflipper(img) \n",
        "plt.imshow(transformed_imgs)'''"
      ],
      "metadata": {
        "colab": {
          "base_uri": "https://localhost:8080/"
        },
        "id": "Wy-JjfvKDQBi",
        "outputId": "98628a90-28fc-41b1-eec6-fdc1547caf5f"
      },
      "execution_count": null,
      "outputs": [
        {
          "output_type": "execute_result",
          "data": {
            "text/plain": [
              "'img = torch.reshape(training_mnist[15][0], (28,28))\\nvflipper = transforms.RandomVerticalFlip(p=0.5)\\ntransformed_imgs = vflipper(img) \\nplt.imshow(transformed_imgs)'"
            ]
          },
          "metadata": {},
          "execution_count": 12
        }
      ]
    },
    {
      "cell_type": "code",
      "source": [
        "'''rotator = transforms.RandomRotation(degrees = (0,180))\n",
        "img = torch.reshape(training_mnist[10][0], (28,28))\n",
        "rotated_img = rotator(img)## 10th entry and taking the x values '''"
      ],
      "metadata": {
        "colab": {
          "base_uri": "https://localhost:8080/"
        },
        "id": "ZoteAvpkAUgP",
        "outputId": "95f4ebaf-b0f5-4fde-944e-757c7718c460"
      },
      "execution_count": null,
      "outputs": [
        {
          "output_type": "execute_result",
          "data": {
            "text/plain": [
              "'rotator = transforms.RandomRotation(degrees = (0,180))\\nimg = torch.reshape(training_mnist[10][0], (28,28))\\nrotated_img = rotator(img)## 10th entry and taking the x values '"
            ]
          },
          "metadata": {},
          "execution_count": 13
        }
      ]
    },
    {
      "cell_type": "code",
      "source": [],
      "metadata": {
        "id": "XuaxMCDvA47I"
      },
      "execution_count": null,
      "outputs": []
    },
    {
      "cell_type": "code",
      "source": [
        "testing_mnist = MNIST(is_training = False, transform = trans)"
      ],
      "metadata": {
        "id": "jtKGgyI3mbPA"
      },
      "execution_count": null,
      "outputs": []
    },
    {
      "cell_type": "markdown",
      "source": [
        "***Implement*** the following cell to visualize the data in the dataset with the transformations similar to the previous visualization. "
      ],
      "metadata": {
        "id": "ANOuWwmSnPkF"
      }
    },
    {
      "cell_type": "code",
      "source": [
        "training_mnist = MNIST(is_training = False ,transform = trans)\n",
        "\n",
        "figure = plt.figure(figsize=(8, 8))\n",
        "cols, rows = 5, 11\n",
        "\n",
        "\n",
        "\n",
        "img_num = 0 \n",
        "num = 0 \n",
        "count =0 \n",
        "for i in range(len(training_mnist)):\n",
        "  x,y = training_mnist[i]\n",
        "  if y == num: \n",
        "    \n",
        "    figure.add_subplot(rows, cols, img_num+1)\n",
        "    plt.imshow(x.reshape((28,28)))\n",
        "    img_num +=1\n",
        "    count+=1\n",
        "    if count ==5: \n",
        "      num+=1\n",
        "      count = 0\n",
        "  if num >9:\n",
        "    break\n",
        "\n",
        "plt.show()"
      ],
      "metadata": {
        "colab": {
          "base_uri": "https://localhost:8080/",
          "height": 446
        },
        "id": "gbIS5maMBn0F",
        "outputId": "98fb0380-66a7-4ac2-fb5f-ce9275178ccd"
      },
      "execution_count": null,
      "outputs": [
        {
          "output_type": "display_data",
          "data": {
            "text/plain": [
              "<Figure size 576x576 with 50 Axes>"
            ],
            "image/png": "[encoded data removed]"
          },
          "metadata": {
            "needs_background": "light"
          }
        }
      ]
    },
    {
      "cell_type": "markdown",
      "source": [
        "***Implement*** the following cell to randomly split the training dataset previously defined, and make a training and validation set. Do an 80-20 split for the training and validation set. Name these sets carefully, they will be used in the next section to train your models. \n",
        "\n",
        "You can use the utilities in `torch.utils.data`."
      ],
      "metadata": {
        "id": "FqND0a-DngYL"
      }
    },
    {
      "cell_type": "code",
      "source": [
        "len(training_mnist)"
      ],
      "metadata": {
        "id": "ky9uf94N2MrA",
        "outputId": "6307d5fe-cb16-4798-b2b8-67790f3a67de",
        "colab": {
          "base_uri": "https://localhost:8080/"
        }
      },
      "execution_count": null,
      "outputs": [
        {
          "output_type": "execute_result",
          "data": {
            "text/plain": [
              "10000"
            ]
          },
          "metadata": {},
          "execution_count": 16
        }
      ]
    },
    {
      "cell_type": "code",
      "source": [
        "mnist_train, mnist_val = torch.utils.data.random_split(training_mnist, lengths =[int(len(training_mnist)*.80),int(len(training_mnist)*.2)])"
      ],
      "metadata": {
        "id": "QIT0omqUngq8"
      },
      "execution_count": null,
      "outputs": []
    },
    {
      "cell_type": "markdown",
      "source": [
        "## Part 2: MNIST Classification (40 pts)"
      ],
      "metadata": {
        "id": "naiZzb4OcipT"
      }
    },
    {
      "cell_type": "markdown",
      "source": [
        "### Linear Classifiers\n",
        "\n",
        "The linear classifiers you implemented in the last assignment will serve as our baseline for more powerful convolutional neural networks. You will ***implement*** the multi-class SVM and  Softmax classifiers in the following cells.  "
      ],
      "metadata": {
        "id": "VHaGaWsQcuWa"
      }
    },
    {
      "cell_type": "markdown",
      "source": [
        "**Implement** a LinearSVM classifier in the following cell. Your implementation should be a python class that inherits from `torch.nn.Module`. \n",
        "\n",
        "You should use classes and functions defined in `torch.nn` and `torch.nn.Functional`.   "
      ],
      "metadata": {
        "id": "Rrg6BMCWdaTi"
      }
    },
    {
      "cell_type": "code",
      "source": [
        "class LinearSVM(nn.Module):\n",
        "  ''' Implements the linear SVM using Torch.\n",
        "  '''\n",
        "  def __init__(self, num_classes, *args, **kwargs):\n",
        "    '''\n",
        "      num_classes (int): The number of output classes\n",
        "    '''\n",
        "    #super(LinearSVM, self).__init__()\n",
        "    super().__init__()\n",
        "    self.num_classes = num_classes\n",
        "\n",
        "    self.layer1 = nn.Linear(28*28, num_classes)\n",
        "\n",
        "    #self.layer1 = nn.Linear(28*28, 512)\n",
        "    #self.layer2 = nn.Linear(512, 128)\n",
        "    #self.layer3 = nn.Linear(128,64 )\n",
        "    #self.layer_out = nn.functional.softmax(64,self.num_classes)\n",
        "    #self.layer_out = nn.\n",
        "\n",
        "  def forward(self, x, BATCH_SIZE = BATCH_SIZE):\n",
        "    '''\n",
        "      x (torch.Tensor): Input image as a torch tensor. \n",
        "    '''\n",
        "    #x = x.reshape(28*28,10)\n",
        "    x = self.layer1(x)\n",
        "\n",
        "\n",
        "    return x \n"
      ],
      "metadata": {
        "id": "VdQU1itSctyR",
        "colab": {
          "base_uri": "https://localhost:8080/",
          "height": 356
        },
        "outputId": "bc03f2e0-0f57-4a79-88a1-201bd84a316f"
      },
      "execution_count": null,
      "outputs": [
        {
          "output_type": "error",
          "ename": "NameError",
          "evalue": "ignored",
          "traceback": [
            "\u001b[1;31m---------------------------------------------------------------------------\u001b[0m",
            "\u001b[1;31mNameError\u001b[0m                                 Traceback (most recent call last)",
            "\u001b[1;32m~\\AppData\\Local\\Temp\\ipykernel_11244\\3331533228.py\u001b[0m in \u001b[0;36m<module>\u001b[1;34m\u001b[0m\n\u001b[1;32m----> 1\u001b[1;33m \u001b[1;32mclass\u001b[0m \u001b[0mLinearSVM\u001b[0m\u001b[1;33m(\u001b[0m\u001b[0mnn\u001b[0m\u001b[1;33m.\u001b[0m\u001b[0mModule\u001b[0m\u001b[1;33m)\u001b[0m\u001b[1;33m:\u001b[0m\u001b[1;33m\u001b[0m\u001b[1;33m\u001b[0m\u001b[0m\n\u001b[0m\u001b[0;32m      2\u001b[0m   ''' Implements the linear SVM using Torch.\n\u001b[0;32m      3\u001b[0m   '''\n\u001b[0;32m      4\u001b[0m   \u001b[1;32mdef\u001b[0m \u001b[0m__init__\u001b[0m\u001b[1;33m(\u001b[0m\u001b[0mself\u001b[0m\u001b[1;33m,\u001b[0m \u001b[0mnum_classes\u001b[0m\u001b[1;33m,\u001b[0m \u001b[1;33m*\u001b[0m\u001b[0margs\u001b[0m\u001b[1;33m,\u001b[0m \u001b[1;33m**\u001b[0m\u001b[0mkwargs\u001b[0m\u001b[1;33m)\u001b[0m\u001b[1;33m:\u001b[0m\u001b[1;33m\u001b[0m\u001b[1;33m\u001b[0m\u001b[0m\n\u001b[0;32m      5\u001b[0m     '''\n",
            "\u001b[1;32m~\\AppData\\Local\\Temp\\ipykernel_11244\\3331533228.py\u001b[0m in \u001b[0;36mLinearSVM\u001b[1;34m()\u001b[0m\n\u001b[0;32m     18\u001b[0m     \u001b[1;31m#self.layer_out = nn.\u001b[0m\u001b[1;33m\u001b[0m\u001b[1;33m\u001b[0m\u001b[1;33m\u001b[0m\u001b[0m\n\u001b[0;32m     19\u001b[0m \u001b[1;33m\u001b[0m\u001b[0m\n\u001b[1;32m---> 20\u001b[1;33m   \u001b[1;32mdef\u001b[0m \u001b[0mforward\u001b[0m\u001b[1;33m(\u001b[0m\u001b[0mself\u001b[0m\u001b[1;33m,\u001b[0m \u001b[0mx\u001b[0m\u001b[1;33m,\u001b[0m \u001b[0mBATCH_SIZE\u001b[0m \u001b[1;33m=\u001b[0m \u001b[0mBATCH_SIZE\u001b[0m\u001b[1;33m)\u001b[0m\u001b[1;33m:\u001b[0m\u001b[1;33m\u001b[0m\u001b[1;33m\u001b[0m\u001b[0m\n\u001b[0m\u001b[0;32m     21\u001b[0m     '''\n\u001b[0;32m     22\u001b[0m       \u001b[0mx\u001b[0m \u001b[1;33m(\u001b[0m\u001b[0mtorch\u001b[0m\u001b[1;33m.\u001b[0m\u001b[0mTensor\u001b[0m\u001b[1;33m)\u001b[0m\u001b[1;33m:\u001b[0m \u001b[0mInput\u001b[0m \u001b[0mimage\u001b[0m \u001b[1;32mas\u001b[0m \u001b[0ma\u001b[0m \u001b[0mtorch\u001b[0m \u001b[0mtensor\u001b[0m\u001b[1;33m.\u001b[0m\u001b[1;33m\u001b[0m\u001b[1;33m\u001b[0m\u001b[0m\n",
            "\u001b[1;31mNameError\u001b[0m: name 'BATCH_SIZE' is not defined"
          ]
        }
      ]
    },
    {
      "cell_type": "markdown",
      "source": [
        "***Implement*** using any PyTorch defined optimizer, code to train your LinearSVM classifier on the training dataset. You will want to try different optimizers, learning rates, and batch sizes. \n",
        "\n",
        "PyTorch provides implementations of various optimization algorithms in the `torch.optim` package. You can use any of the first order methods such as:\n",
        "\n",
        "- SGD (with or without momentum)\n",
        "- AdaDelta\n",
        "- ADAM\n",
        "- RProp\n",
        "- RMSProp\n",
        "\n",
        "***Note:*** You should keep track of the performance of the optimizers, batch sizes, and learning rates. You should justify the choice of your hyperparameters in the report at the end of this section. You will be asked to quantify and visualize the differences between these hyperparameters. \n",
        "\n",
        "You should use `Torch.utils.data.DataLoader` to do the data loading. Make sure to use the correct loss function. You may use the predefined loss functions available in `Torch.nn`.\n",
        "\n",
        "***Note:*** As the optimization procedure for training different models is often the same, you should write helper functions that are reusable. This will make your code more readable and reduce the possibility of unexpected bugs.  \n",
        "\n",
        "To train a single model, you will need to:\n",
        "\n",
        "- Iterate through the data in batches using your training or validation dataloader\n",
        "- Perform the forward pass\n",
        "- Compute the loss\n",
        "- Perform the backward pass\n",
        "- Take an optimizer step\n",
        "- Repeat the process till network converges or some other criterion\n",
        "- Every n iterations, go through the validation set and calculate the loss and accuracy of the validation set to check your training performance"
      ],
      "metadata": {
        "id": "9zwabAUlda_i"
      }
    },
    {
      "cell_type": "code",
      "source": [
        "model = LinearSVM(10)## we are just working with MNIST data for now \n",
        "model.to(device)\n",
        "\n",
        "#criterion = nn.CrossEntropyLoss()## this is the loss.\n",
        "criterion = nn.MultiMarginLoss()\n",
        "#criterion =torch.nn.Softmax(dim = -1)\n",
        "#criterion = nn.BCEWithLogitsLoss()\n",
        "optimizer = torch.optim.Adam(model.parameters(), lr = .001)##torch.nn.CrossEntropyLoss()\n",
        "\n",
        "print(model)"
      ],
      "metadata": {
        "id": "tg9aAl_JchSr"
      },
      "execution_count": null,
      "outputs": []
    },
    {
      "cell_type": "code",
      "source": [
        "#mnist_train, mnist_val\n",
        "BATCH_SIZE = 16\n",
        "train_loader = DataLoader(dataset = mnist_train, batch_size = BATCH_SIZE)\n",
        "val_loader = DataLoader(dataset = mnist_val, batch_size = BATCH_SIZE)"
      ],
      "metadata": {
        "id": "AdX96ZHKyAMC"
      },
      "execution_count": null,
      "outputs": []
    },
    {
      "cell_type": "code",
      "source": [
        "def multi_acc(y_pred, y_test):\n",
        "    y_pred_softmax = torch.log_softmax(y_pred, dim = 1)\n",
        "    _, y_pred_tags = torch.max(y_pred_softmax, dim = 1)    \n",
        "    \n",
        "    correct_pred = (y_pred_tags == y_test).float()\n",
        "    acc = correct_pred.sum() / len(correct_pred)\n",
        "    \n",
        "    acc = torch.round(acc * 100)\n",
        "    \n",
        "    return acc"
      ],
      "metadata": {
        "id": "KD7GFJ0sgct-"
      },
      "execution_count": null,
      "outputs": []
    },
    {
      "cell_type": "code",
      "source": [
        "accuracy_stats = {\n",
        "    'train': [],\n",
        "    \"val\": []\n",
        "}\n",
        "loss_stats = {\n",
        "    'train': [],\n",
        "    \"val\": []\n",
        "}"
      ],
      "metadata": {
        "id": "XkjZKEkTcdLK"
      },
      "execution_count": null,
      "outputs": []
    },
    {
      "cell_type": "code",
      "source": [
        "\n",
        "def train_loop(model,criterion, optimizer,BATCH_SIZE, \n",
        "               display = True,  EPOCHS = 10, ):\n",
        "  #BATCH_SIZE = 16\n",
        "  train_loader = DataLoader(dataset = mnist_train, batch_size = BATCH_SIZE)\n",
        "  val_loader = DataLoader(dataset = mnist_val, batch_size = BATCH_SIZE)\n",
        "\n",
        "  for param in model.parameters():\n",
        "     param.requires_grad = True\n",
        "\n",
        "\n",
        "\n",
        "  for epoch in tqdm(range(1,EPOCHS+1), disable = not(display)):\n",
        "    train_epoch_loss = 0 \n",
        "    train_epoch_acc = 0\n",
        "    model.train()## this tells the model that we are training not testing.\n",
        "    for X_train_batch, y_train_batch in train_loader: \n",
        "      #print('kel;;o')\n",
        "      #print('shape',X_train_batch.shape)\n",
        "\n",
        "      X_train_batch = X_train_batch.reshape(len(y_train_batch),28*28)#BATCH_SIZE\n",
        "      ##print()\n",
        "      #print('shape1',X_train_batch.shape)\n",
        "\n",
        "      X_train_batch, y_train_batch = X_train_batch.to(device), y_train_batch.to(device)\n",
        "      optimizer.zero_grad()### rests the gradient to 0? \n",
        "      #print('X_train_batch.shape',X_train_batch.shape)\n",
        "\n",
        "\n",
        "      y_train_pred = model(X_train_batch.float())## forward pass \n",
        "      #print('predicted')\n",
        "      #m = nn.Softmax(dim =1)\n",
        "      #y_train_pred = m(y_train_pred)\n",
        "      #print('y_train_pred',y_train_pred.shape)\n",
        "\n",
        "      train_loss = criterion(y_train_pred, y_train_batch.long())#loss(y_train_pred, y_train_batch)\n",
        "      train_acc = multi_acc(y_train_pred, y_train_batch)\n",
        "      ## so we need this criterion! instead of loss.\n",
        "\n",
        "      train_loss.backward()\n",
        "      optimizer.step()\n",
        "\n",
        "      train_epoch_loss += train_loss.item()\n",
        "      train_epoch_acc += train_acc.item()\n",
        "\n",
        "    with torch.no_grad(): \n",
        "      val_epoch_loss = 0 \n",
        "      val_epoch_acc = 0 \n",
        "      model.eval()\n",
        "      for X_val_batch,y_val_batch in val_loader: \n",
        "        X_val_batch,y_val_batch = X_val_batch.to(device),y_val_batch.to(device)\n",
        "\n",
        "        X_val_batch = X_val_batch.reshape(len(y_val_batch),28*28)#BATCH_SIZE\n",
        "\n",
        "        y_val_pred = model(X_val_batch.float())\n",
        "\n",
        "        val_loss = criterion(y_val_pred, y_val_batch.long())\n",
        "        val_acc = multi_acc(y_val_pred,y_val_batch) \n",
        "\n",
        "        val_epoch_loss += val_loss.item()\n",
        "        val_epoch_acc += val_acc.item()\n",
        "    loss_stats['train'].append(train_epoch_loss/len(train_loader))\n",
        "    loss_stats['val'].append(val_epoch_loss/len(val_loader))\n",
        "    accuracy_stats['train'].append(train_epoch_acc/len(train_loader))\n",
        "    accuracy_stats['val'].append(val_epoch_acc/len(val_loader))\n",
        "\n",
        "#train_loop(model,train_loader, val_loader, criterion, optimizer,EPOCHS = 10)\n",
        "\n",
        "\n"
      ],
      "metadata": {
        "id": "IQjtvCPryUBV"
      },
      "execution_count": null,
      "outputs": []
    },
    {
      "cell_type": "code",
      "source": [
        "# Create dataframes\n",
        "def plot_scores(accuracy_stats,loss_stats):\n",
        "  train_val_acc_df = pd.DataFrame.from_dict(accuracy_stats).reset_index().melt(id_vars=['index']).rename(columns={\"index\":\"epochs\"})\n",
        "  train_val_loss_df = pd.DataFrame.from_dict(loss_stats).reset_index().melt(id_vars=['index']).rename(columns={\"index\":\"epochs\"})\n",
        "  # Plot the dataframes\n",
        "  fig, axes = plt.subplots(nrows=1, ncols=2, figsize=(20,7))\n",
        "  sns.lineplot(data=train_val_acc_df, x = \"epochs\", y=\"value\", hue=\"variable\",  ax=axes[0]).set_title('Train-Val Accuracy/Epoch')\n",
        "  sns.lineplot(data=train_val_loss_df, x = \"epochs\", y=\"value\", hue=\"variable\", ax=axes[1]).set_title('Train-Val Loss/Epoch')\n",
        "\n",
        "#plot_scores(accuracy_stats, loss_stats)"
      ],
      "metadata": {
        "id": "Hz1YGGR7d7eH"
      },
      "execution_count": null,
      "outputs": []
    },
    {
      "cell_type": "code",
      "source": [
        "accuracy_stats = {\n",
        "    'train': [],\n",
        "    \"val\": []\n",
        "}\n",
        "loss_stats = {\n",
        "    'train': [],\n",
        "    \"val\": []\n",
        "}\n",
        "\n",
        "model = LinearSVM(10)## we are just working with MNIST data for now \n",
        "model.to(device)\n",
        "\n",
        "criterion = nn.MultiMarginLoss()## svm loss\n",
        "optimizer = torch.optim.Adam(model.parameters(), lr = .001)##torch.nn.CrossEntropyLoss()\n",
        "BATCH_SIZE = 16\n",
        "\n",
        "train_loop(model, criterion, optimizer,EPOCHS = 10,BATCH_SIZE = BATCH_SIZE)\n",
        "\n",
        "plot_scores(accuracy_stats,loss_stats)"
      ],
      "metadata": {
        "id": "CXQO1ICCr68J"
      },
      "execution_count": null,
      "outputs": []
    },
    {
      "cell_type": "code",
      "source": [
        "'''def hyperparam_loop(model):\n",
        "  \n",
        "  final_acc = {\n",
        "  'train': [],\n",
        "  'val': [],\n",
        "  'params': []\n",
        "  }## this will be nice to make a df\n",
        "\n",
        "  ##criterion and model are fixed.\n",
        "  epochs = [5*i for i in range(1,10)]\n",
        "  learning_rates = [.1,.05,.01,.005,.001,.0005,.00001,.000001]\n",
        "  optimizers = [torch.optim.Adam,torch.optim.Adagrad,torch.optim.SGD,]\n",
        "  batch_sizes = [2**i for i in range(2,8)]\n",
        "\n",
        "  \n",
        "  print('models to train', len(epochs)*len(learning_rates)*len(optimizers)*len(batch_sizes))\n",
        "\n",
        "  #for EPOCHS in tqdm(epochs) :\n",
        "  for EPOCHS in tqdm(epochs):\n",
        "    for LR in learning_rates:\n",
        "      for optim in optimizers:\n",
        "        optimizer =optim(model.parameters(), lr = LR)\n",
        "        for BATCH_SIZE in batch_sizes: \n",
        "        \n",
        "          #model = LinearSVM(10)## we are just working with MNIST data for now \n",
        "          model.to(device)\n",
        "\n",
        "          criterion = nn.MultiMarginLoss()## svm loss\n",
        "          ##torch.nn.CrossEntropyLoss()\n",
        "\n",
        "          accuracy_stats = {\n",
        "              'train': [],\n",
        "              \"val\": []\n",
        "          }\n",
        "          loss_stats = {\n",
        "              'train': [],\n",
        "              \"val\": []\n",
        "          }\n",
        "          train_loop(model, criterion, optimizer,EPOCHS = EPOCHS,display =BATCH_SIZE = 16 )\n",
        "          final_acc['train'].append(accuracy_stats['train'][-1])\n",
        "          final_acc['val'].append(accuracy_stats['val'][-1])\n",
        "          final_acc['params'].append((LR,optim,BATCH_SIZE))\n",
        "  return final_acc'''"
      ],
      "metadata": {
        "id": "bxpwUqTcbHMv"
      },
      "execution_count": null,
      "outputs": []
    },
    {
      "cell_type": "code",
      "source": [
        "#hyperparam_loop(model)\n"
      ],
      "metadata": {
        "id": "gp6oEBXfbWaK"
      },
      "execution_count": null,
      "outputs": []
    },
    {
      "cell_type": "code",
      "source": [
        "'''\n",
        "final_acc = {\n",
        "'train': [],\n",
        "'val': [],\n",
        "'params': []\n",
        "}## this will be nice to make a df\n",
        "\n",
        "##criterion and model are fixed.\n",
        "epochs = [5*i for i in range(1,10)]\n",
        "learning_rates = [.1,.05,.01,.005,.001,.0005,.00001,.000001]\n",
        "optimizers = [torch.optim.Adam,torch.optim.Adagrad,torch.optim.SGD,]\n",
        "batch_sizes = [2**i for i in range(2,8)]\n",
        "\n",
        "\n",
        "#for EPOCHS in tqdm(epochs) :\n",
        "for EPOCHS in tqdm(epochs):\n",
        "  for LR in learning_rates:\n",
        "    for optim in optimizers:\n",
        "      \n",
        "      for BATCH_SIZE in batch_sizes: \n",
        "      \n",
        "        model = LinearSVM(10)## we are just working with MNIST data for now \n",
        "        model.to(device)\n",
        "\n",
        "        optimizer =optim(model.parameters(), lr = LR)\n",
        "\n",
        "        criterion = nn.MultiMarginLoss()## svm loss\n",
        "        ##torch.nn.CrossEntropyLoss()\n",
        "\n",
        "        accuracy_stats = {\n",
        "            'train': [],\n",
        "            \"val\": []\n",
        "        }\n",
        "        loss_stats = {\n",
        "            'train': [],\n",
        "            \"val\": []\n",
        "        }\n",
        "        train_loop(model, criterion, optimizer,EPOCHS = EPOCHS,display = False,BATCH_SIZE = 16)\n",
        "        final_acc['train'].append(accuracy_stats['train'][-1])\n",
        "        final_acc['val'].append(accuracy_stats['val'][-1])\n",
        "        final_acc['params'].append((LR,optim,BATCH_SIZE))\n",
        "        print('acc:',accuracy_stats['train'][-1] ,accuracy_stats['val'][-1])\n",
        "  #plot_scores(accuracy_stats,loss_stats)'''"
      ],
      "metadata": {
        "id": "e4dTJVuqWNO2"
      },
      "execution_count": null,
      "outputs": []
    },
    {
      "cell_type": "markdown",
      "source": [
        "### grid searching remarks \n",
        "Although I now know that grid search is not an effective way to find the best model, it is interesting to note that the models with the highest training accuracy often had the lowest validation accuracy. We can see that overfitting can easily occur and this is why it is important to have validation accuracy. \n",
        "\n",
        "Since this is a report, and final accuracy is not the only thing being examined, I have not saved all the models, but it would be easy to change the training loop so that models we saved after every epoch (or epoch checkpoints) and then after all epochs, the model with the highest validation accuracy is returned. This would be a way to prevent overfitting while ensuring that a better model could not be found by training for more epochs. This is why I chose to make my training loop train for a specified number of epochs. \n",
        "\n"
      ],
      "metadata": {
        "id": "qHvlwu10x9q_"
      }
    },
    {
      "cell_type": "code",
      "source": [
        "#plot_scores(accuracy_stats,final_acc)\n",
        "#final_acc"
      ],
      "metadata": {
        "id": "csDVC1a-aYtZ"
      },
      "execution_count": null,
      "outputs": []
    },
    {
      "cell_type": "markdown",
      "source": [
        "**Implement** a Softmax classifier in the following cell. Your implementation should be a python class that inherits from `torch.nn.Module`. "
      ],
      "metadata": {
        "id": "VeL39QqOnako"
      }
    },
    {
      "cell_type": "code",
      "source": [
        "class LinearSoftmax(nn.Module):\n",
        "  ''' Implements the linear SVM using Torch.\n",
        "  '''\n",
        "  def __init__(self, num_classes, *args, **kwargs):\n",
        "    '''\n",
        "      num_classes (int): The number of output classes\n",
        "    '''\n",
        "    #super(LinearSVM, self).__init__()\n",
        "    super().__init__()\n",
        "    self.num_classes = num_classes\n",
        "\n",
        "    self.layer1 = nn.Linear(28*28, num_classes)\n",
        "    self.layer_out = nn.Softmax(dim = -1)\n",
        "\n",
        "    #self.layer1 = nn.Linear(28*28, 512)\n",
        "    #self.layer2 = nn.Linear(512, 128)\n",
        "    #self.layer3 = nn.Linear(128,64 )\n",
        "    #self.layer_out = nn.functional.softmax(64,self.num_classes)\n",
        "    #self.layer_out = nn.\n",
        "\n",
        "  def forward(self, x, BATCH_SIZE = BATCH_SIZE):\n",
        "    '''\n",
        "      x (torch.Tensor): Input image as a torch tensor. \n",
        "    '''\n",
        "    #x = x.reshape(28*28,10)\n",
        "    x = self.layer1(x)\n",
        "    x = self.layer_out(x) \n",
        "\n",
        "\n",
        "    return x \n"
      ],
      "metadata": {
        "id": "_8hbzAQBDCkQ"
      },
      "execution_count": null,
      "outputs": []
    },
    {
      "cell_type": "markdown",
      "source": [
        "## Examining the effect of learning rate when using Adam as our softmax model optimizer."
      ],
      "metadata": {
        "id": "DZ1iBV-THg9P"
      }
    },
    {
      "cell_type": "code",
      "source": [
        "accuracy_stats = {\n",
        "    'train': [],\n",
        "    \"val\": []\n",
        "}\n",
        "loss_stats = {\n",
        "    'train': [],\n",
        "    \"val\": []\n",
        "}\n",
        "model = LinearSoftmax(10)\n",
        "#model = LinearSVM(10)## we are just working with MNIST data for now \n",
        "model.to(device)\n",
        "\n",
        "#criterion = nn.CrossEntropyLoss()\n",
        "criterion = nn.NLLLoss()\n",
        "optimizer = torch.optim.Adam(model.parameters(), lr = .001)##torch.nn.CrossEntropyLoss()\n",
        "\n",
        "\n",
        "train_loop(model, criterion, optimizer,EPOCHS = 10, BATCH_SIZE = 16)\n",
        "\n",
        "plot_scores(accuracy_stats,loss_stats)\n",
        "print(max(accuracy_stats['val']))\n"
      ],
      "metadata": {
        "id": "u5p2C_1QHSb1"
      },
      "execution_count": null,
      "outputs": []
    },
    {
      "cell_type": "code",
      "source": [
        "\n",
        "accuracy_stats = {\n",
        "    'train': [],\n",
        "    \"val\": []\n",
        "}\n",
        "loss_stats = {\n",
        "    'train': [],\n",
        "    \"val\": []\n",
        "}\n",
        "model = LinearSoftmax(10)\n",
        "#model = LinearSVM(10)## we are just working with MNIST data for now \n",
        "model.to(device)\n",
        "\n",
        "#criterion = nn.CrossEntropyLoss()\n",
        "criterion = nn.NLLLoss()\n",
        "optimizer = torch.optim.Adam(model.parameters(), lr = .01)##torch.nn.CrossEntropyLoss()\n",
        "\n",
        "\n",
        "train_loop(model, criterion, optimizer,EPOCHS = 10, BATCH_SIZE= 16)\n",
        "\n",
        "plot_scores(accuracy_stats,loss_stats)\n",
        "print(max(accuracy_stats['val']))"
      ],
      "metadata": {
        "id": "sWCLHHvpFH8C"
      },
      "execution_count": null,
      "outputs": []
    },
    {
      "cell_type": "code",
      "source": [
        "\n",
        "accuracy_stats = {\n",
        "    'train': [],\n",
        "    \"val\": []\n",
        "}\n",
        "loss_stats = {\n",
        "    'train': [],\n",
        "    \"val\": []\n",
        "}\n",
        "model = LinearSoftmax(10)\n",
        "#model = LinearSVM(10)## we are just working with MNIST data for now \n",
        "model.to(device)\n",
        "\n",
        "#criterion = nn.CrossEntropyLoss()\n",
        "criterion = nn.NLLLoss()\n",
        "optimizer = torch.optim.Adam(model.parameters(), lr = .0001)##torch.nn.CrossEntropyLoss()\n",
        "\n",
        "\n",
        "train_loop(model, criterion, optimizer,EPOCHS = 10, BATCH_SIZE= 16)\n",
        "\n",
        "plot_scores(accuracy_stats,loss_stats)\n",
        "print(max(accuracy_stats['val']))"
      ],
      "metadata": {
        "id": "p05xCvi3Ej5D"
      },
      "execution_count": null,
      "outputs": []
    },
    {
      "cell_type": "markdown",
      "source": [
        "here we can see that decreasing the learning rate by a factor of 10(from.001) means that our validation accuracy is increasing all the way up until our 10th epoch. Our validation accuracy peaked at about 91% using a learning rate of .001 and since our validation accuracy with a learning rate of .0001 hasn't reached even 90% we should try training the model for more epochs.\n",
        "\n"
      ],
      "metadata": {
        "id": "PdRj_lTtFyD-"
      }
    },
    {
      "cell_type": "code",
      "source": [],
      "metadata": {
        "id": "5Pl5FA83FxSF"
      },
      "execution_count": null,
      "outputs": []
    },
    {
      "cell_type": "code",
      "source": [
        "accuracy_stats = {\n",
        "    'train': [],\n",
        "    \"val\": []\n",
        "}\n",
        "loss_stats = {\n",
        "    'train': [],\n",
        "    \"val\": []\n",
        "}\n",
        "model = LinearSoftmax(10)\n",
        "#model = LinearSVM(10)## we are just working with MNIST data for now \n",
        "model.to(device)\n",
        "\n",
        "#criterion = nn.CrossEntropyLoss()\n",
        "criterion = nn.NLLLoss()\n",
        "optimizer = torch.optim.Adam(model.parameters(), lr = .0001)##torch.nn.CrossEntropyLoss()\n",
        "\n",
        "\n",
        "train_loop(model, criterion, optimizer,EPOCHS = 100, BATCH_SIZE= 16)\n",
        "\n",
        "plot_scores(accuracy_stats,loss_stats)\n",
        "print(max(accuracy_stats['val']))"
      ],
      "metadata": {
        "id": "1KG5yW0AFXoD"
      },
      "execution_count": null,
      "outputs": []
    },
    {
      "cell_type": "markdown",
      "source": [
        "training the model variation with learning_rate = .0001 for 100 epochs shows the training validation get past 95% but the validation accuracy does not pass 92% accuracy. This means we are paying for minimal gains with signifigant ammounts of compute. We shall thus stick with the model using learning_rate= .001 and we will see if changing the batch size will give us improvements on our validation set. We can conclude that our final accuracy is not signifigantly affected by learning rate, and that a lower learning rate just means we must perform many more iterations to observe the same accuracy.\n",
        "\n",
        "Also a learning rate of .01 is way to high for our model to learn well and yields terrible performance. The valdiation accuracy also sees extreme changes epoch to epoch. "
      ],
      "metadata": {
        "id": "J06zaZoVGyvn"
      }
    },
    {
      "cell_type": "markdown",
      "source": [
        "## examining the effect batch size can have on our model's accuracy."
      ],
      "metadata": {
        "id": "LZ1l6LcFJ91C"
      }
    },
    {
      "cell_type": "code",
      "source": [
        "accuracy_stats = {\n",
        "    'train': [],\n",
        "    \"val\": []\n",
        "}\n",
        "loss_stats = {\n",
        "    'train': [],\n",
        "    \"val\": []\n",
        "}\n",
        "model = LinearSoftmax(10)\n",
        "#model = LinearSVM(10)## we are just working with MNIST data for now \n",
        "model.to(device)\n",
        "\n",
        "#criterion = nn.CrossEntropyLoss()\n",
        "criterion = nn.NLLLoss()\n",
        "optimizer = torch.optim.Adam(model.parameters(), lr = .001)##torch.nn.CrossEntropyLoss()\n",
        "\n",
        "\n",
        "train_loop(model, criterion, optimizer,EPOCHS = 25, BATCH_SIZE= 256)\n",
        "\n",
        "plot_scores(accuracy_stats,loss_stats)\n",
        "print(max(accuracy_stats['val']))"
      ],
      "metadata": {
        "id": "W4Qal57CwULn"
      },
      "execution_count": null,
      "outputs": []
    },
    {
      "cell_type": "code",
      "source": [
        "accuracy_stats = {\n",
        "    'train': [],\n",
        "    \"val\": []\n",
        "}\n",
        "loss_stats = {\n",
        "    'train': [],\n",
        "    \"val\": []\n",
        "}\n",
        "model = LinearSoftmax(10)\n",
        "#model = LinearSVM(10)## we are just working with MNIST data for now \n",
        "model.to(device)\n",
        "\n",
        "#criterion = nn.CrossEntropyLoss()\n",
        "criterion = nn.NLLLoss()\n",
        "optimizer = torch.optim.Adam(model.parameters(), lr = .001)##torch.nn.CrossEntropyLoss()\n",
        "\n",
        "\n",
        "train_loop(model, criterion, optimizer,EPOCHS = 25, BATCH_SIZE= 32)\n",
        "\n",
        "plot_scores(accuracy_stats,loss_stats)\n",
        "print(max(accuracy_stats['val']))"
      ],
      "metadata": {
        "id": "JhDU3hTxKgMu"
      },
      "execution_count": null,
      "outputs": []
    },
    {
      "cell_type": "code",
      "source": [],
      "metadata": {
        "id": "N92lmhwcLfxx"
      },
      "execution_count": null,
      "outputs": []
    },
    {
      "cell_type": "code",
      "source": [
        "accuracy_stats = {\n",
        "    'train': [],\n",
        "    \"val\": []\n",
        "}\n",
        "loss_stats = {\n",
        "    'train': [],\n",
        "    \"val\": []\n",
        "}\n",
        "model = LinearSoftmax(10)\n",
        "#model = LinearSVM(10)## we are just working with MNIST data for now \n",
        "model.to(device)\n",
        "\n",
        "#criterion = nn.CrossEntropyLoss()\n",
        "criterion = nn.NLLLoss()\n",
        "optimizer = torch.optim.Adam(model.parameters(), lr = .001)##torch.nn.CrossEntropyLoss()\n",
        "\n",
        "\n",
        "train_loop(model, criterion, optimizer,EPOCHS = 10, BATCH_SIZE= 8)\n",
        "\n",
        "plot_scores(accuracy_stats,loss_stats)\n",
        "print(max(accuracy_stats['val']))"
      ],
      "metadata": {
        "id": "nF92P2urIirl"
      },
      "execution_count": null,
      "outputs": []
    },
    {
      "cell_type": "code",
      "source": [],
      "metadata": {
        "id": "cUSDfrApJ163"
      },
      "execution_count": null,
      "outputs": []
    },
    {
      "cell_type": "code",
      "source": [
        "accuracy_stats = {\n",
        "    'train': [],\n",
        "    \"val\": []\n",
        "}\n",
        "loss_stats = {\n",
        "    'train': [],\n",
        "    \"val\": []\n",
        "}\n",
        "model = LinearSoftmax(10)\n",
        "#model = LinearSVM(10)## we are just working with MNIST data for now \n",
        "model.to(device)\n",
        "\n",
        "#criterion = nn.CrossEntropyLoss()\n",
        "criterion = nn.NLLLoss()\n",
        "optimizer = torch.optim.Adam(model.parameters(), lr = .001)##torch.nn.CrossEntropyLoss()\n",
        "\n",
        "\n",
        "train_loop(model, criterion, optimizer,EPOCHS = 10, BATCH_SIZE= 4)\n",
        "\n",
        "plot_scores(accuracy_stats,loss_stats)\n",
        "print(max(accuracy_stats['val']))"
      ],
      "metadata": {
        "id": "iccutROaJNdE"
      },
      "execution_count": null,
      "outputs": []
    },
    {
      "cell_type": "markdown",
      "source": [
        "It seems that a higher batch_size will decrease the stochasticity of the learning similar to having a smaller learning rate. Having a large batch size of 32 yields very small performance gains and requires many more epochs before validation accuracy levels off. We see these same effects if we increase batch size all the way up to 256. "
      ],
      "metadata": {
        "id": "zEo6FRoBJ4ik"
      }
    },
    {
      "cell_type": "markdown",
      "source": [
        "## examining the effect different optimizers can have on our model's accuracy.\n",
        "will it be different from CNN results? "
      ],
      "metadata": {
        "id": "qY1mBocCyBxs"
      }
    },
    {
      "cell_type": "code",
      "source": [
        "accuracy_stats = {\n",
        "    'train': [],\n",
        "    \"val\": []\n",
        "}\n",
        "loss_stats = {\n",
        "    'train': [],\n",
        "    \"val\": []\n",
        "}\n",
        "\n",
        "model = LinearSoftmax(10)\n",
        "#model = LinearSVM(10)## we are just working with MNIST data for now \n",
        "model.to(device)\n",
        "\n",
        "#criterion = nn.CrossEntropyLoss()\n",
        "criterion = nn.NLLLoss()\n",
        "optimizer =torch.optim.SGD(model.parameters(), lr = .001)##torch.nn.CrossEntropyLoss()\n",
        "BATCH_SIZE = 16\n",
        "\n",
        "train_loop(model,criterion, optimizer,BATCH_SIZE = BATCH_SIZE,EPOCHS = 25, )\n",
        "\n",
        "plot_scores(accuracy_stats,loss_stats)\n",
        "print(max(accuracy_stats['val']))\n"
      ],
      "metadata": {
        "id": "SSBecUi4xvFC"
      },
      "execution_count": null,
      "outputs": []
    },
    {
      "cell_type": "code",
      "source": [
        "accuracy_stats = {\n",
        "    'train': [],\n",
        "    \"val\": []\n",
        "}\n",
        "loss_stats = {\n",
        "    'train': [],\n",
        "    \"val\": []\n",
        "}\n",
        "\n",
        "model = LinearSoftmax(10)\n",
        "#model = LinearSVM(10)## we are just working with MNIST data for now \n",
        "model.to(device)\n",
        "\n",
        "#criterion = nn.CrossEntropyLoss()\n",
        "criterion = nn.NLLLoss()\n",
        "optimizer =torch.optim.Adagrad(model.parameters(), lr = .001)##torch.nn.CrossEntropyLoss()\n",
        "BATCH_SIZE = 16\n",
        "\n",
        "train_loop(model,criterion, optimizer,BATCH_SIZE = BATCH_SIZE,EPOCHS = 50, ) ## I am curious to see what 100 epochs yeilds. \n",
        "\n",
        "plot_scores(accuracy_stats,loss_stats)\n",
        "print(max(accuracy_stats['val']))"
      ],
      "metadata": {
        "id": "WPkuL4TAydZH"
      },
      "execution_count": null,
      "outputs": []
    },
    {
      "cell_type": "code",
      "source": [],
      "metadata": {
        "id": "paUNZfdOyeD-"
      },
      "execution_count": null,
      "outputs": []
    },
    {
      "cell_type": "markdown",
      "source": [
        "We can see that using Adam as our optimizer yields similar results to what we saw when experimenting with different optimizers in CNNs. Adam allows for faster convergence and will result in higher accuracy over a set number of epochs."
      ],
      "metadata": {
        "id": "AaqhvPKv11Yn"
      }
    },
    {
      "cell_type": "markdown",
      "source": [
        "***Implement*** using any PyTorch defined optimizer, train your Softmax classifier on the training dataset and validate on the validation dataset, as you did before. \n",
        "\n",
        "***Note:*** You should keep track of the performance of the optimizers, batch sizes, and learning rates. You should justify the choice of your hyperparameters in the report at the end of this section. You will be asked to quantify and visualize the differences between these hyperparameters.\n",
        "\n",
        "You will want to try different optimizers, learning rates, and batch sizes. You should use `Torch.DataLoader` to simplify the data loading. Make sure to use the correct loss function. You may use predefined loss functions available in `Torch.nn`.\n",
        "\n",
        "Same as before, to train a single model, you will need to:\n",
        "\n",
        "- Iterate through the data in batches using your training or validation dataloader\n",
        "- Perform the forward pass\n",
        "- Compute the loss\n",
        "- Perform the backward pass\n",
        "- Take an optimizer step\n",
        "- Repeat the process till network converges or some other criterion\n",
        "- Every n iterations, go through the validation set and calculate the loss and accuracy of the validation set to check your training performance"
      ],
      "metadata": {
        "id": "LgLiSrkvov7_"
      }
    },
    {
      "cell_type": "code",
      "source": [],
      "metadata": {
        "id": "LFAf4i-cowF_"
      },
      "execution_count": null,
      "outputs": []
    },
    {
      "cell_type": "markdown",
      "source": [
        "***Implement*** visualizations in the following cell to show performance differences of the different hyperparameters. \n",
        "\n",
        "***Include*** visualizations for the effect of different batch sizes, learning rates, and optimizers. You are free to choose any method of visualization as long as it is able to succintly convey your justifications."
      ],
      "metadata": {
        "id": "AjBRu6jJp4Jx"
      }
    },
    {
      "cell_type": "code",
      "source": [],
      "metadata": {
        "id": "XbKSedbmp3lB"
      },
      "execution_count": null,
      "outputs": []
    },
    {
      "cell_type": "markdown",
      "source": [
        "## analysis and images above \n",
        "I experimented with batch sizes, learning rates, and optimizers. "
      ],
      "metadata": {
        "id": "bUM0Khp_wDHs"
      }
    },
    {
      "cell_type": "markdown",
      "source": [
        "### Convolutional Neural Networks"
      ],
      "metadata": {
        "id": "WWSOkLP69Tv3"
      }
    },
    {
      "cell_type": "markdown",
      "source": [
        "***Implement*** the following cell to implement a convolutional neural network. Similar to before, your implementation should be a Python class that inherits from `torch.nn.Module`. \n",
        "\n",
        "Your model can use any of the building blocks defined in `torch.nn` including but not limited to:\n",
        "\n",
        "- Conv2D\n",
        "- Linear\n",
        "- Activation layers:\n",
        "  - ReLU\n",
        "  - Tanh\n",
        "  - Sigmoid\n",
        "  - Softmax\n",
        "- Normalization layers:\n",
        "  - BatchNorm\n",
        "  - LayerNorm\n",
        "  - GroupNorm\n",
        "- Pooling layers:\n",
        "  - MaxPool\n",
        "  - AvgPool\n",
        "- Dropout\n",
        "\n",
        "Make sure to chose the correct dimensional versions of the layers, i.e for images use MaxPool2d and vectors use MaxPool1d\n"
      ],
      "metadata": {
        "id": "tFAJcXU-owUO"
      }
    },
    {
      "cell_type": "markdown",
      "source": [
        "Example LeNet implementation: \n",
        "\n",
        "```python\n",
        "class LeNet(nn.Module):\n",
        "\n",
        "    def __init__(self, num_classes=10):\n",
        "        super(LeNet, self).__init__()\n",
        "        \n",
        "        # num_classes number of output classes\n",
        "        self.num_classes = num_classes\n",
        "        # 1 input image channel, \n",
        "        # 6 output channels\n",
        "        # 5x5 square convolution kernel\n",
        "        self.conv1 = nn.Conv2d(1, 6, 5)\n",
        "        # ReLU activation function\n",
        "        self.act1 = nn.ReLU()\n",
        "        # Max pooling with 2x2 square kernel\n",
        "        self.pool1 = nn.MaxPool2d(2)\n",
        "        \n",
        "        # Second convolution with 6 input image channels\n",
        "        self.conv2 = nn.Conv2d(6, 16, 5)\n",
        "        self.act2 = nn.ReLU()\n",
        "        self.pool2 = nn.MaxPool2d(2)\n",
        "\n",
        "        # 3 Layer fully connected layer\n",
        "        self.fc1 = nn.Linear(16 * 4 * 4, 120)\n",
        "        self.act3 = nn.ReLU()\n",
        "        self.fc2 = nn.Linear(120, 84)\n",
        "        self.act4 = nn.ReLU()\n",
        "        self.fc3 = nn.Linear(84, num_classes)\n",
        "\n",
        "    def forward(self, x):\n",
        "        \n",
        "        # First Convolution -> Activation -> Max Pooling\n",
        "        x = self.conv1(x)\n",
        "        x = self.act1(x)\n",
        "        x = self.pool1(x)\n",
        "\n",
        "        # Second Convolution -> Activation -> Max Pooling\n",
        "        x = self.conv2(x)\n",
        "        x = self.act2(x)\n",
        "        x = self.pool2(x)\n",
        "\n",
        "        # flatten all dimensions except the batch dimension\n",
        "        x = torch.flatten(x, 1) \n",
        "\n",
        "        # Three layer MLP with ReLU activations \n",
        "        x = self.act3(self.fc1(x))\n",
        "        x = self.act4(self.fc2(x))\n",
        "        x = self.fc3(x)\n",
        "\n",
        "        return x\n",
        "\n",
        "```"
      ],
      "metadata": {
        "id": "AU2zciw2y9tZ"
      }
    },
    {
      "cell_type": "code",
      "source": [
        "# for understanding's sake\n",
        "\n",
        "class LeNet(nn.Module):\n",
        "\n",
        "    def __init__(self, num_classes=10):\n",
        "        super(LeNet, self).__init__()\n",
        "\n",
        "        # num_classes number of output classes\n",
        "        self.num_classes = num_classes\n",
        "        # 1 input image channel, \n",
        "        # 6 output channels\n",
        "        # 5x5 square convolution kernel\n",
        "        self.conv1 = nn.Conv2d(1, 6, 5)\n",
        "        # ReLU activation function\n",
        "        self.act1 = nn.ReLU()\n",
        "        # Max pooling with 2x2 square kernel\n",
        "        self.pool1 = nn.MaxPool2d(2)\n",
        "\n",
        "        # Second convolution with 6 input image channels\n",
        "        self.conv2 = nn.Conv2d(6, 16, 5)\n",
        "        self.act2 = nn.ReLU()\n",
        "        self.pool2 = nn.MaxPool2d(2)\n",
        "\n",
        "        # 3 Layer fully connected layer\n",
        "        self.fc1 = nn.Linear(16 * 4 * 4, 120)\n",
        "        self.act3 = nn.ReLU()\n",
        "        self.fc2 = nn.Linear(120, 84)\n",
        "        self.act4 = nn.ReLU()\n",
        "        self.fc3 = nn.Linear(84, num_classes)\n",
        "\n",
        "    def forward(self, x):\n",
        "\n",
        "        # First Convolution -> Activation -> Max Pooling\n",
        "        x = x.reshape(BATCH_SIZE,1,28,28)\n",
        "        #print(\"before cov1\", x.shape)\n",
        "        x = self.conv1(x)\n",
        "        #print('after cov1', x.shape)\n",
        "        x = self.act1(x)\n",
        "        #print('after act1', x.shape)\n",
        "        x = self.pool1(x)\n",
        "        #print('after pool1', x.shape)\n",
        "\n",
        "        # Second Convolution -> Activation -> Max Pooling\n",
        "        x = self.conv2(x)\n",
        "        #print('after cov2', x.shape)\n",
        "        x = self.act2(x)\n",
        "        #print('after act2', x.shape)\n",
        "        x = self.pool2(x)\n",
        "        #print('after pool2', x.shape)\n",
        "\n",
        "        # flatten all dimensions except the batch dimension\n",
        "        x = torch.flatten(x, 1) \n",
        "        #print('print after flatten',x.shape)\n",
        "\n",
        "        # Three layer MLP with ReLU activations \n",
        "        x = self.act3(self.fc1(x))\n",
        "        x = self.act4(self.fc2(x))\n",
        "        x = self.fc3(x)\n",
        "\n",
        "        return x"
      ],
      "metadata": {
        "id": "xAWuN-Jwtg84"
      },
      "execution_count": null,
      "outputs": []
    },
    {
      "cell_type": "code",
      "source": [
        "accuracy_stats = {\n",
        "    'train': [],\n",
        "    \"val\": []\n",
        "}\n",
        "loss_stats = {\n",
        "    'train': [],\n",
        "    \"val\": []\n",
        "}\n",
        "\n",
        "conv_model = LeNet()## we are just working with MNIST data for now \n",
        "model.to(device)\n",
        "\n",
        "criterion = nn.CrossEntropyLoss()\n",
        "optimizer = torch.optim.Adam(model.parameters(), lr = .001)##torch.nn.CrossEntropyLoss()\n",
        "BATCH_SIZE = 16\n",
        "\n",
        "train_loop(model,criterion, optimizer,BATCH_SIZE = BATCH_SIZE,EPOCHS = 20, )\n",
        "\n",
        "plot_scores(accuracy_stats,loss_stats)\n",
        "print(max(accuracy_stats['val']))\n"
      ],
      "metadata": {
        "id": "tUNXurVEvXS3"
      },
      "execution_count": null,
      "outputs": []
    },
    {
      "cell_type": "markdown",
      "source": [
        "We can see from the previous cell that LeNet is able to get almost 98% accuracy significantly outperforming our Linear models after only 10 epochs. It is clear that adding convolutional layers allows us to get significant performance gains. training the CNN may take longer per epoch, nevertheless, the results do seem to be worth the computational cost. Additionally, Extending to 20 epochs we are able to get almost .5% extra accuracy on the validation set which means that we are correcting a significant ammount of the misclassifcations. "
      ],
      "metadata": {
        "id": "ROzrKqARWTYp"
      }
    },
    {
      "cell_type": "markdown",
      "source": [
        "In the following cells, perform experiments using the CNN you defined. You may need to reshape your data in order to 2D convolutions. \n",
        "\n",
        "Your objective is to find the best architecture that minimizes the error but using as few a parameters and FLOPS as possible. \n",
        "\n",
        "***Performance matters!*** The model with the best combination of high accuracy, parameter, and compute efficiency will get extra credit (15 pts)."
      ],
      "metadata": {
        "id": "8TT1pSu2ppPd"
      }
    },
    {
      "cell_type": "code",
      "source": [
        "class TheoNet(nn.Module):\n",
        "\n",
        "    def __init__(self, num_classes=10):\n",
        "        super(TheoNet, self).__init__()\n",
        "\n",
        "        # num_classes number of output classes\n",
        "        self.num_classes = num_classes\n",
        "        # 1 input image channel, \n",
        "        # 6 output channels\n",
        "        # 5x5 square convolution kernel\n",
        "        self.conv1 = nn.Conv2d(1, 6, 3)\n",
        "        # ReLU activation function\n",
        "        self.act1 = nn.ReLU()## this wont change the shape\n",
        "        # Max pooling with 2x2 square kernel\n",
        "        self.pool1 = nn.MaxPool2d(2)## this wil decrease the image dimension by 2\n",
        "        ## image dimension is dim 2nd last and last. \n",
        "\n",
        "        # Second convolution with 6 input image channels\n",
        "        self.conv2 = nn.Conv2d(6, 16, 3)##  6 the number of channels , # 16 is the output channels, 3 is the kernel size\n",
        "        self.act2 = nn.ReLU()\n",
        "        self.pool2 = nn.MaxPool2d(2)\n",
        "\n",
        "        ## it seems like we only care about the dimension when we are feeding into the fc layer\n",
        "        # 3 Layer fully connected layer\n",
        "\n",
        "        self.fc1 = nn.Linear(400, 120)## this is 16*4*4 because there are 16 channels and we have a 4x4 image output\n",
        "        self.act3 = nn.ReLU()\n",
        "        self.fc2 = nn.Linear(120, 84)\n",
        "        self.act4 = nn.ReLU()\n",
        "        self.fc3 = nn.Linear(84, num_classes)\n",
        "\n",
        "    def forward(self, x):\n",
        "        x = x.reshape(BATCH_SIZE,1,28,28)\n",
        "        # First Convolution -> Activation -> Max Pooling\n",
        "        x = self.conv1(x)\n",
        "        x = self.act1(x)\n",
        "        x = self.pool1(x)\n",
        "\n",
        "        # Second Convolution -> Activation -> Max Pooling\n",
        "        x = self.conv2(x)\n",
        "        x = self.act2(x)\n",
        "        x = self.pool2(x)\n",
        "\n",
        "        # flatten all dimensions except the batch dimension\n",
        "        x = torch.flatten(x, 1) \n",
        "        #print()\n",
        "        #print('shape before fc',x.shape)\n",
        "\n",
        "        # Three layer MLP with ReLU activations \n",
        "        x = self.act3(self.fc1(x))\n",
        "        x = self.act4(self.fc2(x))\n",
        "        x = self.fc3(x)\n",
        "\n",
        "        return x"
      ],
      "metadata": {
        "id": "5bzZVDfwppcs"
      },
      "execution_count": null,
      "outputs": []
    },
    {
      "cell_type": "markdown",
      "source": [
        "**Implement** the following cell to compute and compare the test set performance (accuracy) of the linear classifiers and CNN."
      ],
      "metadata": {
        "id": "tQGx_PUwdLlX"
      }
    },
    {
      "cell_type": "code",
      "source": [
        "accuracy_stats = {\n",
        "    'train': [],\n",
        "    \"val\": []\n",
        "}\n",
        "loss_stats = {\n",
        "    'train': [],\n",
        "    \"val\": []\n",
        "}\n",
        "\n",
        "model = TheoNet()## we are just working with MNIST data for now \n",
        "model.to(device)\n",
        "\n",
        "criterion = nn.CrossEntropyLoss()\n",
        "optimizer = torch.optim.Adam(model.parameters(), lr = .001)##torch.nn.CrossEntropyLoss()\n",
        "BATCH_SIZE = 16\n",
        "\n",
        "train_loop(model,criterion, optimizer,BATCH_SIZE = BATCH_SIZE,EPOCHS = 20, )\n",
        "\n",
        "plot_scores(accuracy_stats,loss_stats)\n",
        "print(max(accuracy_stats['val']))"
      ],
      "metadata": {
        "id": "kzt_M3dqdLzG"
      },
      "execution_count": null,
      "outputs": []
    },
    {
      "cell_type": "markdown",
      "source": [
        "TheoNet makes signficantly more errors than LeNet and so we can conclude that smaller convolutions are less effective. Maybe we can get more accuracy if we use more convolutional layers. We saw in class that having more convolutional layers can make up for having a smaller kernel in each layer."
      ],
      "metadata": {
        "id": "l1BrkOTmYQaV"
      }
    },
    {
      "cell_type": "code",
      "source": [
        "class TheoNet2(nn.Module):\n",
        "\n",
        "    def __init__(self, num_classes=10):\n",
        "        super(TheoNet2, self).__init__()\n",
        "\n",
        "        self.num_classes = num_classes\n",
        "\n",
        "        self.conv1 = nn.Conv2d(1, 6, 3)\n",
        "        # ReLU activation function\n",
        "        self.act1 = nn.ReLU()## this wont change the shape\n",
        "        # Max pooling with 2x2 square kernel\n",
        "        self.pool1 = nn.MaxPool2d(2)## this wil decrease the image dimension by 2\n",
        "        ## image dimension is dim 2nd last and last. \n",
        "\n",
        "        # Second convolution with 6 input image channels\n",
        "        self.conv2 = nn.Conv2d(6, 10, 3)##  6 the number of channels , # 16 is the output channels, 3 is the kernel size\n",
        "        self.act2 = nn.ReLU()\n",
        "        self.pool2 = nn.MaxPool2d(2)\n",
        "\n",
        "        ## it seems like we only care about the dimension when we are feeding into the fc layer\n",
        "        # 3 Layer fully connected layer\n",
        "\n",
        "        self.conv3 = nn.Conv2d(10, 10,3)\n",
        "        self.act3 = nn.ReLU()\n",
        "        self.pool3 = nn.MaxPool2d(2)\n",
        "        ## conv4 \n",
        "        self.conv4 = nn.Conv2d(10,16,1)\n",
        "        self.act4 = nn.ReLU()\n",
        "        #self.pool4 = nn.MaxPool2d(2)\n",
        "\n",
        "        self.fc1 = nn.Linear(16*1*1, 120)## this is 16*4*4 because there are 16 channels and we have a 4x4 image output\n",
        "        self.act3 = nn.ReLU()\n",
        "        self.fc2 = nn.Linear(120, 84)\n",
        "        self.act4 = nn.ReLU()\n",
        "        self.fc3 = nn.Linear(84, num_classes)\n",
        "\n",
        "    def forward(self, x):\n",
        "        x = x.reshape(BATCH_SIZE,1,28,28)\n",
        "        # First Convolution -> Activation -> Max Pooling\n",
        "        x = self.conv1(x)\n",
        "        x = self.act1(x)\n",
        "        x = self.pool1(x)\n",
        "\n",
        "        # Second Convolution -> Activation -> Max Pooling\n",
        "        x = self.conv2(x)\n",
        "        x = self.act2(x)\n",
        "        x = self.pool2(x)\n",
        "\n",
        "        ## conv3 \n",
        "        x = self.conv3(x)\n",
        "        x = self.act3(x)\n",
        "        x = self.pool3(x)\n",
        "\n",
        "        ## conv4 \n",
        "        x = self.conv4(x)\n",
        "        x = self.act4(x)\n",
        "        #x = self.pool4(x)\n",
        "\n",
        "\n",
        "        # flatten all dimensions except the batch dimension\n",
        "        #print()\n",
        "        #print('before flatten',x.shape)\n",
        "        x = torch.flatten(x, 1) \n",
        "        #print()\n",
        "        #print('shape before fc',x.shape)\n",
        "\n",
        "        # Three layer MLP with ReLU activations \n",
        "        x = self.act3(self.fc1(x))\n",
        "        x = self.act4(self.fc2(x))\n",
        "        x = self.fc3(x)\n",
        "\n",
        "        return x"
      ],
      "metadata": {
        "id": "r_tYFx3PYPwY"
      },
      "execution_count": null,
      "outputs": []
    },
    {
      "cell_type": "code",
      "source": [
        "accuracy_stats = {\n",
        "    'train': [],\n",
        "    \"val\": []\n",
        "}\n",
        "loss_stats = {\n",
        "    'train': [],\n",
        "    \"val\": []\n",
        "}\n",
        "\n",
        "model = TheoNet2()## we are just working with MNIST data for now \n",
        "model.to(device)\n",
        "\n",
        "criterion = nn.CrossEntropyLoss()\n",
        "optimizer = torch.optim.Adam(model.parameters(), lr = .001)##torch.nn.CrossEntropyLoss()\n",
        "BATCH_SIZE = 16\n",
        "\n",
        "train_loop(model,criterion, optimizer,BATCH_SIZE = BATCH_SIZE,EPOCHS = 20, )\n",
        "\n",
        "plot_scores(accuracy_stats,loss_stats)\n",
        "print(max(accuracy_stats['val']))"
      ],
      "metadata": {
        "id": "iWudt7IDaqPp"
      },
      "execution_count": null,
      "outputs": []
    },
    {
      "cell_type": "markdown",
      "source": [
        "Adding two more convolutions actually decreased performance from TheoNet which was already less than LeNet. Although we are decreasing computational cost as discussed in class, we are also significantly decreasing validation accuracy. Our lower accuracy may be due to the fact that we have vanishing or exploding gradients, something that is often problematic with deep CNNs. This is the motivation behind ResNets. \n",
        "\n",
        "Maybe adding padding to our convolution layers will also allow us to keep more of the information in our convolution. Using average pooling instead of max pooling might also help. \n",
        "\n"
      ],
      "metadata": {
        "id": "IMmTW7AmcamD"
      }
    },
    {
      "cell_type": "code",
      "source": [
        "## add padding \n",
        "\n",
        "class TheoNet3(nn.Module):\n",
        "\n",
        "    def __init__(self, num_classes=10):\n",
        "        super(TheoNet3, self).__init__()\n",
        "\n",
        "        self.num_classes = num_classes\n",
        "\n",
        "        self.conv1 = nn.Conv2d(1, 6, 3, padding = 1)\n",
        "        # ReLU activation function\n",
        "        self.act1 = nn.ReLU()## this wont change the shape\n",
        "        # Max pooling with 2x2 square kernel\n",
        "        self.pool1 = nn.MaxPool2d(2)## this wil decrease the image dimension by 2\n",
        "        ## image dimension is dim 2nd last and last. \n",
        "\n",
        "        # Second convolution with 6 input image channels\n",
        "        self.conv2 = nn.Conv2d(6, 10, 3, padding=1)##  6 the number of channels , # 16 is the output channels, 3 is the kernel size\n",
        "        self.act2 = nn.ReLU()\n",
        "        self.pool2 = nn.MaxPool2d(2)\n",
        "\n",
        "        ## it seems like we only care about the dimension when we are feeding into the fc layer\n",
        "        # 3 Layer fully connected layer\n",
        "\n",
        "        self.conv3 = nn.Conv2d(10, 10,3, padding=1)\n",
        "        self.act3 = nn.ReLU()\n",
        "        self.pool3 = nn.MaxPool2d(2)\n",
        "        ## conv4 \n",
        "        self.conv4 = nn.Conv2d(10,16,3)\n",
        "        self.act4 = nn.ReLU()\n",
        "        #self.pool4 = nn.MaxPool2d(2)\n",
        "\n",
        "        self.fc1 = nn.Linear(16*1*1, 120)## this is 16*4*4 because there are 16 channels and we have a 4x4 image output\n",
        "        self.act3 = nn.ReLU()\n",
        "        self.fc2 = nn.Linear(120, 84)\n",
        "        self.act4 = nn.ReLU()\n",
        "        self.fc3 = nn.Linear(84, num_classes)\n",
        "\n",
        "    def forward(self, x):\n",
        "        x = x.reshape(BATCH_SIZE,1,28,28)\n",
        "        # First Convolution -> Activation -> Max Pooling\n",
        "        x = self.conv1(x)\n",
        "        x = self.act1(x)\n",
        "        x = self.pool1(x)\n",
        "\n",
        "        # Second Convolution -> Activation -> Max Pooling\n",
        "        x = self.conv2(x)\n",
        "        x = self.act2(x)\n",
        "        x = self.pool2(x)\n",
        "\n",
        "        ## conv3 \n",
        "        x = self.conv3(x)\n",
        "        x = self.act3(x)\n",
        "        x = self.pool3(x)\n",
        "\n",
        "        ## conv4 \n",
        "        x = self.conv4(x)\n",
        "        x = self.act4(x)\n",
        "        #x = self.pool4(x)\n",
        "\n",
        "\n",
        "        # flatten all dimensions except the batch dimension\n",
        "        #print()\n",
        "        #print('before flatten',x.shape)\n",
        "        x = torch.flatten(x, 1) \n",
        "        #print()\n",
        "        #print('shape before fc',x.shape)\n",
        "\n",
        "        # Three layer MLP with ReLU activations \n",
        "        x = self.act3(self.fc1(x))\n",
        "        x = self.act4(self.fc2(x))\n",
        "        x = self.fc3(x)\n",
        "\n",
        "        return x"
      ],
      "metadata": {
        "id": "tPYQKQZGDMoX"
      },
      "execution_count": null,
      "outputs": []
    },
    {
      "cell_type": "code",
      "source": [
        "accuracy_stats = {\n",
        "    'train': [],\n",
        "    \"val\": []\n",
        "}\n",
        "loss_stats = {\n",
        "    'train': [],\n",
        "    \"val\": []\n",
        "}\n",
        "\n",
        "model = TheoNet3()## we are just working with MNIST data for now \n",
        "model.to(device)\n",
        "\n",
        "criterion = nn.CrossEntropyLoss()\n",
        "optimizer = torch.optim.Adam(model.parameters(), lr = .001)##torch.nn.CrossEntropyLoss()\n",
        "BATCH_SIZE = 16\n",
        "\n",
        "train_loop(model,criterion, optimizer,BATCH_SIZE = BATCH_SIZE,EPOCHS = 20, )\n",
        "\n",
        "plot_scores(accuracy_stats,loss_stats)\n",
        "print(max(accuracy_stats['val']))"
      ],
      "metadata": {
        "id": "cs3C0DIlLhLp"
      },
      "execution_count": null,
      "outputs": []
    },
    {
      "cell_type": "markdown",
      "source": [
        "adding the padding seems to be quite effective, and bumps our model performance up from 93% validation to 97%, however, we still aren't able to break the 98% accuracy of LeNet. "
      ],
      "metadata": {
        "id": "n1KvtHBLMZ6t"
      }
    },
    {
      "cell_type": "code",
      "source": [],
      "metadata": {
        "id": "w-PYPsYKMZAc"
      },
      "execution_count": null,
      "outputs": []
    },
    {
      "cell_type": "code",
      "source": [
        "## add avg pooling \n",
        "## add padding \n",
        "\n",
        "class TheoNet4(nn.Module):\n",
        "\n",
        "    def __init__(self, num_classes=10):\n",
        "        super(TheoNet4, self).__init__()\n",
        "\n",
        "        self.num_classes = num_classes\n",
        "\n",
        "        self.conv1 = nn.Conv2d(1, 6, 3, padding = 1)\n",
        "        # ReLU activation function\n",
        "        self.act1 = nn.ReLU()## this wont change the shape\n",
        "        # Max pooling with 2x2 square kernel\n",
        "        self.pool1 = nn.AvgPool2d(2)## this wil decrease the image dimension by 2\n",
        "        ## image dimension is dim 2nd last and last. \n",
        "\n",
        "        # Second convolution with 6 input image channels\n",
        "        self.conv2 = nn.Conv2d(6, 10, 3, padding=1)##  6 the number of channels , # 16 is the output channels, 3 is the kernel size\n",
        "        self.act2 = nn.ReLU()\n",
        "        self.pool2 = nn.AvgPool2d(2)\n",
        "\n",
        "        ## it seems like we only care about the dimension when we are feeding into the fc layer\n",
        "        # 3 Layer fully connected layer\n",
        "\n",
        "        self.conv3 = nn.Conv2d(10, 10,3, padding=1)\n",
        "        self.act3 = nn.ReLU()\n",
        "        self.pool3 = nn.AvgPool2d(2)\n",
        "        ## conv4 \n",
        "        self.conv4 = nn.Conv2d(10,16,3)\n",
        "        self.act4 = nn.ReLU()\n",
        "        #self.pool4 = nn.MaxPool2d(2)\n",
        "\n",
        "        self.fc1 = nn.Linear(16*1*1, 120)## this is 16*4*4 because there are 16 channels and we have a 4x4 image output\n",
        "        self.act3 = nn.ReLU()\n",
        "        self.fc2 = nn.Linear(120, 84)\n",
        "        self.act4 = nn.ReLU()\n",
        "        self.fc3 = nn.Linear(84, num_classes)\n",
        "\n",
        "    def forward(self, x):\n",
        "        x = x.reshape(BATCH_SIZE,1,28,28)\n",
        "        # First Convolution -> Activation -> Max Pooling\n",
        "        x = self.conv1(x)\n",
        "        x = self.act1(x)\n",
        "        x = self.pool1(x)\n",
        "\n",
        "        # Second Convolution -> Activation -> Max Pooling\n",
        "        x = self.conv2(x)\n",
        "        x = self.act2(x)\n",
        "        x = self.pool2(x)\n",
        "\n",
        "        ## conv3 \n",
        "        x = self.conv3(x)\n",
        "        x = self.act3(x)\n",
        "        x = self.pool3(x)\n",
        "\n",
        "        ## conv4 \n",
        "        x = self.conv4(x)\n",
        "        x = self.act4(x)\n",
        "        #x = self.pool4(x)\n",
        "\n",
        "\n",
        "        # flatten all dimensions except the batch dimension\n",
        "        #print()\n",
        "        #print('before flatten',x.shape)\n",
        "        x = torch.flatten(x, 1) \n",
        "        #print()\n",
        "        #print('shape before fc',x.shape)\n",
        "\n",
        "        # Three layer MLP with ReLU activations \n",
        "        x = self.act3(self.fc1(x))\n",
        "        x = self.act4(self.fc2(x))\n",
        "        x = self.fc3(x)\n",
        "\n",
        "        return x"
      ],
      "metadata": {
        "id": "E_wus8YgDMN1"
      },
      "execution_count": null,
      "outputs": []
    },
    {
      "cell_type": "code",
      "source": [
        "accuracy_stats = {\n",
        "    'train': [],\n",
        "    \"val\": []\n",
        "}\n",
        "loss_stats = {\n",
        "    'train': [],\n",
        "    \"val\": []\n",
        "}\n",
        "\n",
        "model = TheoNet4()## we are just working with MNIST data for now \n",
        "model.to(device)\n",
        "\n",
        "criterion = nn.CrossEntropyLoss()\n",
        "optimizer = torch.optim.Adam(model.parameters(), lr = .001)##torch.nn.CrossEntropyLoss()\n",
        "BATCH_SIZE = 16\n",
        "\n",
        "train_loop(model,criterion, optimizer,BATCH_SIZE = BATCH_SIZE,EPOCHS = 20, )\n",
        "\n",
        "plot_scores(accuracy_stats,loss_stats)\n",
        "print(max(accuracy_stats['val']))"
      ],
      "metadata": {
        "id": "_kivSDK7M4Lb"
      },
      "execution_count": null,
      "outputs": []
    },
    {
      "cell_type": "code",
      "source": [
        "## what about no pooling \n",
        "## add avg pooling \n",
        "## add padding \n",
        "\n",
        "class TheoNet5(nn.Module):\n",
        "\n",
        "    def __init__(self, num_classes=10):\n",
        "        super(TheoNet5, self).__init__()\n",
        "\n",
        "        self.num_classes = num_classes\n",
        "\n",
        "        self.conv1 = nn.Conv2d(1, 6, 3, padding = 1)\n",
        "        # ReLU activation function\n",
        "        self.act1 = nn.ReLU()## this wont change the shape\n",
        "        # Max pooling with 2x2 square kernel\n",
        "        self.pool1 = nn.AvgPool2d(2)## this wil decrease the image dimension by 2\n",
        "        ## image dimension is dim 2nd last and last. \n",
        "\n",
        "        # Second convolution with 6 input image channels\n",
        "        self.conv2 = nn.Conv2d(6, 10, 3, padding=1)##  6 the number of channels , # 16 is the output channels, 3 is the kernel size\n",
        "        self.act2 = nn.ReLU()\n",
        "        self.pool2 = nn.AvgPool2d(2)\n",
        "\n",
        "        ## it seems like we only care about the dimension when we are feeding into the fc layer\n",
        "        # 3 Layer fully connected layer\n",
        "\n",
        "        self.conv3 = nn.Conv2d(10, 10,3, padding=1)\n",
        "        self.act3 = nn.ReLU()\n",
        "        self.pool3 = nn.AvgPool2d(2)\n",
        "        ## conv4 \n",
        "        self.conv4 = nn.Conv2d(10,16,3, padding = 1)\n",
        "        self.act4 = nn.ReLU()\n",
        "        #self.pool4 = nn.MaxPool2d(2)\n",
        "\n",
        "        self.fc1 = nn.Linear(16*28*28, 120)## this is 16*4*4 because there are 16 channels and we have a 4x4 image output\n",
        "        self.act3 = nn.ReLU()\n",
        "        self.fc2 = nn.Linear(120, 84)\n",
        "        self.act4 = nn.ReLU()\n",
        "        self.fc3 = nn.Linear(84, num_classes)\n",
        "\n",
        "    def forward(self, x, BATCH_SIZE = BATCH_SIZE):\n",
        "    #def forward(self,x):\n",
        "        x = x.reshape(BATCH_SIZE,1,28,28)\n",
        "        # First Convolution -> Activation -> Max Pooling\n",
        "        x = self.conv1(x)\n",
        "        x = self.act1(x)\n",
        "        #x = self.pool1(x)\n",
        "        #print('after conv1',x.shape)\n",
        "        # Second Convolution -> Activation -> Max Pooling\n",
        "        x = self.conv2(x)\n",
        "        x = self.act2(x)\n",
        "        #x = self.pool2(x)\n",
        "        #print('after conv2',x.shape)\n",
        "        ## conv3 \n",
        "        x = self.conv3(x)\n",
        "        x = self.act3(x)\n",
        "        #x = self.pool3(x)\n",
        "        #print('after conv3',x.shape)\n",
        "        ## conv4 \n",
        "        x = self.conv4(x)\n",
        "        x = self.act4(x)\n",
        "        #x = self.pool4(x)\n",
        "\n",
        "\n",
        "        # flatten all dimensions except the batch dimension\n",
        "        #print()\n",
        "        #print('before flatten',x.shape)\n",
        "        x = torch.flatten(x, 1) \n",
        "        #print()\n",
        "        #print('shape before fc',x.shape)\n",
        "\n",
        "        # Three layer MLP with ReLU activations \n",
        "        x = self.act3(self.fc1(x))\n",
        "        x = self.act4(self.fc2(x))\n",
        "        x = self.fc3(x)\n",
        "\n",
        "        return x"
      ],
      "metadata": {
        "id": "dOCrrwIwNL0N"
      },
      "execution_count": null,
      "outputs": []
    },
    {
      "cell_type": "code",
      "source": [
        "accuracy_stats = {\n",
        "    'train': [],\n",
        "    \"val\": []\n",
        "}\n",
        "loss_stats = {\n",
        "    'train': [],\n",
        "    \"val\": []\n",
        "}\n",
        "\n",
        "theoNet5 = TheoNet5()## we are just working with MNIST data for now \n",
        "theoNet5.to(device)\n",
        "\n",
        "for param in theoNet5.parameters(): \n",
        "  param.requires_grad = True\n",
        "\n",
        "criterion = nn.CrossEntropyLoss()\n",
        "optimizer = torch.optim.Adam(theoNet5.parameters(), lr = .001)##torch.nn.CrossEntropyLoss()\n",
        "## the optimizer needs to have the parameters from theoNet5 (OUR MODEL WE ARE TRAINING!)\n",
        "BATCH_SIZE = 16\n",
        "\n",
        "train_loop(theoNet5,criterion, optimizer,BATCH_SIZE = BATCH_SIZE,EPOCHS = 10, )\n",
        "\n",
        "plot_scores(accuracy_stats,loss_stats)\n",
        "print(max(accuracy_stats['val']))\n",
        "\n",
        "## we had 98% accuracy now we have 10.5%"
      ],
      "metadata": {
        "id": "G5JKlf_INdsp"
      },
      "execution_count": null,
      "outputs": []
    },
    {
      "cell_type": "markdown",
      "source": [
        "getting rid of the pooling layers means that each of our convolution layers has many more pixels to map over which increases the compuation cost. However, for this computational cost we gain performance and fall just a few tenths of a percentage point below LeNet in Accuracy."
      ],
      "metadata": {
        "id": "hyQfzXCVPiwt"
      }
    },
    {
      "cell_type": "code",
      "source": [
        "accuracy_stats = {\n",
        "    'train': [],\n",
        "    \"val\": []\n",
        "}\n",
        "loss_stats = {\n",
        "    'train': [],\n",
        "    \"val\": []\n",
        "}\n",
        "\n",
        "model = TheoNet5()## we are just working with MNIST data for now \n",
        "model.to(device)\n",
        "\n",
        "criterion = nn.CrossEntropyLoss()\n",
        "optimizer = torch.optim.Adam(model.parameters(), lr = .001)##torch.nn.CrossEntropyLoss()\n",
        "BATCH_SIZE = 16\n",
        "\n",
        "train_loop(model,criterion, optimizer,BATCH_SIZE = BATCH_SIZE,EPOCHS = 100, )\n",
        "\n",
        "plot_scores(accuracy_stats,loss_stats)\n",
        "print(max(accuracy_stats['val']))"
      ],
      "metadata": {
        "id": "f_cM5y2pQXo0"
      },
      "execution_count": null,
      "outputs": []
    },
    {
      "cell_type": "code",
      "source": [
        "accuracy_stats = {\n",
        "    'train': [],\n",
        "    \"val\": []\n",
        "}\n",
        "loss_stats = {\n",
        "    'train': [],\n",
        "    \"val\": []\n",
        "}\n",
        "\n",
        "model = LeNet()## we are just working with MNIST data for now \n",
        "model.to(device)\n",
        "\n",
        "criterion = nn.CrossEntropyLoss()\n",
        "optimizer = torch.optim.Adam(model.parameters(), lr = .001)##torch.nn.CrossEntropyLoss()\n",
        "BATCH_SIZE = 16\n",
        "\n",
        "train_loop(model,criterion, optimizer,BATCH_SIZE = BATCH_SIZE,EPOCHS = 100, )\n",
        "\n",
        "plot_scores(accuracy_stats,loss_stats)\n",
        "print(max(accuracy_stats['val']))"
      ],
      "metadata": {
        "id": "ln_-8sExTXle"
      },
      "execution_count": null,
      "outputs": []
    },
    {
      "cell_type": "markdown",
      "source": [
        "Since our fully connected layer has so many more parameters, maybe running more epochs allows us to learn a function with higher validation accuracy than LeNet over the same 100 epochs. That being said, we require much more computation to achieve very minor performance improvements.  "
      ],
      "metadata": {
        "id": "DGoWEJf0Q-VC"
      }
    },
    {
      "cell_type": "markdown",
      "source": [
        "## experimenting with optimizers for CNN.\n",
        "\n",
        "going back to LeNet lets see if we can improve the performance if we use different optimizers. Our baseline LeNet above was using Adam."
      ],
      "metadata": {
        "id": "Wc3Q3fGNdx2h"
      }
    },
    {
      "cell_type": "code",
      "source": [
        "accuracy_stats = {\n",
        "    'train': [],\n",
        "    \"val\": []\n",
        "}\n",
        "loss_stats = {\n",
        "    'train': [],\n",
        "    \"val\": []\n",
        "}\n",
        "\n",
        "model = LeNet()## we are just working with MNIST data for now \n",
        "model.to(device)\n",
        "\n",
        "criterion = nn.CrossEntropyLoss()\n",
        "optimizer =torch.optim.Adagrad(model.parameters(), lr = .001)##torch.nn.CrossEntropyLoss()\n",
        "BATCH_SIZE = 16\n",
        "\n",
        "train_loop(model,criterion, optimizer,BATCH_SIZE = BATCH_SIZE,EPOCHS = 50, )\n",
        "\n",
        "plot_scores(accuracy_stats,loss_stats)\n",
        "print(max(accuracy_stats['val']))\n"
      ],
      "metadata": {
        "id": "Hv1bIJ39c5FT"
      },
      "execution_count": null,
      "outputs": []
    },
    {
      "cell_type": "markdown",
      "source": [
        "We see that the Adam optimizer allows for much better validation performance and we see that convergence happens much quicker using Adam than AdaGrad."
      ],
      "metadata": {
        "id": "MSEW_fSieVS-"
      }
    },
    {
      "cell_type": "code",
      "source": [
        "accuracy_stats = {\n",
        "    'train': [],\n",
        "    \"val\": []\n",
        "}\n",
        "loss_stats = {\n",
        "    'train': [],\n",
        "    \"val\": []\n",
        "}\n",
        "\n",
        "model = LeNet()## we are just working with MNIST data for now \n",
        "model.to(device)\n",
        "\n",
        "criterion = nn.CrossEntropyLoss()\n",
        "optimizer =torch.optim.SGD(model.parameters(), lr = .001)##torch.nn.CrossEntropyLoss()\n",
        "BATCH_SIZE = 16\n",
        "\n",
        "train_loop(model,criterion, optimizer,BATCH_SIZE = BATCH_SIZE,EPOCHS = 50, )\n",
        "\n",
        "plot_scores(accuracy_stats,loss_stats)\n",
        "print(max(accuracy_stats['val']))\n"
      ],
      "metadata": {
        "id": "GPozcdmoeHjb"
      },
      "execution_count": null,
      "outputs": []
    },
    {
      "cell_type": "markdown",
      "source": [
        "again we see that using SGD actually yeilds better performance than AdaGrad but worse than Adam and takes much longer to converge. It now makes sense that most people start off with Adam as their optimizer and then change if they think they can get better performance. Its quicker convergence also helps with experimenting with other architectures. "
      ],
      "metadata": {
        "id": "1LFARRppeuM4"
      }
    },
    {
      "cell_type": "code",
      "source": [],
      "metadata": {
        "id": "w6lUexNRuJcX"
      },
      "execution_count": null,
      "outputs": []
    },
    {
      "cell_type": "markdown",
      "source": [
        "In the following cells ***write*** a short justification on how you came up with your final model and architecture. You may include details like:\n",
        "\n",
        "- Which optimizer did you use? Why did you use that? \n",
        "- What about the other hyperparameters? \n",
        "- Did you base your model on an existing architecture?\n",
        "- What changes did you make to improve accuracy?\n",
        "- What changes did you make to improvde performance? \n",
        "\n",
        "***Include*** visualizations for the effect of different batch sizes, learning rates, and optimizers. You are free to choose any method of visualization as long as it is able to succintly convey your justifications. "
      ],
      "metadata": {
        "id": "uhb5-NPKr6RQ"
      }
    },
    {
      "cell_type": "markdown",
      "source": [
        "## see answers and graphs above\n",
        "\n",
        "I based TheoNet on LeNet and tried to improve accuracy by chaning architectures and optimizers. Barely able to beat the performance of LeNet(.1%), and for the most part my changes only decreased the validation accuracy."
      ],
      "metadata": {
        "id": "tpaxF_nWr6go"
      }
    },
    {
      "cell_type": "markdown",
      "source": [
        "## Part 3: Real World Data (40 pts)"
      ],
      "metadata": {
        "id": "KzbKJhaarIae"
      }
    },
    {
      "cell_type": "markdown",
      "source": [
        "While test set accuracy is meant to approximate the perfomance in real world data, biases in data collection and processing often result in inaccurate performance estimates. In this section, you will be using the previously defined models to re-train on the data the class has collected. \n",
        "\n",
        "In user systems, noisy inputs are often likely. To make your model robust to faulty input, you will need to add an additional class to your model which corresponds to the label 10. This label is reserved for inputs that are **not** digits. \n"
      ],
      "metadata": {
        "id": "xlqE7pdPtiMG"
      }
    },
    {
      "cell_type": "markdown",
      "source": [
        "***Implement*** the following cells to load and convert the new dataset and combine the new dataset with old dataset.  \n",
        "\n",
        "Make sure you have downloaded the `MNIST580E_training.csv` and `MNIST580E_test.csv` files from the shared drive and uplodaded it to your GDrive. You will be combining our collected data with the MNIST dataset available with Colab.\n",
        "\n",
        "You will need to: \n",
        "\n",
        "\n",
        "- Mount your GDrive\n",
        "- Load the `MNIST580E_training.csv` and `MNIST580E_test.csv` files\n",
        "- Parse the files and create train and test datasets as you did previously \n",
        "  - Make sure to normalize the data and add data augmentation. You are free to use any augmentation you'd like. \n",
        "- Combine the new datasets with the dataset available on Colab.\n",
        "  - You can use the `ConcatDataset` or `ChainDataset`.  \n",
        "- Visualize the newly created data. This should serve as a sanity check for your newly written data pipeline. \n",
        "\n",
        "**Data Augmentation:**\n",
        "\n",
        "The collected data will have more variability compared to the original dataset. \n",
        "So you should make heavy use of data augmentation on the collected dataset. You can use augmentations such as as:\n",
        "\n",
        "- Rotation\n",
        "- Resize\n",
        "- Blur\n",
        "- Perspective shift\n",
        "\n",
        "**Another hint:** Since we are adding an additional class type (not a digit), our dataset will be imbalanced. There will be fewer samples with that label compared to other labels. You may want to \"double count\" (i.e duplicate) the not-a-digit samples in your collected dataset."
      ],
      "metadata": {
        "id": "twnfeBTdwjPJ"
      }
    },
    {
      "cell_type": "code",
      "source": [
        "'''from google.colab import drive\n",
        "drive.mount('/content/drive')'''"
      ],
      "metadata": {
        "id": "x8jBQhexEiBW"
      },
      "execution_count": null,
      "outputs": []
    },
    {
      "cell_type": "code",
      "source": [],
      "metadata": {
        "id": "27P_AROvGRbY"
      },
      "execution_count": null,
      "outputs": []
    },
    {
      "cell_type": "markdown",
      "source": [
        "# changes to folder need to be made below to load the data from google drive instead of locally."
      ],
      "metadata": {
        "id": "MrA0_QX1SSp_"
      }
    },
    {
      "cell_type": "code",
      "source": [
        "img_to_tensor = transforms.ToTensor()\n",
        "'''\n",
        "img = Image.open(\"/content/drive/MyDrive/test/0_collected_image_test_0.png\")\n",
        "\n",
        "img_to_tensor = transforms.ToTensor()\n",
        "img = img_to_tensor(img)'''"
      ],
      "metadata": {
        "id": "Rjy_-mSjErU7"
      },
      "execution_count": null,
      "outputs": []
    },
    {
      "cell_type": "code",
      "source": [
        "num_classes = 11## 10 digits and 1 non-digit.\n",
        "train_max_samples  = 61+1 ## 0 indexed and max number is 61\n",
        "num_train_images = train_max_samples * num_classes\n",
        "\n",
        "images = []\n",
        "train_labels = []\n",
        "##folder_path = \"/content/drive/MyDrive/train/\" ## this for running in colab \n",
        "folder_path = \"C:\\\\Users\\\\theot\\\\Downloads\\\\train\\\\\"\n",
        "#assert(num_train_images == )\n",
        "#for i in range(num_train_images):\n",
        "for sample_number in tqdm(range(train_max_samples)):\n",
        "  for class_label in range(num_classes):\n",
        "    \n",
        "    img_path = str(class_label) + \"_collected_image_train_\"+str(sample_number)+\".png\"\n",
        "\n",
        "    img = Image.open(folder_path + img_path)\n",
        "    img = img_to_tensor(img)\n",
        "    images.append(img)\n",
        "    if class_label == 10: ## the non-digit class\n",
        "      images.append(img)##  double the entry \n",
        "      train_labels.append(class_label)## double the entry \n",
        "\n",
        "    train_labels.append(class_label)\n",
        "\n",
        "train_imgs_tensor = torch.Tensor(num_train_images, 100, 100)\n",
        "torch.cat(images, out=train_imgs_tensor)\n",
        "#assert(train_imgs_tensor.shape[0] ==num_train_images)"
      ],
      "metadata": {
        "id": "A7v7Y7JdLiEc"
      },
      "execution_count": null,
      "outputs": []
    },
    {
      "cell_type": "code",
      "source": [
        "num_classes = 11## 10 digits and 1 non-digit.\n",
        "test_max_samples  = 30+1 ## 0 indexed and max number is 30\n",
        "num_test_images = test_max_samples * num_classes\n",
        "\n",
        "#folder_path = \"/content/drive/MyDrive/test/\"## for colab\n",
        "folder_path = \"C:\\\\Users\\\\theot\\\\Downloads\\\\test\\\\\"\n",
        "\n",
        "images = []\n",
        "test_labels = []\n",
        "\n",
        "#assert(num_train_images == )\n",
        "#for i in range(num_train_images):\n",
        "for sample_number in tqdm(range(test_max_samples)):\n",
        "  for class_label in range(num_classes):\n",
        "    \n",
        "    img_path = str(class_label) + \"_collected_image_test_\"+str(sample_number)+\".png\"\n",
        "\n",
        "    img = Image.open(folder_path + img_path)\n",
        "    img = img_to_tensor(img)\n",
        "    images.append(img)\n",
        "    test_labels.append(class_label)\n",
        "\n",
        "test_imgs_tensor = torch.Tensor(num_test_images, 100, 100)\n",
        "torch.cat(images, out=test_imgs_tensor)\n",
        "assert(test_imgs_tensor.shape[0] ==num_test_images)"
      ],
      "metadata": {
        "id": "O5mQfMIuTfdB"
      },
      "execution_count": null,
      "outputs": []
    },
    {
      "cell_type": "code",
      "source": [
        "class ClassDigits(Dataset):\n",
        "  \"\"\"MNIST custom dataset that reads the CSV file and transforms them into PyTorch Tensors\"\"\"\n",
        "\n",
        "\n",
        "  def __init__(self, is_training=True, transform=None):\n",
        "\n",
        "    \"\"\"\n",
        "    Args:\n",
        "      is_training (bool): If true loads \n",
        "        the training dataset. If false, loads the test dataset. \n",
        "        Use the functions above.\n",
        "      transform (callable): Transform to be applied on a sample.\n",
        "        These will be used for data augmentations.\n",
        "    \"\"\"\n",
        "\n",
        "    if (is_training):\n",
        "    #self.data\n",
        "      self.X,self.Y = train_imgs_tensor, torch.Tensor(train_labels)#torch.from_numpy(D[1])\n",
        "\n",
        "    else: \n",
        "      self.X,self.Y = test_imgs_tensor, torch.Tensor(test_labels)\n",
        "    #trans_data = transform(self.data)\n",
        "    self.transform = transform\n",
        "\n",
        "    #self.XT,self.Y, = \n",
        "\n",
        "  def __len__(self):\n",
        "    Y = self.Y## should be the y\n",
        "    return(len(Y))\n",
        "    \n",
        "    \"\"\"Returns the size (the number of samples) of the dataset.\n",
        "    \"\"\"\n",
        "\n",
        "    \n",
        "\n",
        "  def __getitem__(self, i):\n",
        "    \"\"\"Returns the i-th sample and label and applies any transforms defined.\n",
        "\n",
        "      Args:\n",
        "        i (int): The index of sample in the data array to retrieve. \n",
        "    \"\"\"\n",
        "    if self.transform == None:\n",
        "      return self.X[i,:].reshape((28,28)) , self.Y[i] ## for X we want the specific row and all the columns. \n",
        "    else: \n",
        "      return self.transform(self.X[i,:].reshape((1,28,28))).reshape(28,28) , self.Y[i]\n",
        "    "
      ],
      "metadata": {
        "id": "4CDEZk_jIbKq"
      },
      "execution_count": null,
      "outputs": []
    },
    {
      "cell_type": "code",
      "source": [
        "'''trans = transforms.Compose([\n",
        "     transforms.RandomRotation(degrees = 30),## double the rotation\n",
        "     transforms.Normalize(.13, .31, inplace=False),## normalize \n",
        "     transforms.GaussianBlur(kernel_size = 5),## blur \n",
        "     transforms.RandomPerspective(distortion_scale = .1, p = .1)## perspective\n",
        " ])\n",
        "\n",
        "trans = transforms.RandomApply(trans, p=0.8)'''\n",
        "\n",
        "\n",
        "trans = transforms.RandomApply([\n",
        "     transforms.RandomRotation(degrees = 30),## double the rotation\n",
        "     transforms.Normalize(.13, .31, inplace=False),## normalize \n",
        "     transforms.GaussianBlur(kernel_size = 3),## blur \n",
        "     transforms.RandomPerspective(distortion_scale = .1, p = .1)## perspective\n",
        " ], p=0.8)"
      ],
      "metadata": {
        "id": "ETu0ugrqUTvU"
      },
      "execution_count": null,
      "outputs": []
    },
    {
      "cell_type": "code",
      "source": [
        "train_class_digits = ClassDigits(is_training = True, transform  = trans)\n",
        "\n",
        "combined_train = torch.utils.data.ConcatDataset([train_class_digits, training_mnist])"
      ],
      "metadata": {
        "id": "EGZt3ewhqSDE"
      },
      "execution_count": null,
      "outputs": []
    },
    {
      "cell_type": "code",
      "source": [
        "len(training_mnist)"
      ],
      "metadata": {
        "id": "mszW1su3cbTm"
      },
      "execution_count": null,
      "outputs": []
    },
    {
      "cell_type": "code",
      "source": [
        "\n",
        "len(combined_train)"
      ],
      "metadata": {
        "id": "zVApjw6EctXr"
      },
      "execution_count": null,
      "outputs": []
    },
    {
      "cell_type": "code",
      "source": [
        "figure = plt.figure(figsize=(8, 8))\n",
        "cols, rows = 5, 11\n",
        "\n",
        "\n",
        "\n",
        "img_num = 0 \n",
        "num = 0 \n",
        "count =0 \n",
        "for i in range(len(combined_train)):\n",
        "  x,y = combined_train[i]\n",
        "  if y == num: \n",
        "    \n",
        "    figure.add_subplot(rows, cols, img_num+1)\n",
        "    plt.imshow(x.reshape((28,28)))\n",
        "    img_num +=1\n",
        "    count+=1\n",
        "    if count ==5: \n",
        "      num+=1\n",
        "      count = 0\n",
        "  if num >10:\n",
        "    break\n",
        "\n",
        "plt.show()"
      ],
      "metadata": {
        "id": "53tevBvppbIG"
      },
      "execution_count": null,
      "outputs": []
    },
    {
      "cell_type": "markdown",
      "source": [
        "## data augmentation "
      ],
      "metadata": {
        "id": "1-0IDvH1lrQu"
      }
    },
    {
      "cell_type": "markdown",
      "source": [
        "**Implement** the following cell to use your previously trained CNN as a feature extractor. This is an example of [transfer learning](https://en.wikipedia.org/wiki/Transfer_learning). \n",
        "\n",
        "You will need to:\n",
        "- Freeze the layers of convolutional model you trained\n",
        "- Change the final linear layer have an additional output for the additional class.  \n",
        "\n",
        "Here's an example of taking the previously defined LeNet and updating the final layer to have 11 classes instead of 10. This also freezes the other weights in the LeNet. \n",
        "\n",
        "```python\n",
        "# model_conv is a trained LeNet example from above\n",
        "\n",
        "# Freeze the weights of the model\n",
        "# The gradients will not be calculated and the optimizer will not\n",
        "# update the weights\n",
        "for param in model_conv.parameters():\n",
        "    param.requires_grad = False\n",
        "\n",
        "# Parameters of newly constructed modules have requires_grad=True by default\n",
        "num_ftrs = model_conv.fc3.in_features\n",
        "model_conv.fc3 = nn.Linear(num_ftrs, 11)\n",
        "\n",
        "model_conv = model_conv.to(device)\n",
        "\n",
        "criterion = nn.CrossEntropyLoss()\n",
        "\n",
        "# Only parameters of final layer are being optimized not the other weights\n",
        "optimizer_conv = optim.SGD(model_conv.fc.parameters(), lr=0.001)\n",
        "```\n"
      ],
      "metadata": {
        "id": "mzY-itbyZvtD"
      }
    },
    {
      "cell_type": "code",
      "source": [
        "print(theoNet5)"
      ],
      "metadata": {
        "id": "nCCCtNqUnRYL"
      },
      "execution_count": null,
      "outputs": []
    },
    {
      "cell_type": "code",
      "source": [
        "len(combined_train)"
      ],
      "metadata": {
        "id": "nBZbXC8SZv8a"
      },
      "execution_count": null,
      "outputs": []
    },
    {
      "cell_type": "code",
      "source": [
        "## split into val and train\n",
        "#mnist_train, mnist_val = torch.utils.data.random_split(training_mnist, lengths =[int(len(training_mnist)*.80),int(len(training_mnist)*.2)])\n",
        "class_train, class_val = torch.utils.data.random_split(combined_train, \n",
        "                                                       lengths =[int(len(combined_train)*.80),\n",
        "                                                                 len(combined_train)-int(len(combined_train)*.80)\n",
        "                                                                 ]\n",
        "                                                       )"
      ],
      "metadata": {
        "id": "qOxht2MtmND8"
      },
      "execution_count": null,
      "outputs": []
    },
    {
      "cell_type": "markdown",
      "source": [
        "## transfer training loop: "
      ],
      "metadata": {
        "id": "g7JtAm7hrTxE"
      }
    },
    {
      "cell_type": "code",
      "source": [],
      "metadata": {
        "id": "ZYycfEuPqrsW"
      },
      "execution_count": null,
      "outputs": []
    },
    {
      "cell_type": "code",
      "source": [
        "\n",
        "def transfer_train_loop(model,criterion, optimizer,BATCH_SIZE, \n",
        "               display = True,  EPOCHS = 10, ):\n",
        "  '''\n",
        "  the model input needs to have fc3 as the final layer and needs to have already been trained.\n",
        "  '''\n",
        "  #BATCH_SIZE = 16\n",
        "  train_loader = DataLoader(dataset = class_train, batch_size = BATCH_SIZE)\n",
        "  val_loader = DataLoader(dataset = class_val, batch_size = BATCH_SIZE)\n",
        "\n",
        "  for epoch in tqdm(range(1,EPOCHS+1), disable = not(display)):\n",
        "    train_epoch_loss = 0 \n",
        "    train_epoch_acc = 0\n",
        "    model.train()## this tells the model that we are training not testing.\n",
        "\n",
        "    model.to(device)\n",
        "\n",
        "    for X_train_batch, y_train_batch in train_loader: \n",
        "      #print('kel;;o')\n",
        "      #print('shape',X_train_batch.shape)\n",
        "\n",
        "      X_train_batch = X_train_batch.reshape(len(y_train_batch),28*28)#BATCH_SIZE\n",
        "      ##print()\n",
        "      #print('shape1',X_train_batch.shape)\n",
        "\n",
        "      X_train_batch, y_train_batch = X_train_batch.to(device), y_train_batch.to(device)\n",
        "      optimizer.zero_grad()### rests the gradient to 0? \n",
        "      #print('X_train_batch.shape',X_train_batch.shape)\n",
        "\n",
        "\n",
        "      #y_train_pred = model(X_train_batch.float())## forward pass \n",
        "      y_train_pred = model(X_train_batch.float(), len(y_train_batch))\n",
        "      \n",
        "      #print('predicted')\n",
        "      #m = nn.Softmax(dim =1)\n",
        "      #y_train_pred = m(y_train_pred)\n",
        "      #print('y_train_pred',y_train_pred.shape)\n",
        "\n",
        "      train_loss = criterion(y_train_pred, y_train_batch.long())#loss(y_train_pred, y_train_batch)\n",
        "      train_acc = multi_acc(y_train_pred, y_train_batch)\n",
        "      ## so we need this criterion! instead of loss.\n",
        "\n",
        "      train_loss.backward()\n",
        "      optimizer.step()\n",
        "\n",
        "      train_epoch_loss += train_loss.item()\n",
        "      train_epoch_acc += train_acc.item()\n",
        "\n",
        "    with torch.no_grad(): \n",
        "      val_epoch_loss = 0 \n",
        "      val_epoch_acc = 0 \n",
        "      model.eval()\n",
        "      for X_val_batch,y_val_batch in val_loader: \n",
        "        X_val_batch,y_val_batch = X_val_batch.to(device),y_val_batch.to(device)\n",
        "\n",
        "        X_val_batch = X_val_batch.reshape(len(y_val_batch),28*28)#BATCH_SIZE\n",
        "\n",
        "        y_val_pred = model(X_val_batch.float(),len(y_val_batch))\n",
        "\n",
        "        val_loss = criterion(y_val_pred, y_val_batch.long())\n",
        "        val_acc = multi_acc(y_val_pred,y_val_batch) \n",
        "\n",
        "        val_epoch_loss += val_loss.item()\n",
        "        val_epoch_acc += val_acc.item()\n",
        "    loss_stats['train'].append(train_epoch_loss/len(train_loader))\n",
        "    loss_stats['val'].append(val_epoch_loss/len(val_loader))\n",
        "    accuracy_stats['train'].append(train_epoch_acc/len(train_loader))\n",
        "    accuracy_stats['val'].append(val_epoch_acc/len(val_loader))\n",
        "\n",
        "#train_loop(model,train_loader, val_loader, criterion, optimizer,EPOCHS = 10)\n",
        "\n",
        "\n"
      ],
      "metadata": {
        "id": "xu4B-5BPlSbx"
      },
      "execution_count": null,
      "outputs": []
    },
    {
      "cell_type": "code",
      "source": [
        "train_loader = DataLoader(dataset = class_train, batch_size = BATCH_SIZE)\n",
        "z_load = DataLoader(dataset = mnist_train, batch_size = BATCH_SIZE)\n",
        "#  val_loader = DataLoader(dataset = class_val, batch_size = BATCH_SIZE)"
      ],
      "metadata": {
        "id": "-OOVaumSb06u"
      },
      "execution_count": null,
      "outputs": []
    },
    {
      "cell_type": "code",
      "source": [
        "len(train_loader)\n",
        "len(z_load)"
      ],
      "metadata": {
        "id": "bds5g2imcLPS"
      },
      "execution_count": null,
      "outputs": []
    },
    {
      "cell_type": "code",
      "source": [
        "\n",
        "print(theoNet5)"
      ],
      "metadata": {
        "id": "dq4QFBi9e9_y"
      },
      "execution_count": null,
      "outputs": []
    },
    {
      "cell_type": "code",
      "source": [
        "#for param in theoNet5.parameters():\n",
        "#  print(param)"
      ],
      "metadata": {
        "id": "hiKaLPiV3OnW"
      },
      "execution_count": null,
      "outputs": []
    },
    {
      "cell_type": "code",
      "source": [
        "'''\n",
        "what needs to be done: \n",
        "need to make sure the optimizer is defined on the model AFTER CHANGES \n",
        "\n",
        "this means that we need to turn off grad outside the loop.\n",
        "It also means we need to redefine the model before even that ie reset the fc layer. \n",
        "\n",
        "'''\n",
        "\n",
        "\n",
        "accuracy_stats = {\n",
        "    'train': [],\n",
        "    \"val\": []\n",
        "}\n",
        "loss_stats = {\n",
        "    'train': [],\n",
        "    \"val\": []\n",
        "}\n",
        "\n",
        "#theoNet5\n",
        "#model = theoNet5\n",
        "\n",
        "\n",
        "\n",
        "for param in theoNet5.parameters(): \n",
        "  param.requires_grad = False ##ignore these parameters. \n",
        "\n",
        "\n",
        "\n",
        "num_ftrs = theoNet5.fc3.in_features\n",
        "theoNet5.fc3 = nn.Linear(num_ftrs, 11)\n",
        "print(theoNet5.fc3.weight.requires_grad)\n",
        "theoNet5.to(device)\n",
        "\n",
        "criterion = nn.CrossEntropyLoss()\n",
        "optimizer = torch.optim.Adam(theoNet5.parameters(), lr = .001)##torch.nn.CrossEntropyLoss()\n",
        "BATCH_SIZE = 16\n",
        "\n",
        "transfer_train_loop(theoNet5,criterion, optimizer,BATCH_SIZE = BATCH_SIZE,EPOCHS = 10, )\n",
        "\n",
        "plot_scores(accuracy_stats,loss_stats)\n",
        "print(max(accuracy_stats['val']))\n",
        "\n",
        "## the accuracy doesn't get better than 12% this probably means that the NN isn't learning anything \n",
        "## it might be stuck at bad performance bc the parameters cannot change. \n",
        "## maybe the og model isn't performing well? \n",
        "\n",
        "## The og model won't train well gets to 8% performance but it isn't the og training loop bc LeNet works fine\n",
        "\n",
        "\n"
      ],
      "metadata": {
        "id": "TYuYoeOEtSIY"
      },
      "execution_count": null,
      "outputs": []
    },
    {
      "cell_type": "markdown",
      "source": [
        "**Implement** the following cell to train the final layer of the convolution. Also calculate the test set performance on this fine-tuned model. "
      ],
      "metadata": {
        "id": "6Sp7sQjub7HY"
      }
    },
    {
      "cell_type": "code",
      "source": [
        "#model_conv.train()"
      ],
      "metadata": {
        "id": "Izl74Ydtb8-Y"
      },
      "execution_count": null,
      "outputs": []
    },
    {
      "cell_type": "markdown",
      "source": [
        "***Implement*** the following cell to retrain the linear classifiers (LinearSVM and Softmax). Note that you have an extra class as your model should also detect \"not a digit\". "
      ],
      "metadata": {
        "id": "cQyYbK6AuqUQ"
      }
    },
    {
      "cell_type": "code",
      "source": [
        "accuracy_stats = {\n",
        "    'train': [],\n",
        "    \"val\": []\n",
        "}\n",
        "loss_stats = {\n",
        "    'train': [],\n",
        "    \"val\": []\n",
        "}\n",
        "\n",
        "model = LinearSVM(10)## we are just working with MNIST data for now \n",
        "model.to(device)\n",
        "\n",
        "criterion = nn.MultiMarginLoss()## svm loss\n",
        "optimizer = torch.optim.Adam(model.parameters(), lr = .001)##torch.nn.CrossEntropyLoss()\n",
        "\n",
        "\n",
        "transfer_train_loop(model, criterion, optimizer,EPOCHS = 10,BATCH_SIZE = 16)\n",
        "\n",
        "plot_scores(accuracy_stats,loss_stats)\n",
        "print(max(accuracy_stats['val']))"
      ],
      "metadata": {
        "id": "UKvrkj9uupeC"
      },
      "execution_count": null,
      "outputs": []
    },
    {
      "cell_type": "code",
      "source": [
        "accuracy_stats = {\n",
        "    'train': [],\n",
        "    \"val\": []\n",
        "}\n",
        "loss_stats = {\n",
        "    'train': [],\n",
        "    \"val\": []\n",
        "}\n",
        "\n",
        "model = LinearSVM(10)## we are just working with MNIST data for now \n",
        "model.to(device)\n",
        "\n",
        "criterion = nn.MultiMarginLoss()## svm loss\n",
        "optimizer = torch.optim.Adam(model.parameters(), lr = .001)##torch.nn.CrossEntropyLoss()\n",
        "\n",
        "\n",
        "transfer_train_loop(model, criterion, optimizer,EPOCHS = 10,BATCH_SIZE = 16)\n",
        "\n",
        "plot_scores(accuracy_stats,loss_stats)\n",
        "print(max(accuracy_stats['val']))"
      ],
      "metadata": {
        "id": "ccpNxCj14pmJ"
      },
      "execution_count": null,
      "outputs": []
    },
    {
      "cell_type": "markdown",
      "source": [
        "***Implement*** the following cell to retrain your previously defined CNN model. "
      ],
      "metadata": {
        "id": "dEKnIfUnu0DF"
      }
    },
    {
      "cell_type": "code",
      "source": [
        "accuracy_stats = {\n",
        "    'train': [],\n",
        "    \"val\": []\n",
        "}\n",
        "loss_stats = {\n",
        "    'train': [],\n",
        "    \"val\": []\n",
        "}\n",
        "\n",
        "mod = TheoNet5(11)## we are just working with MNIST data for now \n",
        "mod.to(device)\n",
        "\n",
        "criterion = nn.CrossEntropyLoss()\n",
        "optimizer = torch.optim.Adam(mod.parameters(), lr = .001)##torch.nn.CrossEntropyLoss()\n",
        "BATCH_SIZE = 16\n",
        "\n",
        "transfer_train_loop(mod,criterion, optimizer,BATCH_SIZE = BATCH_SIZE,EPOCHS = 20, )\n",
        "\n",
        "plot_scores(accuracy_stats,loss_stats)\n",
        "print(max(accuracy_stats['val']))"
      ],
      "metadata": {
        "id": "_ovyuauM65eA"
      },
      "execution_count": null,
      "outputs": []
    },
    {
      "cell_type": "code",
      "source": [
        "#!CUDA_LAUNCH_BLOCKING = 1"
      ],
      "metadata": {
        "id": "RPk6OywL7Lej"
      },
      "execution_count": null,
      "outputs": []
    },
    {
      "cell_type": "markdown",
      "source": [
        "**Implement** a visualization of the [confusion matrix](https://en.wikipedia.org/wiki/Confusion_matrix) on the **new** combined test set with the predictions from your LinearSVM, Softmax, and CNN. You should use a single `Matplotlib` figure with multiple subplots on a single row. \n",
        "\n",
        "[See here for examples on using plt.subplots.](https://matplotlib.org/stable/gallery/subplots_axes_and_figures/subplots_demo.html)"
      ],
      "metadata": {
        "id": "dhtx446K5FNI"
      }
    },
    {
      "cell_type": "code",
      "source": [],
      "metadata": {
        "id": "q_rCWjbVupm4"
      },
      "execution_count": null,
      "outputs": []
    },
    {
      "cell_type": "markdown",
      "source": [
        "In the following cells, write a short report about the performance of your models. You should include the effects of new data, data augmentation, and different architectures. You should also include visualizations as you did before. "
      ],
      "metadata": {
        "id": "xxv4Zf51wSpx"
      }
    },
    {
      "cell_type": "markdown",
      "source": [],
      "metadata": {
        "id": "HnMP5lDUwTd4"
      }
    }
  ]
}