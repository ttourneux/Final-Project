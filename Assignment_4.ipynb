{
  "nbformat": 4,
  "nbformat_minor": 0,
  "metadata": {
    "colab": {
      "provenance": [],
      "include_colab_link": true
    },
    "kernelspec": {
      "name": "python3",
      "display_name": "Python 3"
    },
    "language_info": {
      "name": "python"
    },
    "accelerator": "GPU",
    "gpuClass": "standard"
  },
  "cells": [
    {
      "cell_type": "markdown",
      "metadata": {
        "id": "view-in-github",
        "colab_type": "text"
      },
      "source": [
        "<a href=\"https://colab.research.google.com/github/ttourneux/Final-Project/blob/main/Assignment_4.ipynb\" target=\"_parent\"><img src=\"https://colab.research.google.com/assets/colab-badge.svg\" alt=\"Open In Colab\"/></a>"
      ]
    },
    {
      "cell_type": "markdown",
      "source": [
        "## questions: \n",
        "- do we need to use nn.Sequential? what are the advantages of using it? \n",
        "- are we supposed to assign self.decoder = nn.sequential(... all the layers)\n",
        "\n",
        "- am I implementing the VAE loss correctly?\n",
        "\n",
        "- what is the shape of z? "
      ],
      "metadata": {
        "id": "-gEP2wg7JBsp"
      }
    },
    {
      "cell_type": "markdown",
      "source": [
        "### Author Information\n",
        "Name: \\<FILL HERE\\>\n",
        "\n",
        "B-Number: \\<FILL HERE\\>\n",
        "\n",
        "Email: \\<FILL HERE\\>"
      ],
      "metadata": {
        "id": "9XBxo9_JFRob"
      }
    },
    {
      "cell_type": "markdown",
      "source": [
        "## General Instructions \n",
        "### Due December 5th, 11:59 PM.\n",
        "\n",
        "In the following assignment, you will be using variational autoencoders (VAEs) and generative adversarial networks (GANs) to generate new handwritten digits similar to the MNIST dataset.   \n",
        "\n",
        "\n",
        "Functions and cells that need to be implemented are marked with a bold **implement** keyword or clearly marked in the experiments section. \n",
        "\n",
        "The experiments section for each classifier also need to be implemented. You should follow the instructions above the cell. You may also add additional cells. "
      ],
      "metadata": {
        "id": "dwQubWAOFWgN"
      }
    },
    {
      "cell_type": "markdown",
      "source": [
        "# Import Statements"
      ],
      "metadata": {
        "id": "66ci8GC9HMxm"
      }
    },
    {
      "cell_type": "code",
      "source": [
        "import math\n",
        "import random\n",
        "import torch\n",
        "import torch.nn as nn\n",
        "from torch.nn import init\n",
        "import torchvision\n",
        "import torchvision.transforms as T\n",
        "import torch.optim as optim\n",
        "from torch.utils.data import DataLoader\n",
        "from torch.utils.data import sampler\n",
        "import torchvision.datasets as dset\n",
        "import matplotlib.pyplot as plt\n",
        "import matplotlib.gridspec as gridspec\n",
        "\n",
        "from tqdm import tqdm\n",
        "\n",
        "%matplotlib inline\n",
        "\n",
        "\n",
        "# for plotting\n",
        "plt.rcParams['figure.figsize'] = (10.0, 8.0) # set default size of plots\n",
        "plt.rcParams['font.size'] = 16\n",
        "plt.rcParams['image.interpolation'] = 'nearest'\n",
        "plt.rcParams['image.cmap'] = 'gray'"
      ],
      "metadata": {
        "id": "5m8H5miUHNDg"
      },
      "execution_count": 1,
      "outputs": []
    },
    {
      "cell_type": "markdown",
      "source": [
        "# Dataset\n",
        "Generative models are notoriously finicky with hyperparameters, and also require many training epochs. \n",
        "\n",
        "We will be working on the MNIST dataset, which is 60,000 training and 10,000 test images. Each picture contains a centered image of white digit on black background (0 through 9). \n",
        "\n",
        "To simplify our code here, we will use the PyTorch MNIST wrapper, which downloads and loads the MNIST dataset. See the [documentation](https://github.com/pytorch/vision/blob/master/torchvision/datasets/mnist.py) for more information about the interface. The default parameters will take 5,000 of the training examples and place them into a validation dataset. The data will be saved into a folder called `MNIST_data`. "
      ],
      "metadata": {
        "id": "-n8qpvuNGeLJ"
      }
    },
    {
      "cell_type": "code",
      "execution_count": 2,
      "metadata": {
        "colab": {
          "base_uri": "https://localhost:8080/"
        },
        "id": "VZo0wD82FIGo",
        "outputId": "062ac4fc-c362-46ad-d19f-55de92b6970c"
      },
      "outputs": [
        {
          "output_type": "execute_result",
          "data": {
            "text/plain": [
              "\"# Mount the drive\\nfrom google.colab import drive\\ndrive.mount('/content/drive')\""
            ]
          },
          "metadata": {},
          "execution_count": 2
        }
      ],
      "source": [
        "'''# Mount the drive\n",
        "from google.colab import drive\n",
        "drive.mount('/content/drive')'''"
      ]
    },
    {
      "cell_type": "markdown",
      "source": [
        "*Run* the following the following cell to download the MNIST data set."
      ],
      "metadata": {
        "id": "jPogmJsmHI-A"
      }
    },
    {
      "cell_type": "code",
      "source": [
        "batch_size = 128\n",
        "\n",
        "print('download MNIST if not exist')\n",
        "\n",
        "mnist_train = dset.MNIST('./MNIST_data', train=True, download=True,\n",
        "                           transform=T.ToTensor())\n",
        "loader_train = DataLoader(mnist_train, batch_size=batch_size,\n",
        "                          shuffle=True, drop_last=True, num_workers=2)\n",
        "\n",
        "\n",
        "imgs = loader_train.__iter__().next()[0].view(batch_size, 784)"
      ],
      "metadata": {
        "colab": {
          "base_uri": "https://localhost:8080/"
        },
        "id": "FcFbhFakHJN5",
        "outputId": "c5729b25-baa7-4035-81fe-0935b01d087b"
      },
      "execution_count": 3,
      "outputs": [
        {
          "output_type": "stream",
          "name": "stdout",
          "text": [
            "download MNIST if not exist\n"
          ]
        }
      ]
    },
    {
      "cell_type": "markdown",
      "source": [
        "*Run* this cell to define the helper function to generate grids of images. "
      ],
      "metadata": {
        "id": "_jwQQ0dgHFQH"
      }
    },
    {
      "cell_type": "code",
      "source": [
        "def show_images(images):\n",
        "    images = torch.reshape(\n",
        "        images, [images.shape[0], -1]\n",
        "    )  # images reshape to (batch_size, D)\n",
        "    sqrtn = int(math.ceil(math.sqrt(images.shape[0])))\n",
        "    sqrtimg = int(math.ceil(math.sqrt(images.shape[1])))\n",
        "\n",
        "    fig = plt.figure(figsize=(sqrtn, sqrtn))\n",
        "    gs = gridspec.GridSpec(sqrtn, sqrtn)\n",
        "    gs.update(wspace=0.05, hspace=0.05)\n",
        "\n",
        "    for i, img in enumerate(images):\n",
        "        ax = plt.subplot(gs[i])\n",
        "        plt.axis(\"off\")\n",
        "        ax.set_xticklabels([])\n",
        "        ax.set_yticklabels([])\n",
        "        ax.set_aspect(\"equal\")\n",
        "        plt.imshow(img.reshape([sqrtimg, sqrtimg]))\n",
        "    return"
      ],
      "metadata": {
        "id": "mD5aqLmqHFbv"
      },
      "execution_count": 4,
      "outputs": []
    },
    {
      "cell_type": "markdown",
      "source": [
        "*Run* the following cell to show an example of a grid of MNIST images."
      ],
      "metadata": {
        "id": "04CqbClrPNL3"
      }
    },
    {
      "cell_type": "code",
      "source": [
        "show_images(imgs[:36])"
      ],
      "metadata": {
        "id": "evAMX2GrHl_W",
        "colab": {
          "base_uri": "https://localhost:8080/",
          "height": 357
        },
        "outputId": "6641aca9-fb74-46b2-9f60-268fca81d0ec"
      },
      "execution_count": 5,
      "outputs": [
        {
          "output_type": "display_data",
          "data": {
            "text/plain": [
              "<Figure size 432x432 with 36 Axes>"
            ],
            "image/png": "[encoded data removed]"
          },
          "metadata": {
            "needs_background": "light"
          }
        }
      ]
    },
    {
      "cell_type": "markdown",
      "source": [
        "# (Part 1) Variational Autoencoder - 40 pts\n",
        "\n"
      ],
      "metadata": {
        "id": "p4r8iP4yHBSG"
      }
    },
    {
      "cell_type": "markdown",
      "source": [
        "## VAE Encoder\n",
        "\n",
        "Now lets start building our fully-connected VAE network.\n",
        "Start with the encoder,\n",
        "which will take our images as input and pass them through a three Linear+ReLU layers.\n",
        "You will use the output of these layers to predict both the posterior mu and posterior log-variance using two separate linear layers (both shape (N,Z)). \n",
        "\n",
        "\n",
        "Use nn.Sequential to define the encoder, and separate Linear layers for the mu and logvar layers. In all of these layers, H will be a hidden dimension you set and will be the same across all encoder and decoder layers. Architecture for the encoder is described below:\n",
        "\n",
        " * `Flatten` (Hint: nn.Flatten)\n",
        " * Fully connected layer with input size 784 (`input_size`) and output size H\n",
        " * `ReLU`\n",
        " * Fully connected layer with input_size H and output size H\n",
        " * `ReLU`\n",
        " * Fully connected layer with input_size H and output size H\n",
        " * `ReLU`\n",
        "\n",
        "Complete the `Encoder` class by completing the `self.__init__` and `self.forward` methods.  "
      ],
      "metadata": {
        "id": "4dajulh-7TkW"
      }
    },
    {
      "cell_type": "code",
      "source": [
        "class Encoder(nn.Module):\n",
        "    def __init__(self, input_size, hidden_dim):\n",
        "        super().__init__()\n",
        "\n",
        "        # ==== BEGIN SOLUTION CODE ====   \n",
        "        self.input_size = input_size \n",
        "        self.hidden_dim = hidden_dim     \n",
        "\n",
        "        self.flatten = nn.Flatten()\n",
        "\n",
        "        self.ReLU = nn.ReLU()\n",
        "        self.fc1 = nn.Linear(784,self.hidden_dim) \n",
        "        self.fc2 = nn.Linear(hidden_dim, hidden_dim)\n",
        "        self.fc3 = nn.Linear(hidden_dim, hidden_dim)\n",
        "\n",
        "        self.encoder = nn.Sequential(\n",
        "            self.flatten,\n",
        "            self.fc1,self.ReLU,\n",
        "            self.fc2, self.ReLU,\n",
        "            self.fc3, self.ReLU\n",
        "        )\n",
        "\n",
        "        \n",
        "\n",
        "        # ==== END SOLUTION CODE ====\n",
        "\n",
        "    def forward(self, x):\n",
        "        '''\n",
        "        Use the self._encoder to encode the image to the hidden dimension\n",
        "        \n",
        "        Inputs:\n",
        "        - x: Tensor of shape (N, 1, H, W ) where H * W = input_size\n",
        "\n",
        "        Returns:\n",
        "        - h: Tensor of shape (N , hidden_dim)\n",
        "        '''\n",
        "        #h = None\n",
        "        # ==== BEGIN SOLUTION CODE ====\n",
        "        '''x = self.flatten(x)\n",
        "        x = self.fc1(x)\n",
        "        x = self.ReLU(x) \n",
        "        x = self.fc2(x) \n",
        "        x = self.ReLU(x) \n",
        "        x = self.fc3(x) \n",
        "        h = x '''\n",
        "        h = self.encoder(x)\n",
        "\n",
        "        # ==== END SOLUTION CODE ====\n",
        "        return h"
      ],
      "metadata": {
        "id": "GUat8css7T5Q"
      },
      "execution_count": 6,
      "outputs": []
    },
    {
      "cell_type": "markdown",
      "source": [
        "*Implement* a sanity check in the following cell to run a `(32, 1, 28, 28)` random tensor through an encoder initialized with size `786` and `96` dim hidden dimension. The output should be `(32, 96)`. "
      ],
      "metadata": {
        "id": "ooHtzwWLbUjQ"
      }
    },
    {
      "cell_type": "code",
      "source": [
        "# ==== BEGIN SOLUTION CODE ====\n",
        "encoder = Encoder(786,96)\n",
        "rtensor = torch.rand((32,1,28,28))\n",
        "\n",
        "ans = encoder.forward(rtensor)\n",
        "ans.shape\n",
        "\n",
        "# ==== END SOLUTION CODE ===="
      ],
      "metadata": {
        "id": "PRCA7vc_bVgZ",
        "colab": {
          "base_uri": "https://localhost:8080/"
        },
        "outputId": "8f8c6a58-f6c9-4420-f127-5807e13f4c31"
      },
      "execution_count": 7,
      "outputs": [
        {
          "output_type": "execute_result",
          "data": {
            "text/plain": [
              "torch.Size([32, 96])"
            ]
          },
          "metadata": {},
          "execution_count": 7
        }
      ]
    },
    {
      "cell_type": "markdown",
      "source": [
        "## VAE Decoder\n",
        "\n",
        "**Implement** the Decoder, which will take the latent space representation and generate a reconstructed image. The architecture is as follows: \n",
        "\n",
        " * Fully connected layer with input size as the latent size (Z) and output size hidden dim (H)\n",
        " * `ReLU`\n",
        " * Fully connected layer with input_size H and output size H\n",
        " * `ReLU`\n",
        " * Fully connected layer with input_size H and output size H\n",
        " * `ReLU`\n",
        " * Fully connected layer with input_size H and output size (`output_size` = 784)\n",
        " * `Sigmoid`\n",
        " * `Unflatten` (nn.Unflatten: shape=(1,28,28))\n",
        "\n",
        "Use `nn.Sequential` to define the architecture in `self._decoder`. \n",
        "\n",
        "Complete the `Decoder` class by completing the `self.__init__` and `self.forward` methods.  \n"
      ],
      "metadata": {
        "id": "RkMN6F4g651k"
      }
    },
    {
      "cell_type": "code",
      "source": [
        "class Decoder(nn.Module):\n",
        "    def __init__(self, latent_size, hidden_dim, height=28, width=28):\n",
        "        super().__init__()\n",
        "        self._decoder = None\n",
        "        self.latent_size = latent_size\n",
        "        self.hidden_dim = hidden_dim\n",
        "        self.height = height\n",
        "        self.width = width\n",
        "        self.output_size = height * width\n",
        "\n",
        "        # ==== BEGIN SOLUTION CODE ====\n",
        "        self.ReLU = nn.ReLU()\n",
        "        \n",
        "        self.fc1 = nn.Linear(self.latent_size,self.hidden_dim)\n",
        "        self.fc2 = nn.Linear(hidden_dim, hidden_dim) \n",
        "        self.fc3 = nn.Linear(hidden_dim, hidden_dim) \n",
        "        self.fc4 = nn.Linear(hidden_dim, self.output_size)\n",
        "\n",
        "        self.sigmoid = nn.Sigmoid()\n",
        "\n",
        "        self.unflatten = nn.Unflatten(1, (1,self.width,self.height))\n",
        "\n",
        "        self.decoder = nn.Sequential(\n",
        "            self.fc1,self.ReLU,\n",
        "\n",
        "            self.fc2,self.ReLU,\n",
        "\n",
        "            self.fc3,self.ReLU,\n",
        "\n",
        "            self.fc4,self.sigmoid,\n",
        "\n",
        "            self.unflatten,\n",
        "\n",
        "\n",
        "        )\n",
        "\n",
        "\n",
        "\n",
        "        # ==== END SOLUTION CODE ====\n",
        "\n",
        "\n",
        "    def forward(self, z):\n",
        "        \"\"\"\n",
        "        Use the self._decoder to reconstruct the image\n",
        "        \n",
        "        Inputs:\n",
        "        - Z: Tensor of shape (N, Z) giving the latent vector\n",
        "\n",
        "        Returns:\n",
        "        - x_reconstructed: Reconstruced input data of shape (N,1,H,W)\n",
        "          whete, H is self.height, and W is self.width\n",
        "        \"\"\"\n",
        "        x_reconstructed = None\n",
        "\n",
        "        # ==== BEGIN SOLUTION CODE ====\n",
        "        '''\n",
        "        x = self.fc1(z)\n",
        "        x = self.ReLU(x) \n",
        "\n",
        "\n",
        "        x = self.fc2(x) \n",
        "        x = self.ReLU(x)\n",
        "\n",
        "        x = self.fc3(x) \n",
        "        x = self.ReLU(x)\n",
        "\n",
        "        x = self.fc4(x) \n",
        "        x = self.sigmoid(x) \n",
        "\n",
        "        x_reconstructed = self.unflatten(x)'''\n",
        "\n",
        "\n",
        "        x_reconstructed = self.decoder(z)\n",
        "\n",
        "\n",
        "        # ==== END SOLUTION CODE ====\n",
        "        return x_reconstructed    \n"
      ],
      "metadata": {
        "id": "0H8urU548HSK"
      },
      "execution_count": 8,
      "outputs": []
    },
    {
      "cell_type": "markdown",
      "source": [
        "*Implement* a sanity check in the following cell to run a `(16, 32)` random tensor through a decoder initialized with a `32` and `96` dim latent space and hidden dimension respectively. The output should be `(16, 1, 28, 28)`"
      ],
      "metadata": {
        "id": "R3aIwq59bgLo"
      }
    },
    {
      "cell_type": "code",
      "source": [
        "# ==== BEGIN SOLUTION CODE ====\n",
        "        \n",
        "\n",
        "decoder = Decoder(32,96)\n",
        "rtensor = torch.rand((16,32))\n",
        "\n",
        "ans = decoder.forward(rtensor)\n",
        "ans.shape\n",
        "# ==== END SOLUTION CODE ===="
      ],
      "metadata": {
        "id": "VdV2-o4lbgWe",
        "colab": {
          "base_uri": "https://localhost:8080/"
        },
        "outputId": "b79d1a28-0390-4911-d49d-3007135958c4"
      },
      "execution_count": 9,
      "outputs": [
        {
          "output_type": "execute_result",
          "data": {
            "text/plain": [
              "torch.Size([16, 1, 28, 28])"
            ]
          },
          "metadata": {},
          "execution_count": 9
        }
      ]
    },
    {
      "cell_type": "markdown",
      "source": [
        "## Reparameterization Trick\n",
        "\n",
        "Apply a reparametrization trick in order to estimate the posterior $z$ during our forward pass, given the $\\mu$ and $log(\\sigma^2)$ estimated by the encoder.\n",
        "\n",
        "In order to be able to backprop through the probabilistic latent space, we sample initial random data $\\epsilon$ from a fixed distrubtion, and compute $z$ as a function of ($\\epsilon$, $\\log(\\sigma^2)$, $\\mu$). Specifically:\n",
        "\n",
        "$z = \\mu + \\sigma\\epsilon$\n",
        "\n",
        "We can easily find the partial derivatives w.r.t $\\mu$ and $\\sigma^2$ and backpropagate through $z$. If $\\epsilon = \\mathcal{N} (0,1)$, then it's easy to verify that the result of our forward pass calculation will be a distribution centered at $\\mu$ with variance $\\sigma^2$.\n",
        "\n",
        "Not that the encoder outputs $\\log(\\sigma^2))$. So you will need to transform the output first before applying the reparameterization trick. \n"
      ],
      "metadata": {
        "id": "_CQ5zLqr8Hu_"
      }
    },
    {
      "cell_type": "markdown",
      "source": [
        "**Implement** the reparametrize function."
      ],
      "metadata": {
        "id": "34ez_hoZR3_k"
      }
    },
    {
      "cell_type": "code",
      "source": [
        "def reparameterize(mu, logvar):\n",
        "    \"\"\"\n",
        "    Differentiably sample random Gaussian data with specified mean and variance\n",
        "    using the reparameterization trick.\n",
        "\n",
        "    We want to sample a random number z from a Gaussian distribution with\n",
        "    mean mu and standard deviation sigma, such that we can backpropagate from the\n",
        "    z back to mu and sigma. We can achieve this by first sampling a random value\n",
        "    epsilon from a standard Gaussian distribution with zero mean and unit variance,\n",
        "    then setting z = sigma * epsilon + mu.\n",
        "\n",
        "    For more stable training when integrating this function into a neural network,\n",
        "    it helps to pass this function the log of the variance of the distribution from\n",
        "    which to sample, rather than specifying the standard deviation directly.\n",
        "\n",
        "    Inputs:\n",
        "    - mu: Tensor of shape (N, Z) giving means\n",
        "    - logvar: Tensor of shape (N, Z) giving log-variances\n",
        "\n",
        "    Returns:\n",
        "    - z: Estimated latent vectors, where z[i, j] is a random value sampled from a\n",
        "      Gaussian with mean mu[i, j] and log-variance logvar[i, j].\n",
        "    \"\"\"\n",
        "\n",
        "    # ==== BEGIN SOLUTION CODE ====\n",
        "    N,Z = mu.shape\n",
        "    epsilon = torch.normal(torch.zeros((N,Z)),torch.ones(N,Z)).to(device)\n",
        "    sigma = torch.exp(logvar).to(device)\n",
        "\n",
        "    mu = mu.to(device)\n",
        "\n",
        "    z = sigma*epsilon + mu\n",
        "    assert(z.shape == (N,Z))\n",
        "    # ==== END SOLUTION CODE ====\n",
        "    \n",
        "    return z"
      ],
      "metadata": {
        "id": "sHpIwF8LoDyV"
      },
      "execution_count": 10,
      "outputs": []
    },
    {
      "cell_type": "markdown",
      "source": [
        "## VAE Model\n",
        "\n"
      ],
      "metadata": {
        "id": "30ZTlVuOoDNk"
      }
    },
    {
      "cell_type": "markdown",
      "source": [
        "**Implement** the following cell and complete the implementation of the VAE class. You will need to complete the `self.__init__`, and `self.forward` methods. \n",
        "\n",
        "To complete the `self.__init__` method: \n",
        "- Define self.encoder which should be a network that\n",
        "inputs a batch of input images of shape (N, 1, H, W) into a batch of hidden features of shape (N, H_d). Use the `Encoder` class you defined before. \n",
        "\n",
        "- Set up self.mu_layer and self.logvar_layer to be a pair of linear layers that map the hidden features into estimates of the mean and log-variance of the posterior over the latent vectors; the mean and log-variance estimates will both be tensors of shape (N, Z). \n",
        "Note that we are calling this the 'logvar' layer because we'll use the log-variance (instead of variance or standard deviation) to stabilize training. This will specifically matter more when you compute reparametrization and the loss function. \n",
        "\n",
        "- Define self.decoder which should be a network that inputs a batch of latent vectors of shape (N, Z) and outputs a tensor of estimated images of shape (N, 1, H, W). Use the `Decoder` class you defined before. \n",
        "\n",
        "To complete the `self.forward` method:\n",
        "\n",
        "- Get the hidden dimension vector by calling passing the input through the encoder\n",
        "\n",
        "- Use `self.mu_layer` and `self.logvag_layer` to obtain the posterior mu and logvar\n",
        "\n",
        "- Use the `reparameterize` function to compute the latent vector z\n",
        "\n",
        "- Use the decoder to reconstruct the input \n",
        "\n",
        "- Return the reconstructed input, the posterior mean, and the posterior logvar. "
      ],
      "metadata": {
        "id": "jBeyDYjKKUjF"
      }
    },
    {
      "cell_type": "code",
      "source": [
        "class VAE(nn.Module):\n",
        "    def __init__(self, height, width, hidden_dim=96, latent_size=16):\n",
        "        super(VAE, self).__init__()\n",
        "        self.height = height\n",
        "        self.width = width\n",
        "        self.input_size = height * width  # H*W\n",
        "        self.latent_size = latent_size  # Z\n",
        "        self.hidden_dim = hidden_dim  \n",
        "        self.encoder = None\n",
        "        self.mu_layer = None\n",
        "        self.logvar_layer = None\n",
        "        self.decoder = None\n",
        "\n",
        "        # ==== BEGIN SOLUTION CODE ====\n",
        "\n",
        "        self.encoder = Encoder(height*width, hidden_dim=hidden_dim)\n",
        "\n",
        "        self.decoder = Decoder(latent_size = self.latent_size,hidden_dim=hidden_dim)\n",
        "\n",
        "        self.mu_layer =nn.Linear(hidden_dim,latent_size)\n",
        "\n",
        "        self.logvar_layer = nn.Linear(hidden_dim,latent_size)\n",
        "        # ==== END SOLUTION CODE ====\n",
        "        \n",
        "\n",
        "    def forward(self, x):\n",
        "        \"\"\"\n",
        "        Performs forward pass through VAE model by passing image through\n",
        "        encoder, reparametrize trick, and decoder models\n",
        "\n",
        "        Inputs:\n",
        "        - x: Batch of input images of shape (N, 1, H, W)\n",
        "\n",
        "        Returns:\n",
        "        - x_hat: Reconstruced input data of shape (N,1,H,W)\n",
        "        - mu: Matrix representing estimated posterior mu (N, Z), with Z latent\n",
        "          space dimension\n",
        "        - logvar: Matrix representing estimataed variance in log-space (N, Z),\n",
        "          with Z latent space dimension\n",
        "        \"\"\"\n",
        "        x_hat = None\n",
        "        mu = None\n",
        "        logvar = None\n",
        "        # ==== BEGIN SOLUTION CODE ====\n",
        "        hd_vector = self.encoder(x)\n",
        "        mu = self.mu_layer(hd_vector)\n",
        "        logvar = self.logvar_layer(hd_vector)\n",
        "\n",
        "        z = reparameterize(mu, logvar)\n",
        "        assert(z.shape == (128,self.latent_size))\n",
        "        \n",
        "\n",
        "        x_hat = self.decoder(z)\n",
        "\n",
        "        N,one,H,W = x.shape\n",
        "        assert(x_hat.shape == (N,1,H,W))\n",
        "        assert(mu.shape == (N,self.latent_size))\n",
        "        assert(logvar.shape == (N,self.latent_size) )\n",
        "        # ==== END SOLUTION CODE ====\n",
        "        return x_hat, mu, logvar"
      ],
      "metadata": {
        "id": "MNJgTfGR7tJ7"
      },
      "execution_count": 11,
      "outputs": []
    },
    {
      "cell_type": "markdown",
      "source": [
        "## VAE Loss\n",
        "\n",
        "Before we're able to train our final model, we'll need to define our loss function. As seen below, the loss function for VAEs contains two terms: A reconstruction loss term (left) and KL divergence term (right). \n",
        "\n",
        "$$-E_{Z~q_{\\phi}(z|x)}[log p_{\\theta}(x|z)] + D_{KL}(q_{\\phi}(z|x), p(z)))$$\n",
        "\n",
        "Note that this is the negative of the variational lowerbound shown in lecture--this ensures that when we are minimizing this loss term, we're maximizing the variational lowerbound. The reconstruction loss term can be computed by simply using the binary cross entropy loss between the original input pixels and the output pixels of our decoder (Hint: `nn.functional.binary_cross_entropy` but choose the correct reduction). The KL divergence term works to force the latent space distribution to be close to a prior distribution (we're using a standard normal gaussian as our prior).\n",
        "\n",
        "To help you out, we've derived an unvectorized form of the KL divergence term for you.\n",
        "Suppose that $q_\\phi(z|x)$ is a $Z$-dimensional diagonal Gaussian with mean $\\mu_{z|x}$ of shape $(Z,)$ and standard deviation $\\sigma_{z|x}$ of shape $(Z,)$, and that $p(z)$ is a $Z$-dimensional Gaussian with zero mean and unit variance. Then we can write the KL divergence term as:\n",
        "\n",
        "$$D_{KL}(q_{\\phi}(z|x), p(z))) = -\\frac{1}{2} \\sum_{j=1}^{Z} (1 + log(\\sigma_{z|x}^2)_{j} - (\\mu_{z|x})^2_{j} - (\\sigma_{z|x})^2_{j})$$\n",
        "\n",
        "**Implement** this loss that also operates on minibatches.\n",
        "You should average the loss across samples in the minibatch.\n",
        "\n"
      ],
      "metadata": {
        "id": "IxCnOuvOoEDi"
      }
    },
    {
      "cell_type": "code",
      "source": [
        "def VAE_Loss(x, x_reconstructed, mu, logvar):\n",
        "  loss = None\n",
        "  # ==== BEGIN SOLUTION CODE ====\n",
        "\n",
        "  reconstruction_loss = nn.functional.binary_cross_entropy(x_reconstructed,x)\n",
        "\n",
        "  N,Z = mu.shape\n",
        "  losses = []\n",
        "  '''for sample in range(N): \n",
        "    total = 0 \n",
        "    for j in range(Z): \n",
        "      total+= ( (1+logvar[sample,j]) - (mu[sample,j])**2 - torch.exp(logvar)[sample,j]**2 )## we might be able to do this in a vectorized fashion \n",
        "    total = -total/2#float(total/2)\n",
        "    #print('total',total)\n",
        "\n",
        "    losses.append(total)\n",
        "  #print('losses',losses)\n",
        "  loss = (sum(losses)/len(losses) ) + reconstruction_loss'''\n",
        "  #print('logvar',logvar)\n",
        "  #print('mu',mu)\n",
        "\n",
        "  d_KL = torch.ones((N,Z)).to(device) + logvar - mu**2 - torch.exp(logvar)**2\n",
        "  d_KL_loss = -.5*sum(d_KL.flatten())/len(d_KL.flatten())\n",
        "  \n",
        "  ##print('d_KL_loss',d_KL_loss)\n",
        "  #print('reconstruction_loss', reconstruction_loss)\n",
        "  # ==== END SOLUTION CODE ====\n",
        "  return d_KL_loss + reconstruction_loss"
      ],
      "metadata": {
        "id": "WZnhEd8_5Xms"
      },
      "execution_count": 26,
      "outputs": []
    },
    {
      "cell_type": "code",
      "source": [
        "'''def VAE_Loss(x, x_reconstructed, mu, logvar):\n",
        "  loss = None\n",
        "  # ==== BEGIN SOLUTION CODE ====\n",
        "\n",
        "  reconstruction_loss = nn.functional.binary_cross_entropy(x,x_reconstructed)\n",
        "\n",
        "  N,Z = mu.shape\n",
        "  losses = []\n",
        "  for sample in range(N): \n",
        "    total = 0 \n",
        "    for j in range(Z): \n",
        "      total+= ( (1+logvar[sample,j]) - (mu[sample,j])**2 - torch.exp(logvar)[sample,j]**2 )## we might be able to do this in a vectorized fashion \n",
        "    total = -total/2#float(total/2)\n",
        "    #print('total',total)\n",
        "\n",
        "    losses.append(total)\n",
        "  #print('losses',losses)\n",
        "  loss = (sum(losses)/len(losses) ) + reconstruction_loss\n",
        "  # ==== END SOLUTION CODE ====\n",
        "  return loss'''"
      ],
      "metadata": {
        "id": "KYF442FC8N_n"
      },
      "execution_count": 13,
      "outputs": []
    },
    {
      "cell_type": "markdown",
      "source": [
        "## VAE Training\n",
        "\n",
        "In the following cell, define a VAE and train on the training set. \n",
        "\n",
        "The VAE training algorithm is as follows:\n",
        "\n",
        "1. Instantiate a `VAE` \n",
        "    - Suggested: hidden_dim = 96, latent_dim = 16\n",
        "2. Define a vae optimizer\n",
        "    - Suggested: ADAM with lr .001\n",
        "3. For each batch of data;\n",
        "    - Pass the input through the VAE to get the reconstructed input, the mean and log-var approximate of the posterior\n",
        "    - Calculate the loss using the `VAE_Loss` \n",
        "    - Zero the gradients, propagate the loss backwards, and update the  weights using the optimizer\n",
        "\n",
        "4. Repeat 3, `num_epoch` times\n",
        "    - Suggested: 10 times. \n",
        "\n",
        "*Following the suggested hyper-parameters, training takes approximately 2 minutes.* "
      ],
      "metadata": {
        "id": "3NK9F82a8OXt"
      }
    },
    {
      "cell_type": "code",
      "source": [
        "device = \"cuda\" if torch.cuda.is_available() else \"cpu\"\n",
        "print(f\"Using {device} device\")"
      ],
      "metadata": {
        "id": "qsTe3JUDm2Rv",
        "outputId": "fe808d41-aea2-4435-8a3d-6f110a0ea3a3",
        "colab": {
          "base_uri": "https://localhost:8080/"
        }
      },
      "execution_count": 14,
      "outputs": [
        {
          "output_type": "stream",
          "name": "stdout",
          "text": [
            "Using cuda device\n"
          ]
        }
      ]
    },
    {
      "cell_type": "code",
      "source": [
        "'''mnist_train, mnist_val = torch.utils.data.random_split(training_mnist, lengths =[int(len(training_mnist)*.80),int(len(training_mnist)*.2)])\n",
        "\n",
        "train_loader = DataLoader(dataset = mnist_train, batch_size = BATCH_SIZE)\n",
        "val_loader = DataLoader(dataset = mnist_val, batch_size = BATCH_SIZE)'''"
      ],
      "metadata": {
        "id": "7jakOh2Bne-F",
        "colab": {
          "base_uri": "https://localhost:8080/"
        },
        "outputId": "e3748b03-ccd3-48bd-e86f-c4badcb2eae6"
      },
      "execution_count": 15,
      "outputs": [
        {
          "output_type": "execute_result",
          "data": {
            "text/plain": [
              "'mnist_train, mnist_val = torch.utils.data.random_split(training_mnist, lengths =[int(len(training_mnist)*.80),int(len(training_mnist)*.2)])\\n\\ntrain_loader = DataLoader(dataset = mnist_train, batch_size = BATCH_SIZE)\\nval_loader = DataLoader(dataset = mnist_val, batch_size = BATCH_SIZE)'"
            ]
          },
          "metadata": {},
          "execution_count": 15
        }
      ]
    },
    {
      "cell_type": "code",
      "source": [
        "#kl_div_loss = torch.nn.functional.kl_div(input, target, )"
      ],
      "metadata": {
        "id": "xdM9ruNxoRsh"
      },
      "execution_count": 16,
      "outputs": []
    },
    {
      "cell_type": "code",
      "source": [
        "logvar.shape"
      ],
      "metadata": {
        "id": "WK_hOufTx2Nk",
        "outputId": "c2122430-71a0-499d-ee1c-bbb3a314cd61",
        "colab": {
          "base_uri": "https://localhost:8080/",
          "height": 165
        }
      },
      "execution_count": 17,
      "outputs": [
        {
          "output_type": "error",
          "ename": "NameError",
          "evalue": "ignored",
          "traceback": [
            "\u001b[1;31m---------------------------------------------------------------------------\u001b[0m",
            "\u001b[1;31mNameError\u001b[0m                                 Traceback (most recent call last)",
            "\u001b[1;32m~\\AppData\\Local\\Temp\\ipykernel_7304\\3899894523.py\u001b[0m in \u001b[0;36m<module>\u001b[1;34m\u001b[0m\n\u001b[1;32m----> 1\u001b[1;33m \u001b[0mlogvar\u001b[0m\u001b[1;33m.\u001b[0m\u001b[0mshape\u001b[0m\u001b[1;33m\u001b[0m\u001b[1;33m\u001b[0m\u001b[0m\n\u001b[0m",
            "\u001b[1;31mNameError\u001b[0m: name 'logvar' is not defined"
          ]
        }
      ]
    },
    {
      "cell_type": "code",
      "source": [
        "# ==== BEGIN SOLUTION CODE ====\n",
        "model = VAE(28,28,hidden_dim=96,latent_size =16)\n",
        "model.to(device)\n",
        "#BATCH_SIZE = 16 ## this is already set in the dataLoader\n",
        "EPOCHS = 10\n",
        "optimizer = torch.optim.Adam(model.parameters(),lr = .001)\n",
        "\n",
        "loss_stats= []\n",
        "\n",
        "for epoch in tqdm(range(1,EPOCHS+1),disable = True):\n",
        "  train_epoch_loss = 0 \n",
        "  model.train()\n",
        "  for x_train_batch, y_train_batch in tqdm(loader_train, disable = 0):\n",
        "    #print()\n",
        "    #print('start batch')\n",
        "    x_train_batch, y_train_batch = x_train_batch.to(device), y_train_batch.to(device)\n",
        "    optimizer.zero_grad()\n",
        "\n",
        "    x_hat, mu, logvar = model(x_train_batch.float())\n",
        "    train_loss = VAE_Loss(x_train_batch, x_hat, mu, logvar)\n",
        "    #print()\n",
        "    #print(train_loss)\n",
        "    #train_loss = torch.nn.functional.kl_div(logvar + mu, x_hat )\n",
        "\n",
        "\n",
        "    #print()\n",
        "    #print(\"train_loss\",train_loss)\n",
        "    train_loss.backward()\n",
        "    optimizer.step()\n",
        "\n",
        "    train_epoch_loss += train_loss\n",
        "    #print('end batch')## the batches are starting and ending...\n",
        "\n",
        "  loss_stats.append(train_epoch_loss)\n",
        "\n",
        "\n",
        "    \n",
        "\n",
        "# ==== END SOLUTION CODE ====\n",
        "##1.11 loss with second VAE"
      ],
      "metadata": {
        "id": "WLaczWut8Qvq",
        "colab": {
          "base_uri": "https://localhost:8080/"
        },
        "outputId": "5655261a-40d7-419c-80eb-a61a69255a1c"
      },
      "execution_count": 28,
      "outputs": [
        {
          "output_type": "stream",
          "name": "stderr",
          "text": [
            "100%|████████████████████████████████████████████████████████████████████████████████| 468/468 [00:20<00:00, 22.94it/s]\n",
            "100%|████████████████████████████████████████████████████████████████████████████████| 468/468 [00:20<00:00, 22.68it/s]\n",
            "100%|████████████████████████████████████████████████████████████████████████████████| 468/468 [00:20<00:00, 22.44it/s]\n",
            "100%|████████████████████████████████████████████████████████████████████████████████| 468/468 [00:21<00:00, 22.15it/s]\n",
            "100%|████████████████████████████████████████████████████████████████████████████████| 468/468 [00:21<00:00, 22.10it/s]\n",
            "100%|████████████████████████████████████████████████████████████████████████████████| 468/468 [00:21<00:00, 21.68it/s]\n",
            "100%|████████████████████████████████████████████████████████████████████████████████| 468/468 [00:21<00:00, 21.41it/s]\n",
            "100%|████████████████████████████████████████████████████████████████████████████████| 468/468 [00:22<00:00, 21.20it/s]\n",
            "100%|████████████████████████████████████████████████████████████████████████████████| 468/468 [00:22<00:00, 21.07it/s]\n",
            "100%|████████████████████████████████████████████████████████████████████████████████| 468/468 [00:22<00:00, 21.12it/s]\n"
          ]
        }
      ]
    },
    {
      "cell_type": "code",
      "source": [
        "cpu_loss_stats =[]\n",
        "for i in loss_stats: \n",
        "  cpu_loss_stats.append(i.to('cpu').detach().numpy())"
      ],
      "metadata": {
        "id": "yI2ok97Y76Ai"
      },
      "execution_count": 29,
      "outputs": []
    },
    {
      "cell_type": "code",
      "source": [
        "loss_stats"
      ],
      "metadata": {
        "id": "8fHg_lXJ8VEI"
      },
      "execution_count": null,
      "outputs": []
    },
    {
      "cell_type": "code",
      "source": [
        "plt.plot(cpu_loss_stats)"
      ],
      "metadata": {
        "id": "dCgfdYk1cDTm",
        "colab": {
          "base_uri": "https://localhost:8080/",
          "height": 505
        },
        "outputId": "b3e5d1db-1d8e-41e1-a392-d7d0acba29d9"
      },
      "execution_count": 30,
      "outputs": [
        {
          "output_type": "execute_result",
          "data": {
            "text/plain": [
              "[<matplotlib.lines.Line2D at 0x29881078a48>]"
            ]
          },
          "metadata": {},
          "execution_count": 30
        },
        {
          "output_type": "display_data",
          "data": {
            "text/plain": [
              "<Figure size 720x576 with 1 Axes>"
            ],
            "image/png": "[encoded data removed]"
          },
          "metadata": {
            "needs_background": "light"
          }
        }
      ]
    },
    {
      "cell_type": "markdown",
      "source": [
        "## Latent Interpolation and Visualization\n"
      ],
      "metadata": {
        "id": "8DgkGJxk8RQw"
      }
    },
    {
      "cell_type": "markdown",
      "source": [
        "### Generated Image Visualization\n",
        "\n",
        "**Implement** the following cell to generate 36 random samples from your previously trained VAE model and visualize the outputs. "
      ],
      "metadata": {
        "id": "wBVQw2hRXAPD"
      }
    },
    {
      "cell_type": "code",
      "source": [
        "# ==== BEGIN SOLUTION CODE ====\n",
        "\n",
        "model()\n",
        "    \n",
        "# ==== END SOLUTION CODE ===="
      ],
      "metadata": {
        "id": "8g7jiyfUXAed",
        "colab": {
          "base_uri": "https://localhost:8080/",
          "height": 373
        },
        "outputId": "d3262b4a-6c12-4e2f-f426-6ddc1d5e1bbd"
      },
      "execution_count": 42,
      "outputs": [
        {
          "output_type": "error",
          "ename": "TypeError",
          "evalue": "ignored",
          "traceback": [
            "\u001b[1;31m---------------------------------------------------------------------------\u001b[0m",
            "\u001b[1;31mTypeError\u001b[0m                                 Traceback (most recent call last)",
            "\u001b[1;32m~\\AppData\\Local\\Temp\\ipykernel_5488\\1685884557.py\u001b[0m in \u001b[0;36m<module>\u001b[1;34m\u001b[0m\n\u001b[0;32m      1\u001b[0m \u001b[1;31m# ==== BEGIN SOLUTION CODE ====\u001b[0m\u001b[1;33m\u001b[0m\u001b[1;33m\u001b[0m\u001b[1;33m\u001b[0m\u001b[0m\n\u001b[0;32m      2\u001b[0m \u001b[1;33m\u001b[0m\u001b[0m\n\u001b[1;32m----> 3\u001b[1;33m \u001b[0mmodel\u001b[0m\u001b[1;33m(\u001b[0m\u001b[1;33m)\u001b[0m\u001b[1;33m\u001b[0m\u001b[1;33m\u001b[0m\u001b[0m\n\u001b[0m\u001b[0;32m      4\u001b[0m \u001b[1;33m\u001b[0m\u001b[0m\n\u001b[0;32m      5\u001b[0m \u001b[1;31m# ==== END SOLUTION CODE ====\u001b[0m\u001b[1;33m\u001b[0m\u001b[1;33m\u001b[0m\u001b[1;33m\u001b[0m\u001b[0m\n",
            "\u001b[1;32m~\\Anaconda3\\lib\\site-packages\\torch\\nn\\modules\\module.py\u001b[0m in \u001b[0;36m_call_impl\u001b[1;34m(self, *input, **kwargs)\u001b[0m\n\u001b[0;32m   1128\u001b[0m         if not (self._backward_hooks or self._forward_hooks or self._forward_pre_hooks or _global_backward_hooks\n\u001b[0;32m   1129\u001b[0m                 or _global_forward_hooks or _global_forward_pre_hooks):\n\u001b[1;32m-> 1130\u001b[1;33m             \u001b[1;32mreturn\u001b[0m \u001b[0mforward_call\u001b[0m\u001b[1;33m(\u001b[0m\u001b[1;33m*\u001b[0m\u001b[0minput\u001b[0m\u001b[1;33m,\u001b[0m \u001b[1;33m**\u001b[0m\u001b[0mkwargs\u001b[0m\u001b[1;33m)\u001b[0m\u001b[1;33m\u001b[0m\u001b[1;33m\u001b[0m\u001b[0m\n\u001b[0m\u001b[0;32m   1131\u001b[0m         \u001b[1;31m# Do not call functions when jit is used\u001b[0m\u001b[1;33m\u001b[0m\u001b[1;33m\u001b[0m\u001b[1;33m\u001b[0m\u001b[0m\n\u001b[0;32m   1132\u001b[0m         \u001b[0mfull_backward_hooks\u001b[0m\u001b[1;33m,\u001b[0m \u001b[0mnon_full_backward_hooks\u001b[0m \u001b[1;33m=\u001b[0m \u001b[1;33m[\u001b[0m\u001b[1;33m]\u001b[0m\u001b[1;33m,\u001b[0m \u001b[1;33m[\u001b[0m\u001b[1;33m]\u001b[0m\u001b[1;33m\u001b[0m\u001b[1;33m\u001b[0m\u001b[0m\n",
            "\u001b[1;31mTypeError\u001b[0m: forward() missing 1 required positional argument: 'x'"
          ]
        }
      ]
    },
    {
      "cell_type": "markdown",
      "source": [
        "### Latent Interpolation\n",
        "\n",
        "**Implement** the following cell to perform interpolation in latent space. Generate random latent vectors $z_0$ and $z_1$, and linearly interpolate between them; run each interpolated vector through the trained decoder to produce an image.\n",
        "\n",
        "$$\n",
        "z_{\\mathrm{interpolate}} = r_1*z_1 + (1-r_2)*z_2\n",
        "$$\n",
        "\n",
        "Take 10 uniformly spaced samples for $r_1$ and $r_2$ in the range [0,1]. \n",
        "\n",
        "Each row of the figure should interpolates between two random vectors. For the most part the model should exhibit smooth transitions along each row, demonstrating that the model has learned something nontrivial about the underlying spatial structure of the digits it is modeling.\n",
        "\n",
        "You should use the helper plotting function. You should have a 10x10 grid of images. "
      ],
      "metadata": {
        "id": "Hx1bWmFcPiev"
      }
    },
    {
      "cell_type": "code",
      "source": [
        "# ==== BEGIN SOLUTION CODE ====\n",
        "\n",
        "## I guess we should use the mu and logvar from the above cell (ie the output of our trained model) and reparameterize to get z_1 and z_2 ? \n",
        "\n",
        "# ==== END SOLUTION CODE ===="
      ],
      "metadata": {
        "id": "Fuc6BQ_o8YLl"
      },
      "execution_count": null,
      "outputs": []
    },
    {
      "cell_type": "markdown",
      "source": [
        "# (Part 2) Generative Autoencoder - 60 pts\n",
        "\n",
        "\n"
      ],
      "metadata": {
        "id": "u_hkjZG0HCNX"
      }
    },
    {
      "cell_type": "markdown",
      "source": [
        "## Discriminator\n",
        "\n",
        "We will use a discriminator inspired by the TensorFlow MNIST classification tutorial, which is able to get above 99% accuracy on the MNIST dataset fairly quickly. \n",
        "* Reshape into image tensor (Use `nn.Unflatten`!)\n",
        "* Conv2D: 32 Filters, 5x5, Stride 1\n",
        "* Leaky ReLU(alpha=0.01)\n",
        "* Max Pool 2x2, Stride 2\n",
        "* Conv2D: 64 Filters, 5x5, Stride 1\n",
        "* Leaky ReLU(alpha=0.01)\n",
        "* Max Pool 2x2, Stride 2\n",
        "* Flatten\n",
        "* Fully Connected with output size 4 x 4 x 64\n",
        "* Leaky ReLU(alpha=0.01)\n",
        "* Fully Connected with output size 1"
      ],
      "metadata": {
        "id": "It-w4CH_K6ha"
      }
    },
    {
      "cell_type": "code",
      "source": [
        "class Discriminator(nn.Module):\n",
        "  def __init__(self):\n",
        "    super().__init__()\n",
        "    # ==== BEGIN SOLUTION CODE ====\n",
        "    #self.discrimiator = nn.Sequential(\n",
        "    self.unflatten = nn.Unflatten(dim = 1, unflattened_size=(1,28,28))\n",
        "    self.cov1 =     nn.Conv2d(1,32,5)\n",
        "    self.leakyReLU =     nn.LeakyReLU(.01)\n",
        "    self.maxPool1 = nn.MaxPool2d(2, stride= 2 )\n",
        "    self.cov2 =     nn.Conv2d(32,64,5, stride = 2)\n",
        "    self.flatten =     nn.Flatten()\n",
        "    self.fc1  =  nn.Linear(256, 4*4*16)\n",
        "    #nn.LeakyReLU(.01)\n",
        "    self.fc2 =     nn.Linear(4*4*16,1)\n",
        "\n",
        "    #)\n",
        "    # ==== END SOLUTION CODE ====\n",
        "\n",
        "\n",
        "  def forward(self, x):\n",
        "    \"\"\"\n",
        "    Performs forward pass through a discriminator model by passing image through\n",
        "    the neural network described above. The output is a single scalar. \n",
        "\n",
        "    Inputs:\n",
        "    - x: Batch of input images of shape (N, 1, H, W)\n",
        "\n",
        "    Returns:\n",
        "    - logits: PyTorch tensor of shape (N,1)\n",
        "    \"\"\"\n",
        "    logits = None\n",
        "    # ==== BEGIN SOLUTION CODE ====\n",
        "    x = self.unflatten(x)\n",
        "    x = self.cov1(x)\n",
        "    x = self.leakyReLU(x)\n",
        "    x = self.maxPool1(x)\n",
        "    x = self.cov2(x)\n",
        "    x = self.leakyReLU(x)\n",
        "    x = self.maxPool1(x)\n",
        "    x = self.flatten(x)\n",
        "    x = self.fc1(x)\n",
        "    x = self.leakyReLU(x)\n",
        "    logits = self.fc2(x)\n",
        "    #print('x.shape',x.shape)\n",
        "    # ==== END SOLUTION CODE ====\n",
        "    return logits  "
      ],
      "metadata": {
        "id": "bqPzkX32JkMk"
      },
      "execution_count": 49,
      "outputs": []
    },
    {
      "cell_type": "markdown",
      "source": [
        "*Implement* a sanity check for the Discriminator. Input a random sample with shape `(32, 784)` to a discriminator and check if the output is `(32,1)`. "
      ],
      "metadata": {
        "id": "l9KvOcmwcWKK"
      }
    },
    {
      "cell_type": "code",
      "source": [
        "# ==== BEGIN SOLUTION CODE ====\n",
        "rtensor = torch.rand((32,784))\n",
        "check_discriminator = Discriminator()\n",
        "output = check_discriminator(rtensor)\n",
        "output.shape\n",
        "# ==== END SOLUTION CODE ===="
      ],
      "metadata": {
        "id": "k45H8iAwcWR-",
        "colab": {
          "base_uri": "https://localhost:8080/"
        },
        "outputId": "6167fa17-7e5f-4705-9f93-7fc03ee20e67"
      },
      "execution_count": 51,
      "outputs": [
        {
          "output_type": "execute_result",
          "data": {
            "text/plain": [
              "torch.Size([32, 1])"
            ]
          },
          "metadata": {},
          "execution_count": 51
        }
      ]
    },
    {
      "cell_type": "markdown",
      "source": [
        "## Generator\n",
        "For the generator, we will copy the architecture exactly from the [InfoGAN paper](https://arxiv.org/pdf/1606.03657.pdf). See Appendix C.1 MNIST. \n",
        "\n",
        "* Fully connected with output size 1024\n",
        "* `ReLU`\n",
        "* BatchNorm\n",
        "* Fully connected with output size 7 x 7 x 128 \n",
        "* `ReLU`\n",
        "* BatchNorm\n",
        "* Reshape into Image Tensor of shape 7 x 7 x 128\n",
        "* ConvTranspose2D: 64 filters of 4x4, stride 2, 'same' padding (use `padding=1`)\n",
        "* `ReLU`\n",
        "* BatchNorm\n",
        "* ConvTranspose2D: 1 filter of 4x4, stride 2, 'same' padding (use `padding=1`)\n",
        "* `TanH`\n",
        "* Should have a 28 x 28 x 1 image, reshape back into 784 vector"
      ],
      "metadata": {
        "id": "5h_zIBQ-LQuk"
      }
    },
    {
      "cell_type": "code",
      "source": [
        "class Generator(nn.Module):\n",
        "    def __init__(self, noise_dim):\n",
        "        super().__init__()\n",
        "        # ==== BEGIN SOLUTION CODE ====\n",
        "        self.fc1 = nn.Linear(noise_dim, 1024)## arg1 = 28*28\n",
        "        self.ReLU = nn.ReLU()\n",
        "        self.batchNorm1 = nn.BatchNorm1d(1024)\n",
        "        self.fc2 = nn.Linear(1024, 7*7*128)\n",
        "        #ReLU \n",
        "        self.batchNorm2 = nn.BatchNorm1d(7*7*128)\n",
        "\n",
        "        self.unflatten = nn.Unflatten(1,(128,7,7))## reshape? \n",
        "\n",
        "        self.covT1  = nn.ConvTranspose2d(128,64,4,stride=2,padding=1 )\n",
        "        self.batchNorm3 = nn.BatchNorm2d(64)#batchNorm\n",
        "        self.covT2  = nn.ConvTranspose2d(64,1,4,stride=2,padding=1 )\n",
        "        self.tanh = nn.Tanh()\n",
        "        self.flatten = nn.Flatten()\n",
        " \n",
        "        # ==== END SOLUTION CODE ====\n",
        "\n",
        "\n",
        "    def forward(self, random_noise):\n",
        "        \"\"\"\n",
        "        Generates a batch of images from a random noise sample after passing \n",
        "        through the neural network. The output is a batch of images. \n",
        "\n",
        "        Inputs:\n",
        "        - x: Batch of random noise of shape (N, noise_dim)\n",
        "\n",
        "        Returns:\n",
        "        - fake_image: PyTorch tensor of shape (N, 1, 28, 28)\n",
        "        \"\"\"\n",
        "        fake_image = None\n",
        "        \n",
        "        # ==== BEGIN SOLUTION CODE ====\n",
        "        x = self.fc1(random_noise) \n",
        "        x = self.ReLU(x) \n",
        "        x = self.batchNorm1(x) \n",
        "\n",
        "        x = self.fc2(x) \n",
        "        x = self.ReLU(x)\n",
        "        x = self.batchNorm2(x)\n",
        "\n",
        "        x = self.unflatten(x)\n",
        "        #print('before covT1',x.shape)\n",
        "        x = self.covT1(x)\n",
        "        x = self.ReLU(x)\n",
        "        x = self.batchNorm3(x)\n",
        "        #print('before covT2', x.shape)\n",
        "        x = self.covT2(x)\n",
        "        x = self.tanh(x)\n",
        "        #print('before flatten', x.shape)\n",
        "        fake_image = self.flatten(x)\n",
        "\n",
        "\n",
        "        # ==== END SOLUTION CODE ====\n",
        "        return fake_image"
      ],
      "metadata": {
        "id": "5SHZAH1ILRB7"
      },
      "execution_count": 102,
      "outputs": []
    },
    {
      "cell_type": "markdown",
      "source": [
        "*Implement* a sanity check for the Generator with random noise size `96`. Input a random sample with shape `(32, 96)` to a Generator and check if the output is `(32, 784)`. "
      ],
      "metadata": {
        "id": "yI5XQjgDcgaH"
      }
    },
    {
      "cell_type": "code",
      "source": [
        "# ==== BEGIN SOLUTION CODE ====\n",
        "rtensor = torch.rand((32, 96))\n",
        "check_generator = Generator(96)\n",
        "output = check_generator(rtensor)\n",
        "output.shape\n",
        "# ==== END SOLUTION CODE ===="
      ],
      "metadata": {
        "id": "UUJHBimocgnA",
        "colab": {
          "base_uri": "https://localhost:8080/"
        },
        "outputId": "9a63a39e-1a98-4b63-c3b7-7c332512af2a"
      },
      "execution_count": 103,
      "outputs": [
        {
          "output_type": "execute_result",
          "data": {
            "text/plain": [
              "torch.Size([32, 784])"
            ]
          },
          "metadata": {},
          "execution_count": 103
        }
      ]
    },
    {
      "cell_type": "markdown",
      "source": [
        "## GAN Loss"
      ],
      "metadata": {
        "id": "qGy410jr8dhv"
      }
    },
    {
      "cell_type": "markdown",
      "source": [
        "### Discriminator Loss\n",
        "\n",
        "The discriminator loss is:\n",
        "$$ \\ell_D = -\\mathbb{E}_{x \\sim p_\\text{data}}\\left[\\log D(x)\\right] - \\mathbb{E}_{z \\sim p(z)}\\left[\\log \\left(1-D(G(z))\\right)\\right]$$\n",
        "\n",
        "Instead of computing the expectation of $\\log D(G(z))$, $\\log D(x)$ and $\\log \\left(1-D(G(z))\\right)$, we will be averaging over elements of the minibatch, so make sure to combine the loss by averaging instead of summing.\n",
        "\n",
        "\n",
        "For the purpose of these equations, we assume that the output from the discriminator is a real number in the range $0 < D(x) < 1$ which results from squashing the raw score from the discriminator through a sigmoid function. However for a cleaner and more numerically stable implementation, we have not included the sigmoid in the discriminator architecture above -- instead we will implement the sigmoid as part of the loss function.\n",
        "\n",
        "**HINTS**: You can use the function [`torch.nn.functional.binary_cross_entropy_with_logits`](https://pytorch.org/docs/stable/generated/torch.nn.functional.binary_cross_entropy_with_logits.html#torch.nn.functional.binary_cross_entropy_with_logits) to compute these losses in a numerically stable manner.\n",
        "\n",
        "Given a score $s\\in\\mathbb{R}$ and a label $y\\in\\{0, 1\\}$, the binary cross entropy loss (with logits) is defined as:\n",
        "\n",
        "$$ bce(s, y) = -y * \\log(\\sigma(s)) - (1 - y) * \\log(1 - \\sigma(s)) $$\n",
        "\n",
        "where $\\sigma(s)=1/(1+\\exp(-s))$ is the sigmoid function.\n",
        "\n",
        "You will also need to compute labels corresponding to real or fake and use the logit arguments to determine their size. Make sure you cast these labels to the correct data type and device using the `dtype` and `device` variables, for example:\n",
        "\n",
        "`true_labels = torch.ones(size, dtype=dtype, device=device)`\n",
        "\n",
        "**Implement** the `Discriminator_Loss` in the following cell.\n"
      ],
      "metadata": {
        "id": "otp3Mig8v-ZE"
      }
    },
    {
      "cell_type": "code",
      "source": [
        "%debug"
      ],
      "metadata": {
        "id": "90SiA33ldYN2"
      },
      "execution_count": null,
      "outputs": []
    },
    {
      "cell_type": "code",
      "source": [
        "def Discriminator_Loss(logits_real,\n",
        "                       logits_fake,\n",
        "                       device='cuda',\n",
        "                       dtype=torch.float):\n",
        "    \"\"\"\n",
        "    Computes the discriminator loss described above.\n",
        "\n",
        "    Inputs:\n",
        "    - logits_real: PyTorch Tensor of shape (N,) giving scores for the real data.\n",
        "    - logits_fake: PyTorch Tensor of shape (N,) giving scores for the fake data.\n",
        "    - device: String  giving device type (default: 'cuda')\n",
        "    - dtype: PyTorch type (default: torch.float)\n",
        "\n",
        "    Returns:\n",
        "    - loss: PyTorch Tensor containing (scalar) the loss for the discriminator.\n",
        "    \"\"\"\n",
        "    loss = None\n",
        "    # ==== BEGIN SOLUTION CODE ====\n",
        "    ## logits_real is just 0 or 1 which is whether the image is fake or now \n",
        "    ## logits_fake is a probability \n",
        "    fake_labels = torch.ones(logits_fake.size, dtype = dtype, device = device)\n",
        "    fake_loss = nn.functional.binary_cross_entropy_with_logits(logits_fake,fake_labels)## the reduction is already the mean\n",
        "\n",
        "    real_labels = torch.zeros(logits_real.shape, dtype = dtype, device = device)\n",
        "    real_loss = nn.functional.binary_cross_entropy_with_logits(logits_real,real_labels)\n",
        "    # ==== END SOLUTION CODE ====\n",
        "    return (real_loss + fake_loss)/2"
      ],
      "metadata": {
        "id": "zEsr_eQfv-io"
      },
      "execution_count": 115,
      "outputs": []
    },
    {
      "cell_type": "markdown",
      "source": [
        "### Generator Loss\n",
        "\n",
        "The generator loss is:\n",
        "$$\\ell_G  =  -\\mathbb{E}_{z \\sim p(z)}\\left[\\log D(G(z))\\right]$$\n",
        "\n",
        "This can be accomplished by comparing the outputs of $D(G(z))$, the fake logits, to the real labels. This may seem a bit counter-intuitive, but remember, we wish to only use the first term in the bce loss with logits and igonre the $log(1-\\sigma(s))$ term. \n",
        "\n",
        "\n",
        "Instead of computing the expectation of $\\log D(G(z))$, we will be averaging over elements of the minibatch, so make sure to combine the loss by averaging instead of summing. \n",
        "\n",
        "Same as the discriminator loss, you can use the function [`torch.nn.functional.binary_cross_entropy_with_logits`](https://pytorch.org/docs/stable/nn.functional.html#binary-cross-entropy-with-logits) to compute these losses in a numerically stable manner.\n",
        "\n",
        "Given a score $s\\in\\mathbb{R}$ and a label $y\\in\\{0, 1\\}$, the binary cross entropy loss (with logits) is defined as:\n",
        "\n",
        "$$ bce(s, y) = -y * \\log(\\sigma(s)) - (1 - y) * \\log(1 - \\sigma(s)) $$\n",
        "\n",
        "where $\\sigma(s)=1/(1+\\exp(-s))$ is the sigmoid function. Note in this case, you only have fake (zero) labels. \n",
        "\n",
        "You will also need to compute labels corresponding to real or fake and use the logit arguments to determine their size. Make sure you cast these labels to the correct data type and device using the `dtype` and `device` variables, for example:\n",
        "\n",
        "`true_labels = torch.ones(size, dtype=dtype, device=device)`\n",
        "\n",
        "**Implement** the `Generator_Loss` in the following cell. "
      ],
      "metadata": {
        "id": "VOCFIqVlv8CW"
      }
    },
    {
      "cell_type": "code",
      "source": [
        "def Generator_Loss(logits_fake,\n",
        "                   device='cuda',\n",
        "                   dtype=torch.float):\n",
        "    \"\"\"\n",
        "    Computes the generator loss described above.\n",
        "\n",
        "    Inputs:\n",
        "    - logits_fake: PyTorch Tensor of shape (N,) giving scores for the fake data.\n",
        "    - device: String  giving device type (default: 'cuda')\n",
        "    - dtype: PyTorch type (default: torch.float)\n",
        "\n",
        "    Returns:\n",
        "    - loss: PyTorch Tensor containing the (scalar) loss for the generator.\n",
        "    \"\"\"\n",
        "    loss = None\n",
        "    # ==== BEGIN SOLUTION CODE ====\n",
        "    real_labels = torch.ones(logits_fake.shape, dtype = dtype, device = device )\n",
        "    loss = nn.functional.binary_cross_entropy_with_logits(logits_fake, real_labels)\n",
        "    \n",
        "    # ==== END SOLUTION CODE ====\n",
        "    return loss"
      ],
      "metadata": {
        "id": "dUMmThXR8d5y"
      },
      "execution_count": 117,
      "outputs": []
    },
    {
      "cell_type": "markdown",
      "source": [
        "## Weight initializer\n",
        "\n",
        "The GAN training is quite finicky, and seem to respond better to Xavier uniform initialization. \n",
        "\n",
        "**Run** the following cell to get define the `initialize_weights` function."
      ],
      "metadata": {
        "id": "wh_Ar4azYhfq"
      }
    },
    {
      "cell_type": "code",
      "source": [
        "def initialize_weights(m):\n",
        "    \"\"\"Initializes the weights of a torch.nn model using xavier initialization\"\"\"\n",
        "    if isinstance(m, nn.Linear) or isinstance(m, nn.ConvTranspose2d):\n",
        "        nn.init.xavier_uniform_(m.weight.data)"
      ],
      "metadata": {
        "id": "5PUDSkRqYhsK"
      },
      "execution_count": null,
      "outputs": []
    },
    {
      "cell_type": "markdown",
      "source": [
        "## GAN Training"
      ],
      "metadata": {
        "id": "Ftl-tPPX8eek"
      }
    },
    {
      "cell_type": "markdown",
      "source": [
        "We have defined the `Generator`, `Discriminator`, `Generator_Loss`, and `Discriminator_Loss`. We are now ready to actually train our GAN! \n",
        "\n",
        "Unlike the VAE, in which the encoder and decoder are updated jointly, the GAN training alternates between updating generator and discriminator. Thus, we actually have two distinct models, with two different optimizers. \n",
        "\n",
        "The GAN training algorithm is as follows: \n",
        "\n",
        "1. Instantiate a `Generator` and `Discriminator`. Use the `apply` method of the generator and discriminator to use the `initialize_weights` function and intialize the weights with a Xavier Uniform distribution scheme.\n",
        "    - Suggested: latent dim = 96 or 74\n",
        "2. Define optimizers for the generator and discriminator\n",
        "    - Suggested: ADAM with lr=.001, beta1=0.5, beta2=0.999 \n",
        "3. For each batch of data:\n",
        "    - Zero the gradients in the discriminator\n",
        "    - Get the logits of the real data from the discriminator\n",
        "    - Generate random uniform noise of shape `(batch_size, latent_dim)`\n",
        "    - Generate fake data using the random noise and the generator\n",
        "    - Get the logits of the fake data from the discriminator\n",
        "    - Calculate the discriminator loss, propagate the gradients, update using the discriminator optimizer. Use the previously defined `Discriminator_Loss` to calculate the discriminator loss.\n",
        "    - Zero the gradients in the generator optimizer\n",
        "    - Generate random uniform noise of shape `(batch_size, latent_dim)`\n",
        "    - Generate fake data using the random noise and the generator\n",
        "    - Get the logits of the fake data from the discriminator\n",
        "    - Calculate the generator loss, propagate the gradients, update using the generator optimizer. Use the previously defined `Generator_Loss` to calculate the generator loss.\n",
        "\n",
        "4. Repeat 3 for `num_epochs` times\n",
        "    - Suggester: 10\n",
        "\n",
        "The random noise input to the generator should be in the range (-1, 1). \n",
        "\n",
        "*Hint: Modify the PyTorch function `torch.Rand`  to be in the correct range for random sampling.* \n",
        "\n",
        "**Implement** the training loop in the following cell. \n",
        "\n",
        "*Following the suggested hyper-parameters, training takes approximately 2 minutes on a GPU.* "
      ],
      "metadata": {
        "id": "8vFyOeoZyVnK"
      }
    },
    {
      "cell_type": "code",
      "source": [
        "# Define num_epochs and device in the next section. \n",
        "\n",
        "# ==== BEGIN SOLUTION CODE ====\n",
        "\n",
        "\n",
        "\n",
        "# ==== END SOLUTION CODE ====\n",
        "\n",
        "for epoch in range(num_epochs):\n",
        "    for x, _ in loader_train:\n",
        "        # Drop the last batch with irregular size to simplify the code\n",
        "        if len(x) != batch_size:\n",
        "          continue\n",
        "        \n",
        "        # Do not delete: numerical trick to increase distance between\n",
        "        # digit pixels and empty pixels\n",
        "        real_data = x.view(-1, 784).to(device)\n",
        "        real_data = 2*(real_data - 0.5)\n",
        "        # Do no delete\n",
        "\n",
        "        # ==== BEGIN SOLUTION CODE ====\n",
        "      \n",
        "\n",
        "        # ==== END SOLUTION CODE ===="
      ],
      "metadata": {
        "id": "mAwEtr5E8ewp"
      },
      "execution_count": null,
      "outputs": []
    },
    {
      "cell_type": "markdown",
      "source": [
        "## Latent Interpolation and Visualization\n"
      ],
      "metadata": {
        "id": "6kcJettw8fBZ"
      }
    },
    {
      "cell_type": "markdown",
      "source": [
        "### Generated Image Visualization\n",
        "\n",
        "**Implement** the following cell to generate 100 random samples from your previously trained Generator model and visualize the outputs. "
      ],
      "metadata": {
        "id": "J1RAaZ8EasJS"
      }
    },
    {
      "cell_type": "code",
      "source": [
        "# ==== BEGIN SOLUTION CODE ====\n",
        "\n",
        "# ==== END SOLUTION CODE ===="
      ],
      "metadata": {
        "id": "qmpAQeCEasXW"
      },
      "execution_count": null,
      "outputs": []
    },
    {
      "cell_type": "markdown",
      "source": [
        "### Latent Interpolation\n",
        "\n",
        "**Implement** the following cell to perform interpolation in latent space. Generate random latent vectors $z_0$ and $z_1$, and linearly interpolate between them; run each interpolated vector through the trained generator to produce an image.\n",
        "\n",
        "$$\n",
        "z_{interpolate} = r_1*z_1 + (1-r_2)*z_2\n",
        "$$\n",
        "\n",
        "Take 10 uniformly spaced samples for $r_1$ and $r_2$ in the range [0,1]. \n",
        "\n",
        "Each row of the figure should interpolates between two random vectors. For the most part the model should exhibit smooth transitions along each row, demonstrating that the model has learned something nontrivial about the underlying spatial structure of the digits it is modeling.\n",
        "\n",
        "You should use the helper plotting function. You should have a 10x10 grid of images. "
      ],
      "metadata": {
        "id": "73y9C53tadRS"
      }
    },
    {
      "cell_type": "code",
      "source": [
        "# ==== BEGIN SOLUTION CODE ====\n",
        "\n",
        "# ==== END SOLUTION CODE ===="
      ],
      "metadata": {
        "id": "qxu6JFd_adbs"
      },
      "execution_count": null,
      "outputs": []
    }
  ]
}