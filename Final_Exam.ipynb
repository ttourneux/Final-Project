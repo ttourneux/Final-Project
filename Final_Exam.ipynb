{
  "nbformat": 4,
  "nbformat_minor": 0,
  "metadata": {
    "colab": {
      "provenance": [],
      "include_colab_link": true
    },
    "kernelspec": {
      "name": "python3",
      "display_name": "Python 3"
    },
    "language_info": {
      "name": "python"
    }
  },
  "cells": [
    {
      "cell_type": "markdown",
      "metadata": {
        "id": "view-in-github",
        "colab_type": "text"
      },
      "source": [
        "<a href=\"https://colab.research.google.com/github/ttourneux/Final-Project/blob/main/Final_Exam.ipynb\" target=\"_parent\"><img src=\"https://colab.research.google.com/assets/colab-badge.svg\" alt=\"Open In Colab\"/></a>"
      ]
    },
    {
      "cell_type": "markdown",
      "source": [
        "# CS480E/580E: Final Exam\n",
        "\n",
        "\n",
        "\n"
      ],
      "metadata": {
        "id": "NVU1oJYOZ4RI"
      }
    },
    {
      "cell_type": "markdown",
      "source": [
        "## General Instructions \n",
        "### Due December 14th, 11:59 PM.\n",
        "\n",
        "In the final exam, you will use autoencoders to do dimensionality reduction on the MNIST images. You will then use the reduced dimensional representations to perform similarity search on test images. At the end of notebook, you will be able to retrieve k-most similar images on the training set.  \n",
        "\n",
        "\n",
        "Functions and cells that need to be implemented are marked with a bold **implement** keyword or clearly marked in the experiments section. \n",
        "\n",
        "Make sure to **run** the cells marked for running to make sure all the data and functions are available. \n"
      ],
      "metadata": {
        "id": "wl3YVu4ZFABa"
      }
    },
    {
      "cell_type": "code",
      "execution_count": 3,
      "metadata": {
        "id": "8Xtjmf2iZ0g3"
      },
      "outputs": [],
      "source": [
        "import math\n",
        "import random\n",
        "import torch\n",
        "import torch.nn as nn\n",
        "from torch.nn import init\n",
        "import torchvision\n",
        "import torchvision.transforms as T\n",
        "import torch.optim as optim\n",
        "from torch.utils.data import DataLoader, random_split\n",
        "import torchvision.datasets as dset\n",
        "import matplotlib.pyplot as plt\n",
        "import matplotlib.gridspec as gridspec\n",
        "import numpy as np\n",
        "\n",
        "%matplotlib inline\n",
        "\n",
        "from tqdm import tqdm\n",
        "\n",
        "\n",
        "# for plotting\n",
        "plt.rcParams['figure.figsize'] = (10.0, 8.0) # set default size of plots\n",
        "plt.rcParams['font.size'] = 16\n",
        "plt.rcParams['image.interpolation'] = 'nearest'\n",
        "plt.rcParams['image.cmap'] = 'gray'"
      ]
    },
    {
      "cell_type": "code",
      "source": [
        "device = \"cuda\" if torch.cuda.is_available() else \"cpu\"\n",
        "print(f\"Using {device} device\")"
      ],
      "metadata": {
        "colab": {
          "base_uri": "https://localhost:8080/"
        },
        "id": "emDCT6L-D640",
        "outputId": "9db6b713-50e7-411d-9ab8-f79760a3ff17"
      },
      "execution_count": 4,
      "outputs": [
        {
          "output_type": "stream",
          "name": "stdout",
          "text": [
            "Using cuda device\n"
          ]
        }
      ]
    },
    {
      "cell_type": "markdown",
      "source": [
        "# Dataset\n",
        " \n",
        "You will be working on the MNIST dataset, which is 60,000 training and 10,000 test images. Each picture contains a centered image of white digit on black background (0 through 9). \n",
        "\n",
        "To simplify our code here, use the PyTorch MNIST wrapper, which downloads and loads the MNIST dataset. See the [documentation](https://github.com/pytorch/vision/blob/master/torchvision/datasets/mnist.py) for more information about the interface. The default parameters will take 5,000 of the training examples and place them into a validation dataset. The data will be saved into a folder called `MNIST_data`. \n",
        "\n",
        "**Run** the following cell to mount your drive on colab."
      ],
      "metadata": {
        "id": "xfi1dtm9F-WG"
      }
    },
    {
      "cell_type": "code",
      "source": [
        "'''# Mount the drive\n",
        "from google.colab import drive\n",
        "drive.mount('/content/drive')'''"
      ],
      "metadata": {
        "colab": {
          "base_uri": "https://localhost:8080/"
        },
        "id": "o7LzaKFO3YEB",
        "outputId": "e7ab25ea-0b49-4192-e0d4-8df045973257"
      },
      "execution_count": 5,
      "outputs": [
        {
          "output_type": "execute_result",
          "data": {
            "text/plain": [
              "\"# Mount the drive\\nfrom google.colab import drive\\ndrive.mount('/content/drive')\""
            ]
          },
          "metadata": {},
          "execution_count": 5
        }
      ]
    },
    {
      "cell_type": "markdown",
      "source": [
        "**Run** the following cells to retrieve the MNIST training, validation, and test sets"
      ],
      "metadata": {
        "id": "JMhyPVyA4irk"
      }
    },
    {
      "cell_type": "code",
      "source": [
        "mnist_train = dset.MNIST('./MNIST_data', train=True, download=True,\n",
        "                           transform=T.ToTensor())\n",
        "\n",
        "mnist_test = dset.MNIST('./MNIST_data', train=False, download=True,\n",
        "                        transform=T.ToTensor())\n",
        "\n",
        "mnist_train, mnist_validation = random_split(mnist_train, [.8, .2])"
      ],
      "metadata": {
        "id": "AZUtLcYC3aU3"
      },
      "execution_count": 6,
      "outputs": []
    },
    {
      "cell_type": "markdown",
      "source": [
        "**Run** this cell to print the number of cells on the traning, validation, and test datasets. "
      ],
      "metadata": {
        "id": "TvKznGC14v_I"
      }
    },
    {
      "cell_type": "code",
      "source": [
        "print(len(mnist_train), len(mnist_validation), len(mnist_test))"
      ],
      "metadata": {
        "id": "5mtDzRQ3aKtL",
        "colab": {
          "base_uri": "https://localhost:8080/"
        },
        "outputId": "98949c7c-60c4-4659-c24a-9a1ecb0bee58"
      },
      "execution_count": 7,
      "outputs": [
        {
          "output_type": "stream",
          "name": "stdout",
          "text": [
            "48000 12000 10000\n"
          ]
        }
      ]
    },
    {
      "cell_type": "markdown",
      "source": [
        "**Run** this cell to define the helper function to generate grids of images. "
      ],
      "metadata": {
        "id": "BkemVCHR4u4Z"
      }
    },
    {
      "cell_type": "code",
      "source": [
        "def show_images(images):\n",
        "    images = torch.reshape(\n",
        "        images, [images.shape[0], -1]\n",
        "    )  # images reshape to (batch_size, D)\n",
        "    sqrtn = int(math.ceil(math.sqrt(images.shape[0])))\n",
        "    sqrtimg = int(math.ceil(math.sqrt(images.shape[1])))\n",
        "\n",
        "    fig = plt.figure(figsize=(sqrtn, sqrtn))\n",
        "    gs = gridspec.GridSpec(sqrtn, sqrtn)\n",
        "    gs.update(wspace=0.05, hspace=0.05)\n",
        "\n",
        "    for i, img in enumerate(images):\n",
        "        ax = plt.subplot(gs[i])\n",
        "        plt.axis(\"off\")\n",
        "        ax.set_xticklabels([])\n",
        "        ax.set_yticklabels([])\n",
        "        ax.set_aspect(\"equal\")\n",
        "        plt.imshow(img.reshape([sqrtimg, sqrtimg]))\n",
        "    return"
      ],
      "metadata": {
        "id": "vRV_XaaN3fzC"
      },
      "execution_count": 8,
      "outputs": []
    },
    {
      "cell_type": "markdown",
      "source": [
        "**Implement** the following cell to define a `batch_size`, `loader_train`, and `loader_validation`. \n",
        "\n",
        "`batch_size` should be an integer value that defines the number of samples per mini-batch that will be used for the training dataloader. \n",
        "\n",
        "`loader_train` should be a PyTorch DataLoader on the `mnist_train` dataset with `batch_size = batch_size`, `shuffle` enabled and drop the last mini-batch. \n",
        "\n",
        "`loader_validation` should be a PyTorch DataLoader on the `mnist_validation` dataset. Set the `batch_size` as high as possible for this. "
      ],
      "metadata": {
        "id": "cZ7eSC02Hnkg"
      }
    },
    {
      "cell_type": "code",
      "source": [
        "# ==== BEGIN SOLUTION CODE ====\n",
        "batch_size = 128\n",
        "num_workers = 6\n",
        "\n",
        "loader_train = DataLoader(mnist_train, batch_size=batch_size, shuffle = True, \n",
        "                          drop_last = True, num_workers=num_workers, persistent_workers= True)#\n",
        "## set batch_size as high as possible for this : batch_size =len(mnist_validation)\n",
        "loader_validation = DataLoader(mnist_validation, batch_size = len(mnist_validation) , shuffle = True,\n",
        "                               drop_last= True, num_workers= num_workers,persistent_workers= True)\n",
        "                               \n",
        "                    \n",
        "\n",
        "\n",
        "# ==== BEGIN SOLUTION CODE ===="
      ],
      "metadata": {
        "id": "3yWKhZSIHnzb"
      },
      "execution_count": 58,
      "outputs": []
    },
    {
      "cell_type": "markdown",
      "source": [
        "**Run** the following cell to show an example of a grid of MNIST images."
      ],
      "metadata": {
        "id": "_Ck6ToupcrH4"
      }
    },
    {
      "cell_type": "code",
      "source": [
        "imgs = next(iter(loader_train))[0].view(batch_size, 784)\n",
        "show_images(imgs[:36])"
      ],
      "metadata": {
        "id": "TeOLsn2D37Ej",
        "colab": {
          "base_uri": "https://localhost:8080/",
          "height": 499
        },
        "outputId": "7bcfc51e-0dcb-4c92-f5b3-98ef14ea03ac"
      },
      "execution_count": 10,
      "outputs": [
        {
          "output_type": "display_data",
          "data": {
            "text/plain": [
              "<Figure size 600x600 with 36 Axes>"
            ],
            "image/png": "[encoded data removed]"
          },
          "metadata": {}
        }
      ]
    },
    {
      "cell_type": "markdown",
      "source": [
        "# (Part 1) Autoencoder - 60 pts\n",
        "\n",
        "In the next cell, **implement** the definition of the `AutoEncoder` class, that implements an autoencoder using convolutions, transpose convolutions, fully connected and non-linear activation layers. \n",
        "\n",
        "\n",
        "\n",
        "You are free to choose any architecture you would like. \n",
        "**But your network must use at least 1 convolution layer**\n",
        "\n",
        "\n",
        "Complete the following methods:\n",
        "\n",
        "- `__init__(height, width, latent_dim)`: Initializes the desired layer and architecture.\n",
        "  - The inputs to the class constructor are: \n",
        "    - `height`: The height of the input images\n",
        "    - `width`: The width of the input images\n",
        "    - `latent_dim`: The size of the latent vector\n",
        "- `encode(x)`: Encodes a batch of images `x` to a batch of latent vectors, `h`\n",
        "- `decode(h)`: Decodes a batch of latent vectors `h` to a batch images, `x_reconstructed` \n",
        "- `forward(x)`: Uses `encode` and `decode` method to compress and reconstruct a batch of images, `x`. "
      ],
      "metadata": {
        "id": "zwZIkT7VHunv"
      }
    },
    {
      "cell_type": "code",
      "source": [
        "class Encoder(nn.Module):\n",
        "    def __init__(self, input_size, hidden_dim):\n",
        "        super().__init__()\n",
        "\n",
        "        # ==== BEGIN SOLUTION CODE ====   \n",
        "        self.input_size = input_size \n",
        "        self.hidden_dim = hidden_dim  \n",
        "\n",
        "        self.conv1 = nn.Conv2d(1,32,3,padding=1)## should keep the same shape of 28*28\n",
        "        self.conv2 = nn.Conv2d(32,64,3, padding= 1 )   \n",
        "\n",
        "        self.flatten = nn.Flatten()\n",
        "\n",
        "        self.ReLU = nn.ReLU()\n",
        "        self.fc1 = nn.Linear(64*784,self.hidden_dim) \n",
        "        self.fc2 = nn.Linear(hidden_dim, hidden_dim)\n",
        "        self.fc3 = nn.Linear(hidden_dim, hidden_dim)\n",
        "\n",
        "        self.encoder = nn.Sequential(\n",
        "            self.conv1, \n",
        "            self.conv2,\n",
        "            self.flatten,\n",
        "            self.fc1,self.ReLU,\n",
        "            self.fc2, self.ReLU,\n",
        "            self.fc3, self.ReLU\n",
        "        )\n",
        "        # ==== END SOLUTION CODE ====\n",
        "\n",
        "    def forward(self, x):\n",
        "        '''\n",
        "        Use the self._encoder to encode the image to the hidden dimension\n",
        "        \n",
        "        Inputs:\n",
        "        - x: Tensor of shape (N, 1, H, W ) where H * W = input_size\n",
        "\n",
        "        Returns:\n",
        "        - h: Tensor of shape (N , hidden_dim)\n",
        "        '''\n",
        "        # ==== BEGIN SOLUTION CODE ====\n",
        "        '''x = self.flatten(x)\n",
        "        x = self.fc1(x)\n",
        "        x = self.ReLU(x) \n",
        "        x = self.fc2(x) \n",
        "        x = self.ReLU(x) \n",
        "        x = self.fc3(x) \n",
        "        h = x '''\n",
        "        h = self.encoder(x)\n",
        "\n",
        "        # ==== END SOLUTION CODE ====\n",
        "        return h"
      ],
      "metadata": {
        "id": "CD6ehMu5uBoX"
      },
      "execution_count": 11,
      "outputs": []
    },
    {
      "cell_type": "code",
      "source": [
        "## sanity check for encoder. \n",
        "## Dim should be (32,96) and it is. \n",
        "\n",
        "encoder = Encoder(786,96)\n",
        "rtensor = torch.rand((32,1,28,28))\n",
        "\n",
        "ans = encoder.forward(rtensor)\n",
        "ans.shape "
      ],
      "metadata": {
        "colab": {
          "base_uri": "https://localhost:8080/"
        },
        "id": "eFmMnPZiufOn",
        "outputId": "effd9b08-7fed-4c19-ae20-9d675b4b03a6"
      },
      "execution_count": 27,
      "outputs": [
        {
          "output_type": "execute_result",
          "data": {
            "text/plain": [
              "torch.Size([32, 96])"
            ]
          },
          "metadata": {},
          "execution_count": 27
        }
      ]
    },
    {
      "cell_type": "code",
      "source": [
        "class Decoder(nn.Module):\n",
        "    def __init__(self, latent_size, hidden_dim, height=28, width=28):\n",
        "        super().__init__()\n",
        "        self._decoder = None\n",
        "        self.latent_size = latent_size\n",
        "        self.hidden_dim = hidden_dim\n",
        "        self.height = height\n",
        "        self.width = width\n",
        "        self.output_size = height * width\n",
        "\n",
        "        # ==== BEGIN SOLUTION CODE ====\n",
        "        self.ReLU = nn.ReLU()\n",
        "        \n",
        "        self.fc1 = nn.Linear(self.latent_size,self.hidden_dim)\n",
        "        self.fc2 = nn.Linear(hidden_dim, hidden_dim) \n",
        "        self.fc3 = nn.Linear(hidden_dim, hidden_dim) \n",
        "        self.fc4 = nn.Linear(hidden_dim, self.output_size*64)\n",
        "\n",
        "        self.sigmoid = nn.Sigmoid()\n",
        "\n",
        "        self.unflatten = nn.Unflatten(1, (64,self.width,self.height))## we should unflatten to have channels of 64\n",
        "        self.convT1 = nn.ConvTranspose2d(64,32,3,padding = 1)\n",
        "        self.convT2 = nn.ConvTranspose2d(32,1,3,padding= 1 )\n",
        "        '''        self.encoder = nn.Sequential(\n",
        "            self.conv1, \n",
        "            self.conv2,\n",
        "            self.flatten,\n",
        "            self.fc1,self.ReLU,\n",
        "            self.fc2, self.ReLU,\n",
        "            self.fc3, self.ReLU\n",
        "        )'''\n",
        "\n",
        "        self.decoder = nn.Sequential(\n",
        "            self.fc1,self.ReLU,\n",
        "\n",
        "            self.fc2,self.ReLU,\n",
        "\n",
        "            self.fc3,self.ReLU,\n",
        "\n",
        "            self.fc4,self.ReLU,\n",
        "\n",
        "            self.unflatten,\n",
        "            \n",
        "            self.convT1, \n",
        "            self.convT2,\n",
        "            self.sigmoid,## need to do sigmoid at the end so BCE will get a value between 0 and 1 \n",
        "        )\n",
        "\n",
        "\n",
        "\n",
        "        # ==== END SOLUTION CODE ====\n",
        "\n",
        "\n",
        "    def forward(self, z):\n",
        "        \"\"\"\n",
        "        Use the self._decoder to reconstruct the image\n",
        "        \n",
        "        Inputs:\n",
        "        - Z: Tensor of shape (N, Z) giving the latent vector\n",
        "\n",
        "        Returns:\n",
        "        - x_reconstructed: Reconstruced input data of shape (N,1,H,W)\n",
        "          whete, H is self.height, and W is self.width\n",
        "        \"\"\"\n",
        "        x_reconstructed = None\n",
        "\n",
        "        # ==== BEGIN SOLUTION CODE ====\n",
        "        '''\n",
        "        x = self.fc1(z)\n",
        "        x = self.ReLU(x) \n",
        "\n",
        "\n",
        "        x = self.fc2(x) \n",
        "        x = self.ReLU(x)\n",
        "\n",
        "        x = self.fc3(x) \n",
        "        x = self.ReLU(x)\n",
        "\n",
        "        x = self.fc4(x) \n",
        "        x = self.sigmoid(x) \n",
        "\n",
        "        x_reconstructed = self.unflatten(x)'''\n",
        "        x_reconstructed = self.decoder(z)\n",
        "\n",
        "\n",
        "        # ==== END SOLUTION CODE ====\n",
        "        return x_reconstructed    \n"
      ],
      "metadata": {
        "id": "3y9c0Xq6zN_7"
      },
      "execution_count": 32,
      "outputs": []
    },
    {
      "cell_type": "code",
      "source": [
        "## sanity check for decoder \n",
        "## should output (16,1,28,28) and it does.\n",
        "\n",
        "        \n",
        "\n",
        "decoder = Decoder(32,96)\n",
        "rtensor = torch.rand((16,32))\n",
        "\n",
        "ans = decoder.forward(rtensor)\n",
        "ans.shape"
      ],
      "metadata": {
        "colab": {
          "base_uri": "https://localhost:8080/"
        },
        "id": "3K1JXeqG1U-i",
        "outputId": "acef3c7b-cf0a-4ea2-86a5-aa56aed4dc19"
      },
      "execution_count": 33,
      "outputs": [
        {
          "output_type": "execute_result",
          "data": {
            "text/plain": [
              "torch.Size([16, 1, 28, 28])"
            ]
          },
          "metadata": {},
          "execution_count": 33
        }
      ]
    },
    {
      "cell_type": "code",
      "source": [
        "def reparameterize(mu, logvar):\n",
        "    N,Z = mu.shape\n",
        "    epsilon = torch.normal(torch.zeros((N,Z)),torch.ones(N,Z)).to(device)\n",
        "    sigma = torch.exp(logvar).to(device)\n",
        "\n",
        "    mu = mu.to(device)\n",
        "\n",
        "    z = sigma*epsilon + mu\n",
        "    assert(z.shape == (N,Z))\n",
        "    # ==== END SOLUTION CODE ====\n",
        "    \n",
        "    return z"
      ],
      "metadata": {
        "id": "VNJSrcxy1mTY"
      },
      "execution_count": 15,
      "outputs": []
    },
    {
      "cell_type": "code",
      "source": [
        "## we can just use the VAE defined in hw4.\n",
        "\n",
        "class AutoEncoder(nn.Module):\n",
        "    def __init__(self, height, width, latent_dim):\n",
        "        \"\"\"\n",
        "        \"\"\"\n",
        "        super().__init__()\n",
        "\n",
        "        # ==== BEGIN SOLUTION CODE ====\n",
        "        self.height = height \n",
        "        self.width = width\n",
        "        self.latent_dim = latent_dim\n",
        "        \n",
        "        self.hidden_dim = 96## not passed as a parameter when model is called \n",
        "\n",
        "        self.encoder = Encoder(self.height*self.width,hidden_dim=self.hidden_dim)\n",
        "        self.decoder = Decoder(self.latent_dim, hidden_dim=self.hidden_dim)\n",
        "\n",
        "        ## defined in HW4\n",
        "        self.mu_layer =nn.Linear(self.hidden_dim,self.latent_dim)\n",
        "        self.logvar_layer = nn.Linear(self.hidden_dim,self.latent_dim)\n",
        "        \n",
        "        \n",
        "        # ==== END SOLUTION CODE ====\n",
        "    def encode(self, x):\n",
        "        \"\"\"\n",
        "        \"\"\"\n",
        "        h = None\n",
        "        # ==== BEGIN SOLUTION CODE ====\n",
        "        hd_vector = self.encoder(x)\n",
        "        \n",
        "        self.mu = self.mu_layer(hd_vector)\n",
        "        self.logvar = self.logvar_layer(hd_vector)\n",
        "\n",
        "        h = reparameterize(self.mu, self.logvar)\n",
        "\n",
        "\n",
        "        # ==== END SOLUTION CODE ====\n",
        "        return h ## h is the latent vector (previously called z )\n",
        "\n",
        "    def decode(self, h):\n",
        "        \"\"\"\n",
        "        \"\"\"\n",
        "        x_reconstructed = None\n",
        "        # ==== BEGIN SOLUTION CODE ====\n",
        "        x_reconstructed = self.decoder(h)\n",
        "        # ==== END SOLUTION CODE ====\n",
        "        return x_reconstructed \n",
        "    \n",
        "    def forward(self, x):\n",
        "        \"\"\"\n",
        "        \"\"\"\n",
        "        ## keep in mind that we need my and logvar for the loss\n",
        "        ## we also will be using the latent vector Z to group the images which is really \n",
        "          ## z = reparameterize (mu, logvar) \n",
        "\n",
        "        x_reconstructed = None\n",
        "        # ==== BEGIN SOLUTION CODE ====\n",
        "        h = self.encode(x)\n",
        "\n",
        "        x_reconstructed = self.decode(h)\n",
        "        \n",
        "        # ==== END SOLUTION CODE ====\n",
        "        return x_reconstructed, self.mu, self.logvar\n",
        "        ##return x_reconstructed"
      ],
      "metadata": {
        "id": "W9z_1RRt3_sk"
      },
      "execution_count": 35,
      "outputs": []
    },
    {
      "cell_type": "code",
      "source": [
        "0<float('nan')"
      ],
      "metadata": {
        "colab": {
          "base_uri": "https://localhost:8080/"
        },
        "id": "P1PePSM4jCg7",
        "outputId": "2350ddf1-0ebb-4b10-94a8-747892bcd117"
      },
      "execution_count": 17,
      "outputs": [
        {
          "output_type": "execute_result",
          "data": {
            "text/plain": [
              "False"
            ]
          },
          "metadata": {},
          "execution_count": 17
        }
      ]
    },
    {
      "cell_type": "code",
      "source": [
        "#VAE_Loss(x_train_batch, x_hat, mu, logvar)\n",
        "def VAE_Loss(x, x_reconstructed, mu, logvar):\n",
        "  loss = None\n",
        "  # ==== BEGIN SOLUTION CODE ====\n",
        "  #print('mu',mu,mu.shape)\n",
        "  #print('logvar', logvar,mu.shape)\n",
        "  N,Z = mu.shape\n",
        "  #print(\"N\",N)## this is 128 the batch size\n",
        "  assert(torch.all(torch.isfinite(x_reconstructed)))\n",
        "  \n",
        "  assert(torch.all(torch.isfinite(x)))\n",
        "\n",
        "  #print(x_reconstructed[0])\n",
        "  assert(torch.all(x_reconstructed<=1))\n",
        "  assert(torch.all(x_reconstructed>=0))\n",
        "\n",
        "  assert(torch.all(x<=1))\n",
        "  assert(torch.all(x>=0))\n",
        "\n",
        "  #assert()\n",
        "  #print('x_reconstructed',x_reconstructed)\n",
        "  #print('x',x)\n",
        "  reconstruction_loss = nn.functional.binary_cross_entropy(x_reconstructed,x, reduction='sum')## using mean \n",
        "  reconstruction_loss = reconstruction_loss/int(N)\n",
        "  \n",
        "  #print('completed reconstruction_loss') ## it is the reconstruction loss that is throwing the error\n",
        "\n",
        "\n",
        "  D_KL = -.5*torch.sum(1 + logvar - mu**2 -torch.exp(logvar)) \n",
        "  D_KL_loss = D_KL/int(N) ## this will average over all samples\n",
        "  #print('completed D_KL_loss')\n",
        "  #print('loss:',(D_KL_loss + reconstruction_loss)/2)\n",
        "  return (D_KL_loss + reconstruction_loss)/2## the mean of these two losses"
      ],
      "metadata": {
        "id": "a2NTUozkB1vD"
      },
      "execution_count": 44,
      "outputs": []
    },
    {
      "cell_type": "code",
      "source": [
        "'''def VAE_Loss(x, x_reconstructed, mu, logvar):\n",
        "  loss = None\n",
        "  # ==== BEGIN SOLUTION CODE ====\n",
        "  #print('mu',mu,mu.shape)\n",
        "  #print('logvar', logvar,mu.shape)\n",
        "  N,Z = mu.shape\n",
        "  #print(\"N\",N)## this is 128 the batch size\n",
        "  assert(torch.all(torch.isfinite(x_reconstructed)))\n",
        "  \n",
        "  assert(torch.all(torch.isfinite(x)))\n",
        "  reconstruction_loss = nn.functional.binary_cross_entropy(x_reconstructed,x, reduction='sum')## using mean \n",
        "  reconstruction_loss = reconstruction_loss/int(N)\n",
        "  \n",
        "  #print('completed reconstruction_loss') ## it is the reconstruction loss that is throwing the error\n",
        "\n",
        "\n",
        "  D_KL = -.5*torch.sum(1 + logvar - mu**2 -torch.exp(logvar)) \n",
        "  D_KL_loss = D_KL/int(N) ## this will average over all samples\n",
        "  #print('completed D_KL_loss')\n",
        "  return (D_KL_loss + reconstruction_loss)#/2## the mean of these two losses'''"
      ],
      "metadata": {
        "colab": {
          "base_uri": "https://localhost:8080/"
        },
        "id": "08DliAQLkKrN",
        "outputId": "33d961bf-c0c3-43a1-d7a9-38db64f9d480"
      },
      "execution_count": 42,
      "outputs": [
        {
          "output_type": "execute_result",
          "data": {
            "text/plain": [
              "'def VAE_Loss(x, x_reconstructed, mu, logvar):\\n  loss = None\\n  # ==== BEGIN SOLUTION CODE ====\\n  #print(\\'mu\\',mu,mu.shape)\\n  #print(\\'logvar\\', logvar,mu.shape)\\n  N,Z = mu.shape\\n  #print(\"N\",N)## this is 128 the batch size\\n  assert(torch.all(torch.isfinite(x_reconstructed)))\\n  \\n  assert(torch.all(torch.isfinite(x)))\\n  reconstruction_loss = nn.functional.binary_cross_entropy(x_reconstructed,x, reduction=\\'sum\\')## using mean \\n  reconstruction_loss = reconstruction_loss/int(N)\\n  \\n  #print(\\'completed reconstruction_loss\\') ## it is the reconstruction loss that is throwing the error\\n\\n\\n  D_KL = -.5*torch.sum(1 + logvar - mu**2 -torch.exp(logvar)) \\n  D_KL_loss = D_KL/int(N) ## this will average over all samples\\n  #print(\\'completed D_KL_loss\\')\\n  return (D_KL_loss + reconstruction_loss)#/2## the mean of these two losses'"
            ]
          },
          "metadata": {},
          "execution_count": 42
        }
      ]
    },
    {
      "cell_type": "markdown",
      "source": [
        "## Autoencoder Training\n",
        "\n",
        "In the following cell, define an autoencoder (AE) and train on the training set. \n",
        "\n",
        "The AE training algorithm is as follows:\n",
        "\n",
        "1. Instantiate an `AutoEncoder` \n",
        "2. Define an optimizer for your AE\n",
        "3. For each batch of data in `loader_train`:\n",
        "    - Pass the input through the AE to get the reconstructed input, the mean and log-var approximate of the posterior\n",
        "    - Calculate the loss using the [`nn.functional.binary_cross_entropy`](https://pytorch.org/docs/stable/generated/torch.nn.functional.binary_cross_entropy.html) \n",
        "    - Zero the gradients, propagate the loss backwards, and update the  weights using the optimizer\n",
        "\n",
        "4. Repeat 3\n",
        "5. After N iterations (or every epoch), compute the validation loss over the validation set (using the `loader_validation`). \n"
      ],
      "metadata": {
        "id": "UGxY6-fS5-Qc"
      }
    },
    {
      "cell_type": "code",
      "source": [
        "model = AutoEncoder(28,28,16) # Instantiate your model to this variable\n",
        "model.to(device)\n",
        "\n",
        "\n",
        "# ==== BEGIN SOLUTION CODE ====\n",
        "EPOCHS = 50## we should time this \n",
        "optimizer = torch.optim.Adam(model.parameters(), lr=.0001)\n",
        "\n",
        "loss_stats = []\n",
        "\n",
        "#------------------\n",
        "for  epoch in tqdm(range(1,EPOCHS+1), disable = 0):\n",
        "  train_epoch_loss = 0 \n",
        "  model.train()\n",
        "  for x_train_batch, y_train_batch in tqdm(loader_train, disable = 1):\n",
        "    #print()\n",
        "    #print('batch')\n",
        "\n",
        "    x_train_batch, y_train_batch = x_train_batch.to(device), y_train_batch.to(device)\n",
        "    optimizer.zero_grad()\n",
        "\n",
        "    x_hat, mu, logvar = model(x_train_batch.float())\n",
        "    train_loss = VAE_Loss(x_train_batch, x_hat, mu, logvar)\n",
        "\n",
        "    train_loss.backward()\n",
        "    optimizer.step()\n",
        "\n",
        "    train_epoch_loss+=train_loss\n",
        "\n",
        "  loss_stats.append(train_epoch_loss)\n",
        "\n",
        "\n",
        "# ==== END SOLUTION CODE ====\n",
        "## DataLoader stats: \n",
        "\n",
        "## with 2 workers :\n",
        "## with persistent workers, at 10 epoches we have 5.91 seconds per epoch\n",
        "## without persistent workers, at 10 epoches we have 9.65\n",
        "\n",
        "\n",
        "## with 6 workers:\n",
        "## without persistent workers, we have lots of down time! \n",
        "## with persistent workers, at 10 epochs we have 6.05 seconds per epoch.  "
      ],
      "metadata": {
        "id": "aKoxFGZb59FS",
        "colab": {
          "base_uri": "https://localhost:8080/"
        },
        "outputId": "5e7ad497-0665-4dcb-8ddb-0a80cb4c2ff7"
      },
      "execution_count": 62,
      "outputs": [
        {
          "output_type": "stream",
          "name": "stderr",
          "text": [
            "100%|██████████████████████████████████████████████████████████████████████████████████| 50/50 [05:00<00:00,  6.02s/it]\n"
          ]
        }
      ]
    },
    {
      "cell_type": "code",
      "source": [
        "cpu_loss_stats =[]\n",
        "for i in loss_stats: \n",
        "  cpu_loss_stats.append(i.to('cpu').detach().numpy())\n",
        "\n",
        "plt.plot(cpu_loss_stats)"
      ],
      "metadata": {
        "colab": {
          "base_uri": "https://localhost:8080/",
          "height": 671
        },
        "id": "GA37fo4GqR-k",
        "outputId": "873df5fa-1742-409e-b033-7fe514a3f0e7"
      },
      "execution_count": 63,
      "outputs": [
        {
          "output_type": "execute_result",
          "data": {
            "text/plain": [
              "[<matplotlib.lines.Line2D at 0x27b8e249150>]"
            ]
          },
          "metadata": {},
          "execution_count": 63
        },
        {
          "output_type": "display_data",
          "data": {
            "text/plain": [
              "<Figure size 1000x800 with 1 Axes>"
            ],
            "image/png": "[encoded data removed]"
          },
          "metadata": {}
        }
      ]
    },
    {
      "cell_type": "markdown",
      "source": [
        "**Implement** the following cell to generate 36 random reconstructions from your previously trained AE model and visualize the outputs. "
      ],
      "metadata": {
        "id": "4cxGWAFrxumZ"
      }
    },
    {
      "cell_type": "code",
      "source": [
        "# ==== BEGIN SOLUTION CODE ====\n",
        "latent_size =16\n",
        "\n",
        "random_z = torch.normal(0,1,size =(36,latent_size)).to(device)## doesn't make a difference\n",
        "trained_decoder = model.decoder\n",
        "trained_decoder.eval()\n",
        "\n",
        "imgs = trained_decoder(random_z)\n",
        "show_images(imgs.cpu().detach())\n",
        "# ==== END SOLUTION CODE ===="
      ],
      "metadata": {
        "id": "pXyDl3Jg6kRc",
        "colab": {
          "base_uri": "https://localhost:8080/",
          "height": 499
        },
        "outputId": "e67023a1-d0ab-4b3a-8388-fe9e11dd1141"
      },
      "execution_count": 64,
      "outputs": [
        {
          "output_type": "display_data",
          "data": {
            "text/plain": [
              "<Figure size 600x600 with 36 Axes>"
            ],
            "image/png": "[encoded data removed]"
          },
          "metadata": {}
        }
      ]
    },
    {
      "cell_type": "markdown",
      "source": [
        "# (Part 2) Similarity Search\n",
        "\n",
        "Now using your trained model, you will generate latent vectors of the training images. This will encode the images into a vector. \n",
        "\n",
        "You will also use your trained models to encode a test image into a vector, compute a similarity measure ($L_2$ or Cosine-similarity) with the training latent vectors. "
      ],
      "metadata": {
        "id": "-o27ZbMwHZl8"
      }
    },
    {
      "cell_type": "markdown",
      "source": [
        "**Implement** the following cell to complete the `generate_latent_vectors` function. \n",
        "\n",
        "The arguments are:\n",
        "\n",
        "- `model`: The model used to generate the latent encodings\n",
        "- `dataset`: The dataset to the generate the latent encodings \n",
        "\n",
        "Returns:\n",
        "- PyTorch tensor of latent vectors computed from the dataset images using the model. It should be a 2D tensor with `len(dataset)` rows and `latent_dim` columns. \n",
        "\n",
        "Iterate over each image in the `dataset` and `encode` the images using the `model`. Make sure to turn off backprop and gradient calculations using `with torch.no_grad()` and set the model to evaluation mode using `model.eval()`. \n",
        "\n",
        "You may find the `torch.vstack` function useful."
      ],
      "metadata": {
        "id": "iu7EbzxPxx9X"
      }
    },
    {
      "cell_type": "code",
      "source": [
        "def generate_latent_vectors(model, dataset):\n",
        "    '''\n",
        "    Iterates over the dataset and uses the model to generates latent vectors.\n",
        "    Returns a Torch tensor of latent vectors of shape \n",
        "\n",
        "    Args:\n",
        "      - model : trained model\n",
        "      - dataset: PyTorch dataset of images\n",
        "    \n",
        "    Returns:\n",
        "      - latent_vectors - Torch tensor of dimension (len(dataset), latent_dim). \n",
        "    '''\n",
        "    latent_vectors = None\n",
        "    # ==== BEGIN SOLUTION CODE ====\n",
        "    encoder = model.encoder\n",
        "    encoder.eval()\n",
        "    #print(encoder)\n",
        "    #latent_vectors = torch.tensor([]).to(device)\n",
        "    with torch.no_grad(): \n",
        "      for i in tqdm(range(len(dataset))):\n",
        "        #print(dataset[i][0], dataset[i][0].shape)\n",
        "        z = encoder(dataset[i][0].reshape((1,1,28,28)).to(device))\n",
        "        if latent_vectors == None:\n",
        "          latent_vectors = z \n",
        "        else : \n",
        "          latent_vectors = torch.cat((latent_vectors,z))\n",
        "\n",
        "\n",
        "\n",
        "\n",
        "    #assert(tuple(latent_vectors.shape)==(len(dataset),latent_size))\n",
        "\n",
        "\n",
        "    # ==== END SOLUTION CODE ====\n",
        "    return latent_vectors"
      ],
      "metadata": {
        "id": "N4d3UPbHXNvY"
      },
      "execution_count": 103,
      "outputs": []
    },
    {
      "cell_type": "markdown",
      "source": [
        "**Run** the following cell to generate the latent vectors of the images from the `mnist_train` dataset using your `model` and the `generate_latent_vectors` dataset. "
      ],
      "metadata": {
        "id": "ZWPMyTjjwueQ"
      }
    },
    {
      "cell_type": "code",
      "source": [
        "training_vectors = generate_latent_vectors(model, mnist_train)"
      ],
      "metadata": {
        "id": "gqG7afFMc0KW",
        "colab": {
          "base_uri": "https://localhost:8080/"
        },
        "outputId": "0ba99da2-25c3-4b2a-92fe-1396b843dd59"
      },
      "execution_count": 104,
      "outputs": [
        {
          "output_type": "stream",
          "name": "stderr",
          "text": [
            "100%|███████████████████████████████████████████████████████████████████████████| 48000/48000 [00:58<00:00, 813.69it/s]\n"
          ]
        }
      ]
    },
    {
      "cell_type": "markdown",
      "source": [
        "**Implement** the `cosine_sim` function that computes the cosine similarity between each row of input tensors `a` and `b` and the 1-D tensor of indices with the of the `k` closest values. \n",
        "\n",
        "\n",
        "*Hint: You can use the [torch.nn.functional.cosine_similarity](https://pytorch.org/docs/stable/generated/torch.nn.functional.cosine_similarity.html#torch.nn.functional.cosine_similarity) and \n",
        "[torch.topk](https://pytorch.org/docs/stable/generated/torch.topk.html) functions. Make sure you use the appropriate parameters*  "
      ],
      "metadata": {
        "id": "37XT_cLIYVTD"
      }
    },
    {
      "cell_type": "code",
      "source": [
        "def cosine_sim(a, b, k=5):\n",
        "    # ==== BEGIN SOLUTION CODE ====\n",
        "    sim=nn.functional.cosine_similarity(a,b, dim = 1 )## largest values are most similar \n",
        "    topk = torch.topk(sim,k)\n",
        "    #print(sim)\n",
        "    return topk\n",
        "    # ==== END SOLUTION CODE ===="
      ],
      "metadata": {
        "id": "UCUKPmZ6d1r8"
      },
      "execution_count": 129,
      "outputs": []
    },
    {
      "cell_type": "markdown",
      "source": [
        "**Implement** the `l2_pairwise_dist` function that computes the cosine similarity between each row of input tensors `a` and `b` and returns the 1-D tensor of indices with the of the `k` closest values. \n",
        "\n",
        "*Hint: You can use the [torch.nn.functional.pairwise_distance](https://pytorch.org/docs/stable/generated/torch.nn.functional.pairwise_distance.html#torch.nn.functional.pairwise_distance) and \n",
        "[torch.topk](https://pytorch.org/docs/stable/generated/torch.topk.html) functions. Make sure you use the appropriate parameters*"
      ],
      "metadata": {
        "id": "j64XVqn7imro"
      }
    },
    {
      "cell_type": "code",
      "source": [
        "def l2_pairwise_dist(a, b, k=5):\n",
        "    # ==== BEGIN SOLUTION CODE ====\n",
        "    dist= nn.functional.pairwise_distance(a,b)## smallest values are most similar \n",
        "    topk = torch.topk(dist, k,largest = False)\n",
        "    \n",
        "\n",
        "    return topk \n",
        "    # ==== END SOLUTION CODE ===="
      ],
      "metadata": {
        "id": "lCu5P2t9d3Wt"
      },
      "execution_count": 136,
      "outputs": []
    },
    {
      "cell_type": "code",
      "source": [
        "input1 = torch.randn(1);input1\n",
        "input2 = torch.randn(5,7)\n",
        "TK= l2_pairwise_dist(input1, input2,3)\n",
        "TK[1]"
      ],
      "metadata": {
        "colab": {
          "base_uri": "https://localhost:8080/"
        },
        "id": "Ue02EPOk8E06",
        "outputId": "0bb408b8-981e-4384-9107-e09feb43c446"
      },
      "execution_count": 161,
      "outputs": [
        {
          "output_type": "execute_result",
          "data": {
            "text/plain": [
              "tensor([3, 2, 0])"
            ]
          },
          "metadata": {},
          "execution_count": 161
        }
      ]
    },
    {
      "cell_type": "markdown",
      "source": [
        "**Implement** the following function to find the top-k most similar images for a given image using a given 2-D array of latent vectors. \n",
        "\n",
        "The arguments are:\n",
        "    - `img`: The image to search similar images for.\n",
        "    - `model`: The trained model to use to generate latent vector of `img`.\n",
        "    - `latents`: The 2D tensor of latent vectors of the training dataset. Find the similar vectors to `img`s latent vector within this 2D tensor. \n",
        "    - `k`: The number of indices to return (default: 5)\n",
        "    - `distance_function`: The distance function to use to measure the similarity between latent vectors.  \n",
        "  \n",
        "\n",
        "Returns:\n",
        "    - The 1-D tensor of indices of the similar images to `img`\n",
        "\n",
        "\n",
        "Get the latent vector of `img` using your `model`s `encode` and then use the `distance_function` to get the `k`-nearest vectors. "
      ],
      "metadata": {
        "id": "1X7NH7cwLM_r"
      }
    },
    {
      "cell_type": "code",
      "source": [
        "def find_top_k(img, model, latents, k = 5, distance_function=cosine_sim):\n",
        "    ind = None\n",
        "    # ==== BEGIN SOLUTION CODE ====\n",
        "    encoder = model.encoder\n",
        "    z = encoder(img.reshape(1,1,28,28).to(device))\n",
        "    dist = distance_function(z,latents,k)#.indicies\n",
        "    ind = dist[1]#.indices\n",
        "    \n",
        "    # ==== END SOLUTION CODE ====\n",
        "    return ind"
      ],
      "metadata": {
        "id": "Q1E1BdNwfbNj"
      },
      "execution_count": 166,
      "outputs": []
    },
    {
      "cell_type": "markdown",
      "source": [
        "**Run** the following cell to define the top-k image visualization helper function. "
      ],
      "metadata": {
        "id": "FnR1cK8huvdB"
      }
    },
    {
      "cell_type": "code",
      "source": [
        "def show_top_k_images(root_image, images):\n",
        "\n",
        "    num_images = len(images) + 1\n",
        "    sqrtimg = int(math.ceil(math.sqrt(28)))\n",
        "\n",
        "    fig = plt.figure(figsize=(num_images*2.5, num_images*5))\n",
        "    gs = gridspec.GridSpec(1, num_images)\n",
        "    gs.update(wspace=0.05, hspace=0.05)\n",
        "    images = [root_image] + images\n",
        "\n",
        "    for i, img in enumerate(images):\n",
        "        \n",
        "        ax = plt.subplot(gs[i])\n",
        "        plt.axis(\"off\")\n",
        "        ax.set_xticklabels([])\n",
        "        ax.set_yticklabels([])\n",
        "        ax.set_aspect(\"equal\")\n",
        "        plt.imshow(img.reshape([28, 28]))\n",
        "        if i == 0:\n",
        "            ax.set_title(\"Search Image\")\n",
        "    return"
      ],
      "metadata": {
        "id": "rXfiWm3QoxVw"
      },
      "execution_count": 164,
      "outputs": []
    },
    {
      "cell_type": "markdown",
      "source": [
        "**Run** the following cell to get the 5 most similar images to an image from the test set using a cosine similarity metric.\n",
        "\n",
        "If all the above cells are completed correctly, there should be no errors, and the found images should look visually similar. "
      ],
      "metadata": {
        "id": "nF5Ttbiyu3B-"
      }
    },
    {
      "cell_type": "code",
      "source": [
        "root_img_ind = 19\n",
        "root_img = mnist_test[root_img_ind][0]\n",
        "_inds = find_top_k(root_img, model, training_vectors, k=5, distance_function= cosine_sim)\n",
        "images = []\n",
        "for i in _inds:\n",
        "    images.append(mnist_train[i][0])\n",
        "show_top_k_images(root_img, images)"
      ],
      "metadata": {
        "id": "NBd2UG6dnNgr",
        "colab": {
          "base_uri": "https://localhost:8080/",
          "height": 183
        },
        "outputId": "27e0a1e7-2cfb-4c55-88d2-36673a2f00e2"
      },
      "execution_count": 167,
      "outputs": [
        {
          "output_type": "display_data",
          "data": {
            "text/plain": [
              "<Figure size 1500x3000 with 6 Axes>"
            ],
            "image/png": "[encoded data removed]"
          },
          "metadata": {}
        }
      ]
    },
    {
      "cell_type": "markdown",
      "source": [
        "**Run** the following cell to get the 5 most similar images to an image from the test set using a $\\mathcal{l}_2$ distance.\n",
        "\n",
        "\n",
        "If all the above cells are completed correctly, there should be no errors, and the found images should look visually similar. "
      ],
      "metadata": {
        "id": "duLY_18Usuts"
      }
    },
    {
      "cell_type": "code",
      "source": [
        "root_img_ind = 19\n",
        "root_img = mnist_test[root_img_ind][0]\n",
        "_inds = find_top_k(root_img, model, training_vectors, k=5, distance_function=l2_pairwise_dist)\n",
        "images = []\n",
        "for i in _inds:\n",
        "    images.append(mnist_train[i][0])\n",
        "show_top_k_images(root_img, images)"
      ],
      "metadata": {
        "id": "fp5XZXdUnTVe",
        "colab": {
          "base_uri": "https://localhost:8080/",
          "height": 183
        },
        "outputId": "fd0a8c73-6d88-428b-af42-1649b9a48a2a"
      },
      "execution_count": 168,
      "outputs": [
        {
          "output_type": "display_data",
          "data": {
            "text/plain": [
              "<Figure size 1500x3000 with 6 Axes>"
            ],
            "image/png": "[encoded data removed]"
          },
          "metadata": {}
        }
      ]
    }
  ]
}